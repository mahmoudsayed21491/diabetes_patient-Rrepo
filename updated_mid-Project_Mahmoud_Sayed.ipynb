{
 "cells": [
  {
   "cell_type": "markdown",
   "id": "f6402bf5",
   "metadata": {},
   "source": [
    "# Import necessary Libraries"
   ]
  },
  {
   "cell_type": "code",
   "execution_count": 5,
   "id": "9270972f",
   "metadata": {},
   "outputs": [],
   "source": [
    "import pandas as pd\n",
    "import numpy as np\n",
    "import plotly.express as px\n",
    "import seaborn as sns\n",
    "from imblearn.under_sampling import RandomUnderSampler\n",
    "from imblearn.over_sampling import RandomOverSampler,SMOTE\n",
    "from sklearn.impute import SimpleImputer,KNNImputer\n",
    "from sklearn.preprocessing import OneHotEncoder,OrdinalEncoder"
   ]
  },
  {
   "cell_type": "code",
   "execution_count": 6,
   "id": "5a3191b2",
   "metadata": {},
   "outputs": [],
   "source": [
    "pd.set_option('display.max_columns', None)"
   ]
  },
  {
   "cell_type": "markdown",
   "id": "f30be17c",
   "metadata": {},
   "source": [
    "# Load Dataset"
   ]
  },
  {
   "cell_type": "code",
   "execution_count": 7,
   "id": "afcdc478",
   "metadata": {},
   "outputs": [
    {
     "data": {
      "text/html": [
       "<div>\n",
       "<style scoped>\n",
       "    .dataframe tbody tr th:only-of-type {\n",
       "        vertical-align: middle;\n",
       "    }\n",
       "\n",
       "    .dataframe tbody tr th {\n",
       "        vertical-align: top;\n",
       "    }\n",
       "\n",
       "    .dataframe thead th {\n",
       "        text-align: right;\n",
       "    }\n",
       "</style>\n",
       "<table border=\"1\" class=\"dataframe\">\n",
       "  <thead>\n",
       "    <tr style=\"text-align: right;\">\n",
       "      <th></th>\n",
       "      <th>Visit_Date</th>\n",
       "      <th>Patient_ID</th>\n",
       "      <th>Age</th>\n",
       "      <th>Gender</th>\n",
       "      <th>Diagnosis</th>\n",
       "      <th>Has_Insurance</th>\n",
       "      <th>Area</th>\n",
       "      <th>Total_Cost</th>\n",
       "      <th>Registration time</th>\n",
       "      <th>Nursing time</th>\n",
       "      <th>Laboratory time</th>\n",
       "      <th>Consultation time</th>\n",
       "      <th>Pharmacy time</th>\n",
       "    </tr>\n",
       "  </thead>\n",
       "  <tbody>\n",
       "    <tr>\n",
       "      <th>0</th>\n",
       "      <td>1/1/2019</td>\n",
       "      <td>4174</td>\n",
       "      <td>28</td>\n",
       "      <td>Male</td>\n",
       "      <td>Type 1 Diabetes</td>\n",
       "      <td>Yes</td>\n",
       "      <td>Downtown Dubai</td>\n",
       "      <td>711.975905</td>\n",
       "      <td>21.6</td>\n",
       "      <td>21.1</td>\n",
       "      <td>29.6</td>\n",
       "      <td>25.8</td>\n",
       "      <td>28.2</td>\n",
       "    </tr>\n",
       "    <tr>\n",
       "      <th>1</th>\n",
       "      <td>1/1/2019</td>\n",
       "      <td>4507</td>\n",
       "      <td>62</td>\n",
       "      <td>Female</td>\n",
       "      <td>Type 2 Diabetes</td>\n",
       "      <td>Yes</td>\n",
       "      <td>Downtown Dubai</td>\n",
       "      <td>507.680147</td>\n",
       "      <td>13.0</td>\n",
       "      <td>50.9</td>\n",
       "      <td>34.8</td>\n",
       "      <td>26.3</td>\n",
       "      <td>23.2</td>\n",
       "    </tr>\n",
       "    <tr>\n",
       "      <th>2</th>\n",
       "      <td>1/1/2019</td>\n",
       "      <td>1860</td>\n",
       "      <td>47</td>\n",
       "      <td>Male</td>\n",
       "      <td>Prediabetes</td>\n",
       "      <td>Yes</td>\n",
       "      <td>Downtown Dubai</td>\n",
       "      <td>317.582770</td>\n",
       "      <td>27.3</td>\n",
       "      <td>20.9</td>\n",
       "      <td>23.9</td>\n",
       "      <td>35.1</td>\n",
       "      <td>14.8</td>\n",
       "    </tr>\n",
       "    <tr>\n",
       "      <th>3</th>\n",
       "      <td>1/1/2019</td>\n",
       "      <td>2294</td>\n",
       "      <td>10</td>\n",
       "      <td>Female</td>\n",
       "      <td>Type 2 Diabetes</td>\n",
       "      <td>Yes</td>\n",
       "      <td>Downtown Dubai</td>\n",
       "      <td>484.387822</td>\n",
       "      <td>19.2</td>\n",
       "      <td>30.8</td>\n",
       "      <td>22.9</td>\n",
       "      <td>20.6</td>\n",
       "      <td>21.9</td>\n",
       "    </tr>\n",
       "    <tr>\n",
       "      <th>4</th>\n",
       "      <td>1/1/2019</td>\n",
       "      <td>2130</td>\n",
       "      <td>66</td>\n",
       "      <td>Male</td>\n",
       "      <td>Type 2 Diabetes</td>\n",
       "      <td>Yes</td>\n",
       "      <td>Downtown Dubai</td>\n",
       "      <td>118.649105</td>\n",
       "      <td>13.3</td>\n",
       "      <td>29.1</td>\n",
       "      <td>19.5</td>\n",
       "      <td>34.2</td>\n",
       "      <td>36.6</td>\n",
       "    </tr>\n",
       "    <tr>\n",
       "      <th>...</th>\n",
       "      <td>...</td>\n",
       "      <td>...</td>\n",
       "      <td>...</td>\n",
       "      <td>...</td>\n",
       "      <td>...</td>\n",
       "      <td>...</td>\n",
       "      <td>...</td>\n",
       "      <td>...</td>\n",
       "      <td>...</td>\n",
       "      <td>...</td>\n",
       "      <td>...</td>\n",
       "      <td>...</td>\n",
       "      <td>...</td>\n",
       "    </tr>\n",
       "    <tr>\n",
       "      <th>504995</th>\n",
       "      <td>9/12/2024</td>\n",
       "      <td>3161</td>\n",
       "      <td>69</td>\n",
       "      <td>Male</td>\n",
       "      <td>NaN</td>\n",
       "      <td>NaN</td>\n",
       "      <td>Downtown Dubai</td>\n",
       "      <td>722.692827</td>\n",
       "      <td>1.3</td>\n",
       "      <td>35.8</td>\n",
       "      <td>20.1</td>\n",
       "      <td>37.2</td>\n",
       "      <td>41.9</td>\n",
       "    </tr>\n",
       "    <tr>\n",
       "      <th>504996</th>\n",
       "      <td>8/8/2021</td>\n",
       "      <td>4417</td>\n",
       "      <td>49</td>\n",
       "      <td>Male</td>\n",
       "      <td>NaN</td>\n",
       "      <td>NaN</td>\n",
       "      <td>Jumeirah</td>\n",
       "      <td>1030.457617</td>\n",
       "      <td>20.2</td>\n",
       "      <td>17.9</td>\n",
       "      <td>29.4</td>\n",
       "      <td>23.7</td>\n",
       "      <td>19.1</td>\n",
       "    </tr>\n",
       "    <tr>\n",
       "      <th>504997</th>\n",
       "      <td>11/22/2021</td>\n",
       "      <td>1910</td>\n",
       "      <td>53</td>\n",
       "      <td>Male</td>\n",
       "      <td>NaN</td>\n",
       "      <td>NaN</td>\n",
       "      <td>Dubai Marina</td>\n",
       "      <td>232.914917</td>\n",
       "      <td>22.4</td>\n",
       "      <td>46.0</td>\n",
       "      <td>31.3</td>\n",
       "      <td>30.6</td>\n",
       "      <td>34.9</td>\n",
       "    </tr>\n",
       "    <tr>\n",
       "      <th>504998</th>\n",
       "      <td>8/26/2020</td>\n",
       "      <td>3759</td>\n",
       "      <td>30</td>\n",
       "      <td>Male</td>\n",
       "      <td>NaN</td>\n",
       "      <td>NaN</td>\n",
       "      <td>Downtown Dubai</td>\n",
       "      <td>251.977863</td>\n",
       "      <td>16.3</td>\n",
       "      <td>15.2</td>\n",
       "      <td>24.8</td>\n",
       "      <td>24.3</td>\n",
       "      <td>40.6</td>\n",
       "    </tr>\n",
       "    <tr>\n",
       "      <th>504999</th>\n",
       "      <td>10/28/2022</td>\n",
       "      <td>4310</td>\n",
       "      <td>35</td>\n",
       "      <td>Female</td>\n",
       "      <td>Type 3 Diabetes</td>\n",
       "      <td>NaN</td>\n",
       "      <td>Downtown Dubai</td>\n",
       "      <td>-560.601601</td>\n",
       "      <td>454.0</td>\n",
       "      <td>242.0</td>\n",
       "      <td>498.0</td>\n",
       "      <td>222.0</td>\n",
       "      <td>346.0</td>\n",
       "    </tr>\n",
       "  </tbody>\n",
       "</table>\n",
       "<p>505000 rows × 13 columns</p>\n",
       "</div>"
      ],
      "text/plain": [
       "        Visit_Date  Patient_ID  Age  Gender        Diagnosis Has_Insurance  \\\n",
       "0         1/1/2019        4174   28    Male  Type 1 Diabetes           Yes   \n",
       "1         1/1/2019        4507   62  Female  Type 2 Diabetes           Yes   \n",
       "2         1/1/2019        1860   47    Male      Prediabetes           Yes   \n",
       "3         1/1/2019        2294   10  Female  Type 2 Diabetes           Yes   \n",
       "4         1/1/2019        2130   66    Male  Type 2 Diabetes           Yes   \n",
       "...            ...         ...  ...     ...              ...           ...   \n",
       "504995   9/12/2024        3161   69    Male              NaN           NaN   \n",
       "504996    8/8/2021        4417   49    Male              NaN           NaN   \n",
       "504997  11/22/2021        1910   53    Male              NaN           NaN   \n",
       "504998   8/26/2020        3759   30    Male              NaN           NaN   \n",
       "504999  10/28/2022        4310   35  Female  Type 3 Diabetes           NaN   \n",
       "\n",
       "                  Area   Total_Cost  Registration time  Nursing time  \\\n",
       "0       Downtown Dubai   711.975905               21.6          21.1   \n",
       "1       Downtown Dubai   507.680147               13.0          50.9   \n",
       "2       Downtown Dubai   317.582770               27.3          20.9   \n",
       "3       Downtown Dubai   484.387822               19.2          30.8   \n",
       "4       Downtown Dubai   118.649105               13.3          29.1   \n",
       "...                ...          ...                ...           ...   \n",
       "504995  Downtown Dubai   722.692827                1.3          35.8   \n",
       "504996        Jumeirah  1030.457617               20.2          17.9   \n",
       "504997    Dubai Marina   232.914917               22.4          46.0   \n",
       "504998  Downtown Dubai   251.977863               16.3          15.2   \n",
       "504999  Downtown Dubai  -560.601601              454.0         242.0   \n",
       "\n",
       "        Laboratory time  Consultation time  Pharmacy time  \n",
       "0                  29.6               25.8           28.2  \n",
       "1                  34.8               26.3           23.2  \n",
       "2                  23.9               35.1           14.8  \n",
       "3                  22.9               20.6           21.9  \n",
       "4                  19.5               34.2           36.6  \n",
       "...                 ...                ...            ...  \n",
       "504995             20.1               37.2           41.9  \n",
       "504996             29.4               23.7           19.1  \n",
       "504997             31.3               30.6           34.9  \n",
       "504998             24.8               24.3           40.6  \n",
       "504999            498.0              222.0          346.0  \n",
       "\n",
       "[505000 rows x 13 columns]"
      ]
     },
     "execution_count": 7,
     "metadata": {},
     "output_type": "execute_result"
    }
   ],
   "source": [
    "df = pd.read_csv('E:/data science & python/mid project mahmoud sayed/patient_dataset.csv')\n",
    "df"
   ]
  },
  {
   "cell_type": "markdown",
   "id": "e4a2797f",
   "metadata": {},
   "source": [
    "# Data Exploration"
   ]
  },
  {
   "cell_type": "code",
   "execution_count": 8,
   "id": "c953e8c3",
   "metadata": {},
   "outputs": [
    {
     "name": "stdout",
     "output_type": "stream",
     "text": [
      "<class 'pandas.core.frame.DataFrame'>\n",
      "RangeIndex: 505000 entries, 0 to 504999\n",
      "Data columns (total 13 columns):\n",
      " #   Column             Non-Null Count   Dtype  \n",
      "---  ------             --------------   -----  \n",
      " 0   Visit_Date         505000 non-null  object \n",
      " 1   Patient_ID         505000 non-null  int64  \n",
      " 2   Age                505000 non-null  int64  \n",
      " 3   Gender             494798 non-null  object \n",
      " 4   Diagnosis          472288 non-null  object \n",
      " 5   Has_Insurance      451050 non-null  object \n",
      " 6   Area               505000 non-null  object \n",
      " 7   Total_Cost         505000 non-null  float64\n",
      " 8   Registration time  505000 non-null  float64\n",
      " 9   Nursing time       505000 non-null  float64\n",
      " 10  Laboratory time    505000 non-null  float64\n",
      " 11  Consultation time  505000 non-null  float64\n",
      " 12  Pharmacy time      505000 non-null  float64\n",
      "dtypes: float64(6), int64(2), object(5)\n",
      "memory usage: 50.1+ MB\n"
     ]
    }
   ],
   "source": [
    "# check data types\n",
    "df.info()"
   ]
  },
  {
   "cell_type": "code",
   "execution_count": 9,
   "id": "08544247",
   "metadata": {},
   "outputs": [
    {
     "data": {
      "text/html": [
       "<div>\n",
       "<style scoped>\n",
       "    .dataframe tbody tr th:only-of-type {\n",
       "        vertical-align: middle;\n",
       "    }\n",
       "\n",
       "    .dataframe tbody tr th {\n",
       "        vertical-align: top;\n",
       "    }\n",
       "\n",
       "    .dataframe thead th {\n",
       "        text-align: right;\n",
       "    }\n",
       "</style>\n",
       "<table border=\"1\" class=\"dataframe\">\n",
       "  <thead>\n",
       "    <tr style=\"text-align: right;\">\n",
       "      <th></th>\n",
       "      <th>Patient_ID</th>\n",
       "      <th>Age</th>\n",
       "      <th>Total_Cost</th>\n",
       "      <th>Registration time</th>\n",
       "      <th>Nursing time</th>\n",
       "      <th>Laboratory time</th>\n",
       "      <th>Consultation time</th>\n",
       "      <th>Pharmacy time</th>\n",
       "    </tr>\n",
       "  </thead>\n",
       "  <tbody>\n",
       "    <tr>\n",
       "      <th>count</th>\n",
       "      <td>505000.00</td>\n",
       "      <td>505000.00</td>\n",
       "      <td>505000.00</td>\n",
       "      <td>505000.00</td>\n",
       "      <td>505000.00</td>\n",
       "      <td>505000.00</td>\n",
       "      <td>505000.00</td>\n",
       "      <td>505000.00</td>\n",
       "    </tr>\n",
       "    <tr>\n",
       "      <th>mean</th>\n",
       "      <td>2999.23</td>\n",
       "      <td>34.81</td>\n",
       "      <td>431.17</td>\n",
       "      <td>32.02</td>\n",
       "      <td>36.74</td>\n",
       "      <td>36.78</td>\n",
       "      <td>36.70</td>\n",
       "      <td>36.69</td>\n",
       "    </tr>\n",
       "    <tr>\n",
       "      <th>std</th>\n",
       "      <td>1154.15</td>\n",
       "      <td>19.26</td>\n",
       "      <td>278.66</td>\n",
       "      <td>58.94</td>\n",
       "      <td>58.24</td>\n",
       "      <td>58.22</td>\n",
       "      <td>58.02</td>\n",
       "      <td>58.07</td>\n",
       "    </tr>\n",
       "    <tr>\n",
       "      <th>min</th>\n",
       "      <td>1000.00</td>\n",
       "      <td>0.00</td>\n",
       "      <td>-2039.94</td>\n",
       "      <td>0.00</td>\n",
       "      <td>0.00</td>\n",
       "      <td>0.00</td>\n",
       "      <td>0.00</td>\n",
       "      <td>0.00</td>\n",
       "    </tr>\n",
       "    <tr>\n",
       "      <th>25%</th>\n",
       "      <td>2000.00</td>\n",
       "      <td>21.00</td>\n",
       "      <td>241.26</td>\n",
       "      <td>14.30</td>\n",
       "      <td>19.30</td>\n",
       "      <td>19.40</td>\n",
       "      <td>19.30</td>\n",
       "      <td>19.30</td>\n",
       "    </tr>\n",
       "    <tr>\n",
       "      <th>50%</th>\n",
       "      <td>2997.00</td>\n",
       "      <td>34.00</td>\n",
       "      <td>386.13</td>\n",
       "      <td>21.80</td>\n",
       "      <td>26.80</td>\n",
       "      <td>26.90</td>\n",
       "      <td>26.80</td>\n",
       "      <td>26.80</td>\n",
       "    </tr>\n",
       "    <tr>\n",
       "      <th>75%</th>\n",
       "      <td>3999.00</td>\n",
       "      <td>48.00</td>\n",
       "      <td>576.77</td>\n",
       "      <td>30.00</td>\n",
       "      <td>35.00</td>\n",
       "      <td>35.10</td>\n",
       "      <td>35.00</td>\n",
       "      <td>35.00</td>\n",
       "    </tr>\n",
       "    <tr>\n",
       "      <th>max</th>\n",
       "      <td>4999.00</td>\n",
       "      <td>100.00</td>\n",
       "      <td>2853.43</td>\n",
       "      <td>499.00</td>\n",
       "      <td>499.00</td>\n",
       "      <td>499.00</td>\n",
       "      <td>499.00</td>\n",
       "      <td>499.00</td>\n",
       "    </tr>\n",
       "  </tbody>\n",
       "</table>\n",
       "</div>"
      ],
      "text/plain": [
       "       Patient_ID        Age  Total_Cost  Registration time  Nursing time  \\\n",
       "count   505000.00  505000.00   505000.00          505000.00     505000.00   \n",
       "mean      2999.23      34.81      431.17              32.02         36.74   \n",
       "std       1154.15      19.26      278.66              58.94         58.24   \n",
       "min       1000.00       0.00    -2039.94               0.00          0.00   \n",
       "25%       2000.00      21.00      241.26              14.30         19.30   \n",
       "50%       2997.00      34.00      386.13              21.80         26.80   \n",
       "75%       3999.00      48.00      576.77              30.00         35.00   \n",
       "max       4999.00     100.00     2853.43             499.00        499.00   \n",
       "\n",
       "       Laboratory time  Consultation time  Pharmacy time  \n",
       "count        505000.00          505000.00      505000.00  \n",
       "mean             36.78              36.70          36.69  \n",
       "std              58.22              58.02          58.07  \n",
       "min               0.00               0.00           0.00  \n",
       "25%              19.40              19.30          19.30  \n",
       "50%              26.90              26.80          26.80  \n",
       "75%              35.10              35.00          35.00  \n",
       "max             499.00             499.00         499.00  "
      ]
     },
     "execution_count": 9,
     "metadata": {},
     "output_type": "execute_result"
    }
   ],
   "source": [
    "# Check summary statistics fro numerical\n",
    "df.describe().round(2)"
   ]
  },
  {
   "cell_type": "code",
   "execution_count": 10,
   "id": "ed367de5",
   "metadata": {},
   "outputs": [
    {
     "data": {
      "text/html": [
       "<div>\n",
       "<style scoped>\n",
       "    .dataframe tbody tr th:only-of-type {\n",
       "        vertical-align: middle;\n",
       "    }\n",
       "\n",
       "    .dataframe tbody tr th {\n",
       "        vertical-align: top;\n",
       "    }\n",
       "\n",
       "    .dataframe thead th {\n",
       "        text-align: right;\n",
       "    }\n",
       "</style>\n",
       "<table border=\"1\" class=\"dataframe\">\n",
       "  <thead>\n",
       "    <tr style=\"text-align: right;\">\n",
       "      <th></th>\n",
       "      <th>Visit_Date</th>\n",
       "      <th>Gender</th>\n",
       "      <th>Diagnosis</th>\n",
       "      <th>Has_Insurance</th>\n",
       "      <th>Area</th>\n",
       "    </tr>\n",
       "  </thead>\n",
       "  <tbody>\n",
       "    <tr>\n",
       "      <th>count</th>\n",
       "      <td>505000</td>\n",
       "      <td>494798</td>\n",
       "      <td>472288</td>\n",
       "      <td>451050</td>\n",
       "      <td>505000</td>\n",
       "    </tr>\n",
       "    <tr>\n",
       "      <th>unique</th>\n",
       "      <td>2192</td>\n",
       "      <td>3</td>\n",
       "      <td>7</td>\n",
       "      <td>2</td>\n",
       "      <td>9</td>\n",
       "    </tr>\n",
       "    <tr>\n",
       "      <th>top</th>\n",
       "      <td>8/31/2024</td>\n",
       "      <td>Male</td>\n",
       "      <td>Type 2 Diabetes</td>\n",
       "      <td>Yes</td>\n",
       "      <td>Downtown Dubai</td>\n",
       "    </tr>\n",
       "    <tr>\n",
       "      <th>freq</th>\n",
       "      <td>237</td>\n",
       "      <td>303448</td>\n",
       "      <td>327064</td>\n",
       "      <td>380038</td>\n",
       "      <td>218636</td>\n",
       "    </tr>\n",
       "  </tbody>\n",
       "</table>\n",
       "</div>"
      ],
      "text/plain": [
       "       Visit_Date  Gender        Diagnosis Has_Insurance            Area\n",
       "count      505000  494798           472288        451050          505000\n",
       "unique       2192       3                7             2               9\n",
       "top     8/31/2024    Male  Type 2 Diabetes           Yes  Downtown Dubai\n",
       "freq          237  303448           327064        380038          218636"
      ]
     },
     "execution_count": 10,
     "metadata": {},
     "output_type": "execute_result"
    }
   ],
   "source": [
    "# Check summary statistics fro categorical\n",
    "df.describe(include= 'object')"
   ]
  },
  {
   "cell_type": "code",
   "execution_count": 11,
   "id": "fe135806",
   "metadata": {},
   "outputs": [
    {
     "data": {
      "text/plain": [
       "Visit_Date               0\n",
       "Patient_ID               0\n",
       "Age                      0\n",
       "Gender               10202\n",
       "Diagnosis            32712\n",
       "Has_Insurance        53950\n",
       "Area                     0\n",
       "Total_Cost               0\n",
       "Registration time        0\n",
       "Nursing time             0\n",
       "Laboratory time          0\n",
       "Consultation time        0\n",
       "Pharmacy time            0\n",
       "dtype: int64"
      ]
     },
     "execution_count": 11,
     "metadata": {},
     "output_type": "execute_result"
    }
   ],
   "source": [
    "# check missing values\n",
    "df.isna().sum()"
   ]
  },
  {
   "cell_type": "code",
   "execution_count": 12,
   "id": "8020cad3",
   "metadata": {},
   "outputs": [
    {
     "data": {
      "text/plain": [
       "Visit_Date            0.00\n",
       "Patient_ID            0.00\n",
       "Age                   0.00\n",
       "Gender                2.02\n",
       "Diagnosis             6.48\n",
       "Has_Insurance        10.68\n",
       "Area                  0.00\n",
       "Total_Cost            0.00\n",
       "Registration time     0.00\n",
       "Nursing time          0.00\n",
       "Laboratory time       0.00\n",
       "Consultation time     0.00\n",
       "Pharmacy time         0.00\n",
       "dtype: float64"
      ]
     },
     "execution_count": 12,
     "metadata": {},
     "output_type": "execute_result"
    }
   ],
   "source": [
    "# check missing values percentage\n",
    "(df.isna().mean()*100).round(2)"
   ]
  },
  {
   "cell_type": "code",
   "execution_count": 13,
   "id": "11865077",
   "metadata": {},
   "outputs": [
    {
     "data": {
      "text/plain": [
       "np.int64(4243)"
      ]
     },
     "execution_count": 13,
     "metadata": {},
     "output_type": "execute_result"
    }
   ],
   "source": [
    "# check duplicates\n",
    "df.duplicated().sum()"
   ]
  },
  {
   "cell_type": "code",
   "execution_count": 14,
   "id": "f71d1ddd",
   "metadata": {},
   "outputs": [
    {
     "data": {
      "text/html": [
       "<div>\n",
       "<style scoped>\n",
       "    .dataframe tbody tr th:only-of-type {\n",
       "        vertical-align: middle;\n",
       "    }\n",
       "\n",
       "    .dataframe tbody tr th {\n",
       "        vertical-align: top;\n",
       "    }\n",
       "\n",
       "    .dataframe thead th {\n",
       "        text-align: right;\n",
       "    }\n",
       "</style>\n",
       "<table border=\"1\" class=\"dataframe\">\n",
       "  <thead>\n",
       "    <tr style=\"text-align: right;\">\n",
       "      <th></th>\n",
       "      <th>Visit_Date</th>\n",
       "      <th>Patient_ID</th>\n",
       "      <th>Age</th>\n",
       "      <th>Gender</th>\n",
       "      <th>Diagnosis</th>\n",
       "      <th>Has_Insurance</th>\n",
       "      <th>Area</th>\n",
       "      <th>Total_Cost</th>\n",
       "      <th>Registration time</th>\n",
       "      <th>Nursing time</th>\n",
       "      <th>Laboratory time</th>\n",
       "      <th>Consultation time</th>\n",
       "      <th>Pharmacy time</th>\n",
       "    </tr>\n",
       "  </thead>\n",
       "  <tbody>\n",
       "    <tr>\n",
       "      <th>500000</th>\n",
       "      <td>4/1/2020</td>\n",
       "      <td>4284</td>\n",
       "      <td>19</td>\n",
       "      <td>Female</td>\n",
       "      <td>NaN</td>\n",
       "      <td>NaN</td>\n",
       "      <td>Jumeirah</td>\n",
       "      <td>456.054694</td>\n",
       "      <td>29.8</td>\n",
       "      <td>29.7</td>\n",
       "      <td>26.1</td>\n",
       "      <td>25.9</td>\n",
       "      <td>19.7</td>\n",
       "    </tr>\n",
       "    <tr>\n",
       "      <th>500001</th>\n",
       "      <td>5/24/2021</td>\n",
       "      <td>4431</td>\n",
       "      <td>92</td>\n",
       "      <td>Female</td>\n",
       "      <td>NaN</td>\n",
       "      <td>NaN</td>\n",
       "      <td>Al Barsha</td>\n",
       "      <td>389.295801</td>\n",
       "      <td>20.9</td>\n",
       "      <td>34.0</td>\n",
       "      <td>27.9</td>\n",
       "      <td>32.8</td>\n",
       "      <td>38.3</td>\n",
       "    </tr>\n",
       "    <tr>\n",
       "      <th>500002</th>\n",
       "      <td>9/6/2020</td>\n",
       "      <td>2733</td>\n",
       "      <td>0</td>\n",
       "      <td>Female</td>\n",
       "      <td>NaN</td>\n",
       "      <td>NaN</td>\n",
       "      <td>Al Qusais</td>\n",
       "      <td>578.583086</td>\n",
       "      <td>31.6</td>\n",
       "      <td>33.5</td>\n",
       "      <td>26.2</td>\n",
       "      <td>30.3</td>\n",
       "      <td>41.8</td>\n",
       "    </tr>\n",
       "    <tr>\n",
       "      <th>500003</th>\n",
       "      <td>8/4/2020</td>\n",
       "      <td>1970</td>\n",
       "      <td>16</td>\n",
       "      <td>Male</td>\n",
       "      <td>NaN</td>\n",
       "      <td>NaN</td>\n",
       "      <td>Al Barsha</td>\n",
       "      <td>227.433144</td>\n",
       "      <td>27.3</td>\n",
       "      <td>41.0</td>\n",
       "      <td>34.8</td>\n",
       "      <td>27.9</td>\n",
       "      <td>10.5</td>\n",
       "    </tr>\n",
       "    <tr>\n",
       "      <th>500004</th>\n",
       "      <td>11/26/2023</td>\n",
       "      <td>2310</td>\n",
       "      <td>31</td>\n",
       "      <td>Male</td>\n",
       "      <td>NaN</td>\n",
       "      <td>NaN</td>\n",
       "      <td>Dubai Silicon Oasis</td>\n",
       "      <td>392.196215</td>\n",
       "      <td>15.2</td>\n",
       "      <td>8.9</td>\n",
       "      <td>19.5</td>\n",
       "      <td>32.6</td>\n",
       "      <td>36.8</td>\n",
       "    </tr>\n",
       "    <tr>\n",
       "      <th>...</th>\n",
       "      <td>...</td>\n",
       "      <td>...</td>\n",
       "      <td>...</td>\n",
       "      <td>...</td>\n",
       "      <td>...</td>\n",
       "      <td>...</td>\n",
       "      <td>...</td>\n",
       "      <td>...</td>\n",
       "      <td>...</td>\n",
       "      <td>...</td>\n",
       "      <td>...</td>\n",
       "      <td>...</td>\n",
       "      <td>...</td>\n",
       "    </tr>\n",
       "    <tr>\n",
       "      <th>504994</th>\n",
       "      <td>9/25/2024</td>\n",
       "      <td>2452</td>\n",
       "      <td>53</td>\n",
       "      <td>Male</td>\n",
       "      <td>NaN</td>\n",
       "      <td>NaN</td>\n",
       "      <td>Dubai Marina</td>\n",
       "      <td>145.817529</td>\n",
       "      <td>24.4</td>\n",
       "      <td>24.4</td>\n",
       "      <td>36.6</td>\n",
       "      <td>25.6</td>\n",
       "      <td>19.7</td>\n",
       "    </tr>\n",
       "    <tr>\n",
       "      <th>504995</th>\n",
       "      <td>9/12/2024</td>\n",
       "      <td>3161</td>\n",
       "      <td>69</td>\n",
       "      <td>Male</td>\n",
       "      <td>NaN</td>\n",
       "      <td>NaN</td>\n",
       "      <td>Downtown Dubai</td>\n",
       "      <td>722.692827</td>\n",
       "      <td>1.3</td>\n",
       "      <td>35.8</td>\n",
       "      <td>20.1</td>\n",
       "      <td>37.2</td>\n",
       "      <td>41.9</td>\n",
       "    </tr>\n",
       "    <tr>\n",
       "      <th>504996</th>\n",
       "      <td>8/8/2021</td>\n",
       "      <td>4417</td>\n",
       "      <td>49</td>\n",
       "      <td>Male</td>\n",
       "      <td>NaN</td>\n",
       "      <td>NaN</td>\n",
       "      <td>Jumeirah</td>\n",
       "      <td>1030.457617</td>\n",
       "      <td>20.2</td>\n",
       "      <td>17.9</td>\n",
       "      <td>29.4</td>\n",
       "      <td>23.7</td>\n",
       "      <td>19.1</td>\n",
       "    </tr>\n",
       "    <tr>\n",
       "      <th>504997</th>\n",
       "      <td>11/22/2021</td>\n",
       "      <td>1910</td>\n",
       "      <td>53</td>\n",
       "      <td>Male</td>\n",
       "      <td>NaN</td>\n",
       "      <td>NaN</td>\n",
       "      <td>Dubai Marina</td>\n",
       "      <td>232.914917</td>\n",
       "      <td>22.4</td>\n",
       "      <td>46.0</td>\n",
       "      <td>31.3</td>\n",
       "      <td>30.6</td>\n",
       "      <td>34.9</td>\n",
       "    </tr>\n",
       "    <tr>\n",
       "      <th>504998</th>\n",
       "      <td>8/26/2020</td>\n",
       "      <td>3759</td>\n",
       "      <td>30</td>\n",
       "      <td>Male</td>\n",
       "      <td>NaN</td>\n",
       "      <td>NaN</td>\n",
       "      <td>Downtown Dubai</td>\n",
       "      <td>251.977863</td>\n",
       "      <td>16.3</td>\n",
       "      <td>15.2</td>\n",
       "      <td>24.8</td>\n",
       "      <td>24.3</td>\n",
       "      <td>40.6</td>\n",
       "    </tr>\n",
       "  </tbody>\n",
       "</table>\n",
       "<p>4243 rows × 13 columns</p>\n",
       "</div>"
      ],
      "text/plain": [
       "        Visit_Date  Patient_ID  Age  Gender Diagnosis Has_Insurance  \\\n",
       "500000    4/1/2020        4284   19  Female       NaN           NaN   \n",
       "500001   5/24/2021        4431   92  Female       NaN           NaN   \n",
       "500002    9/6/2020        2733    0  Female       NaN           NaN   \n",
       "500003    8/4/2020        1970   16    Male       NaN           NaN   \n",
       "500004  11/26/2023        2310   31    Male       NaN           NaN   \n",
       "...            ...         ...  ...     ...       ...           ...   \n",
       "504994   9/25/2024        2452   53    Male       NaN           NaN   \n",
       "504995   9/12/2024        3161   69    Male       NaN           NaN   \n",
       "504996    8/8/2021        4417   49    Male       NaN           NaN   \n",
       "504997  11/22/2021        1910   53    Male       NaN           NaN   \n",
       "504998   8/26/2020        3759   30    Male       NaN           NaN   \n",
       "\n",
       "                       Area   Total_Cost  Registration time  Nursing time  \\\n",
       "500000             Jumeirah   456.054694               29.8          29.7   \n",
       "500001            Al Barsha   389.295801               20.9          34.0   \n",
       "500002            Al Qusais   578.583086               31.6          33.5   \n",
       "500003            Al Barsha   227.433144               27.3          41.0   \n",
       "500004  Dubai Silicon Oasis   392.196215               15.2           8.9   \n",
       "...                     ...          ...                ...           ...   \n",
       "504994         Dubai Marina   145.817529               24.4          24.4   \n",
       "504995       Downtown Dubai   722.692827                1.3          35.8   \n",
       "504996             Jumeirah  1030.457617               20.2          17.9   \n",
       "504997         Dubai Marina   232.914917               22.4          46.0   \n",
       "504998       Downtown Dubai   251.977863               16.3          15.2   \n",
       "\n",
       "        Laboratory time  Consultation time  Pharmacy time  \n",
       "500000             26.1               25.9           19.7  \n",
       "500001             27.9               32.8           38.3  \n",
       "500002             26.2               30.3           41.8  \n",
       "500003             34.8               27.9           10.5  \n",
       "500004             19.5               32.6           36.8  \n",
       "...                 ...                ...            ...  \n",
       "504994             36.6               25.6           19.7  \n",
       "504995             20.1               37.2           41.9  \n",
       "504996             29.4               23.7           19.1  \n",
       "504997             31.3               30.6           34.9  \n",
       "504998             24.8               24.3           40.6  \n",
       "\n",
       "[4243 rows x 13 columns]"
      ]
     },
     "execution_count": 14,
     "metadata": {},
     "output_type": "execute_result"
    }
   ],
   "source": [
    "df[df.duplicated()]"
   ]
  },
  {
   "cell_type": "code",
   "execution_count": 15,
   "id": "9aa9628c",
   "metadata": {},
   "outputs": [],
   "source": [
    "# delete duplicates \n",
    "df.drop_duplicates(inplace= True , ignore_index= True)"
   ]
  },
  {
   "cell_type": "code",
   "execution_count": 16,
   "id": "617f3e6e",
   "metadata": {},
   "outputs": [
    {
     "data": {
      "text/plain": [
       "np.int64(0)"
      ]
     },
     "execution_count": 16,
     "metadata": {},
     "output_type": "execute_result"
    }
   ],
   "source": [
    "# check after delete duplicates \n",
    "df.duplicated().sum()"
   ]
  },
  {
   "cell_type": "code",
   "execution_count": 17,
   "id": "b3f62d41",
   "metadata": {},
   "outputs": [
    {
     "data": {
      "text/plain": [
       "Visit_Date           0.00\n",
       "Patient_ID           0.00\n",
       "Age                  0.00\n",
       "Gender               2.02\n",
       "Diagnosis            5.69\n",
       "Has_Insurance        9.93\n",
       "Area                 0.00\n",
       "Total_Cost           0.00\n",
       "Registration time    0.00\n",
       "Nursing time         0.00\n",
       "Laboratory time      0.00\n",
       "Consultation time    0.00\n",
       "Pharmacy time        0.00\n",
       "dtype: float64"
      ]
     },
     "execution_count": 17,
     "metadata": {},
     "output_type": "execute_result"
    }
   ],
   "source": [
    "# check missing values percentage\n",
    "(df.isna().mean()* 100).round(2)"
   ]
  },
  {
   "cell_type": "markdown",
   "id": "8d2c10f4",
   "metadata": {},
   "source": [
    "# Data Cleaning"
   ]
  },
  {
   "cell_type": "code",
   "execution_count": 18,
   "id": "c8b31b9d",
   "metadata": {},
   "outputs": [
    {
     "data": {
      "text/plain": [
       "Index(['Visit_Date', 'Patient_ID', 'Age', 'Gender', 'Diagnosis',\n",
       "       'Has_Insurance', 'Area', 'Total_Cost', 'Registration_time',\n",
       "       'Nursing_time', 'Laboratory_time', 'Consultation_time',\n",
       "       'Pharmacy_time'],\n",
       "      dtype='object')"
      ]
     },
     "execution_count": 18,
     "metadata": {},
     "output_type": "execute_result"
    }
   ],
   "source": [
    "df.columns = df.columns.str.strip().str.replace(' ' , '_')\n",
    "df.columns"
   ]
  },
  {
   "cell_type": "code",
   "execution_count": 19,
   "id": "576b1f5c",
   "metadata": {},
   "outputs": [],
   "source": [
    "# rename columns\n",
    "df = df.rename(columns= {'Registration_time': 'Registration_Duration' , 'Nursing_time':'Nursing_Duration','Laboratory_time': 'Laboratory_Duration'\n",
    "               ,'Consultation_time':'Consultation_Duration','Pharmacy_time':'Pharmacy_Duration'} )\n"
   ]
  },
  {
   "cell_type": "code",
   "execution_count": 20,
   "id": "431476af",
   "metadata": {},
   "outputs": [
    {
     "data": {
      "text/plain": [
       "Index(['Visit_Date', 'Patient_ID', 'Age', 'Gender', 'Diagnosis',\n",
       "       'Has_Insurance', 'Area', 'Total_Cost', 'Registration_Duration',\n",
       "       'Nursing_Duration', 'Laboratory_Duration', 'Consultation_Duration',\n",
       "       'Pharmacy_Duration'],\n",
       "      dtype='object')"
      ]
     },
     "execution_count": 20,
     "metadata": {},
     "output_type": "execute_result"
    }
   ],
   "source": [
    "df.columns"
   ]
  },
  {
   "cell_type": "markdown",
   "id": "8a63ec2d",
   "metadata": {},
   "source": [
    "### In Depth Check For categorical columns "
   ]
  },
  {
   "cell_type": "code",
   "execution_count": 21,
   "id": "71abf948",
   "metadata": {},
   "outputs": [
    {
     "data": {
      "text/plain": [
       "Index(['Visit_Date', 'Gender', 'Diagnosis', 'Has_Insurance', 'Area'], dtype='object')"
      ]
     },
     "execution_count": 21,
     "metadata": {},
     "output_type": "execute_result"
    }
   ],
   "source": [
    "cat_col =df.select_dtypes(include='O').columns\n",
    "cat_col"
   ]
  },
  {
   "cell_type": "code",
   "execution_count": 22,
   "id": "8802d234",
   "metadata": {},
   "outputs": [
    {
     "name": "stdout",
     "output_type": "stream",
     "text": [
      "Visit_Date\n",
      "['1/1/2019' '1/2/2019' '1/3/2019' ... '12/29/2024' '12/30/2024'\n",
      " '12/31/2024']\n",
      "2192\n",
      "----------------------------------------------------------------------------------------------------\n",
      "Gender\n",
      "['Male' 'Female' nan 'Other']\n",
      "3\n",
      "----------------------------------------------------------------------------------------------------\n",
      "Diagnosis\n",
      "['Type 1 Diabetes' 'Type 2 Diabetes' 'Prediabetes' 'Type 3 Diabetes'\n",
      " 'Gestational Diabetes' nan 'Unknown' ' ']\n",
      "7\n",
      "----------------------------------------------------------------------------------------------------\n",
      "Has_Insurance\n",
      "['Yes' nan 'No']\n",
      "2\n",
      "----------------------------------------------------------------------------------------------------\n",
      "Area\n",
      "['Downtown Dubai' 'Bur Dubai' 'Al Barsha' 'Jumeirah' 'Deira' 'Al Qusais'\n",
      " 'Dubai Marina' 'International City' 'Dubai Silicon Oasis']\n",
      "9\n",
      "----------------------------------------------------------------------------------------------------\n"
     ]
    }
   ],
   "source": [
    "for col in cat_col:\n",
    "    print(col)\n",
    "    print(df[col].unique())\n",
    "    print(df[col].nunique())\n",
    "    print('-' * 100)"
   ]
  },
  {
   "cell_type": "code",
   "execution_count": 23,
   "id": "69c43396",
   "metadata": {},
   "outputs": [
    {
     "data": {
      "text/plain": [
       "Diagnosis\n",
       "Type 2 Diabetes         327064\n",
       "Type 1 Diabetes          46752\n",
       "Prediabetes              46466\n",
       "Gestational Diabetes     23273\n",
       "                         14003\n",
       "Type 3 Diabetes          10100\n",
       "Unknown                   4630\n",
       "Name: count, dtype: int64"
      ]
     },
     "execution_count": 23,
     "metadata": {},
     "output_type": "execute_result"
    }
   ],
   "source": [
    "df['Diagnosis'].value_counts()"
   ]
  },
  {
   "cell_type": "code",
   "execution_count": 24,
   "id": "7002d3b3",
   "metadata": {},
   "outputs": [
    {
     "name": "stderr",
     "output_type": "stream",
     "text": [
      "C:\\Users\\dell\\AppData\\Local\\Temp\\ipykernel_11660\\3998205377.py:3: FutureWarning: A value is trying to be set on a copy of a DataFrame or Series through chained assignment using an inplace method.\n",
      "The behavior will change in pandas 3.0. This inplace method will never work because the intermediate object on which we are setting values always behaves as a copy.\n",
      "\n",
      "For example, when doing 'df[col].method(value, inplace=True)', try using 'df.method({col: value}, inplace=True)' or df[col] = df[col].method(value) instead, to perform the operation inplace on the original object.\n",
      "\n",
      "\n",
      "  df['Diagnosis'].replace(' ', np.nan, inplace= True)\n"
     ]
    }
   ],
   "source": [
    "# replace drop_Diagnosis_empty to np.nan\n",
    "\n",
    "df['Diagnosis'].replace(' ', np.nan, inplace= True)"
   ]
  },
  {
   "cell_type": "code",
   "execution_count": 25,
   "id": "b2d412a0",
   "metadata": {},
   "outputs": [
    {
     "data": {
      "text/plain": [
       "Diagnosis\n",
       "Type 2 Diabetes         327064\n",
       "Type 1 Diabetes          46752\n",
       "Prediabetes              46466\n",
       "Gestational Diabetes     23273\n",
       "Type 3 Diabetes          10100\n",
       "Unknown                   4630\n",
       "Name: count, dtype: int64"
      ]
     },
     "execution_count": 25,
     "metadata": {},
     "output_type": "execute_result"
    }
   ],
   "source": [
    "df['Diagnosis'].value_counts()"
   ]
  },
  {
   "cell_type": "markdown",
   "id": "6c725170",
   "metadata": {},
   "source": [
    "### In Depth Check For numerical columns "
   ]
  },
  {
   "cell_type": "code",
   "execution_count": 26,
   "id": "e7678248",
   "metadata": {},
   "outputs": [
    {
     "data": {
      "text/plain": [
       "Index(['Patient_ID', 'Age', 'Total_Cost', 'Registration_Duration',\n",
       "       'Nursing_Duration', 'Laboratory_Duration', 'Consultation_Duration',\n",
       "       'Pharmacy_Duration'],\n",
       "      dtype='object')"
      ]
     },
     "execution_count": 26,
     "metadata": {},
     "output_type": "execute_result"
    }
   ],
   "source": [
    "num_col = df.select_dtypes(include= 'number').columns\n",
    "num_col"
   ]
  },
  {
   "cell_type": "code",
   "execution_count": 27,
   "id": "93008e67",
   "metadata": {},
   "outputs": [],
   "source": [
    "#for col in num_col:\n",
    "#    px.histogram(data_frame= df , x= col).show()"
   ]
  },
  {
   "cell_type": "code",
   "execution_count": 28,
   "id": "081381d6",
   "metadata": {},
   "outputs": [],
   "source": [
    "# delete value 0 in age \n",
    "age_0 = df[df.Age == 0].index\n",
    "df.drop(age_0 , inplace=True )"
   ]
  },
  {
   "cell_type": "code",
   "execution_count": 29,
   "id": "fe1e34fe",
   "metadata": {},
   "outputs": [
    {
     "data": {
      "text/html": [
       "<div>\n",
       "<style scoped>\n",
       "    .dataframe tbody tr th:only-of-type {\n",
       "        vertical-align: middle;\n",
       "    }\n",
       "\n",
       "    .dataframe tbody tr th {\n",
       "        vertical-align: top;\n",
       "    }\n",
       "\n",
       "    .dataframe thead th {\n",
       "        text-align: right;\n",
       "    }\n",
       "</style>\n",
       "<table border=\"1\" class=\"dataframe\">\n",
       "  <thead>\n",
       "    <tr style=\"text-align: right;\">\n",
       "      <th></th>\n",
       "      <th>Visit_Date</th>\n",
       "      <th>Patient_ID</th>\n",
       "      <th>Age</th>\n",
       "      <th>Gender</th>\n",
       "      <th>Diagnosis</th>\n",
       "      <th>Has_Insurance</th>\n",
       "      <th>Area</th>\n",
       "      <th>Total_Cost</th>\n",
       "      <th>Registration_Duration</th>\n",
       "      <th>Nursing_Duration</th>\n",
       "      <th>Laboratory_Duration</th>\n",
       "      <th>Consultation_Duration</th>\n",
       "      <th>Pharmacy_Duration</th>\n",
       "    </tr>\n",
       "  </thead>\n",
       "  <tbody>\n",
       "    <tr>\n",
       "      <th>0</th>\n",
       "      <td>1/1/2019</td>\n",
       "      <td>4174</td>\n",
       "      <td>28</td>\n",
       "      <td>Male</td>\n",
       "      <td>Type 1 Diabetes</td>\n",
       "      <td>Yes</td>\n",
       "      <td>Downtown Dubai</td>\n",
       "      <td>711.975905</td>\n",
       "      <td>21.6</td>\n",
       "      <td>21.1</td>\n",
       "      <td>29.6</td>\n",
       "      <td>25.8</td>\n",
       "      <td>28.2</td>\n",
       "    </tr>\n",
       "    <tr>\n",
       "      <th>1</th>\n",
       "      <td>1/1/2019</td>\n",
       "      <td>4507</td>\n",
       "      <td>62</td>\n",
       "      <td>Female</td>\n",
       "      <td>Type 2 Diabetes</td>\n",
       "      <td>Yes</td>\n",
       "      <td>Downtown Dubai</td>\n",
       "      <td>507.680147</td>\n",
       "      <td>13.0</td>\n",
       "      <td>50.9</td>\n",
       "      <td>34.8</td>\n",
       "      <td>26.3</td>\n",
       "      <td>23.2</td>\n",
       "    </tr>\n",
       "    <tr>\n",
       "      <th>2</th>\n",
       "      <td>1/1/2019</td>\n",
       "      <td>1860</td>\n",
       "      <td>47</td>\n",
       "      <td>Male</td>\n",
       "      <td>Prediabetes</td>\n",
       "      <td>Yes</td>\n",
       "      <td>Downtown Dubai</td>\n",
       "      <td>317.582770</td>\n",
       "      <td>27.3</td>\n",
       "      <td>20.9</td>\n",
       "      <td>23.9</td>\n",
       "      <td>35.1</td>\n",
       "      <td>14.8</td>\n",
       "    </tr>\n",
       "    <tr>\n",
       "      <th>3</th>\n",
       "      <td>1/1/2019</td>\n",
       "      <td>2294</td>\n",
       "      <td>10</td>\n",
       "      <td>Female</td>\n",
       "      <td>Type 2 Diabetes</td>\n",
       "      <td>Yes</td>\n",
       "      <td>Downtown Dubai</td>\n",
       "      <td>484.387822</td>\n",
       "      <td>19.2</td>\n",
       "      <td>30.8</td>\n",
       "      <td>22.9</td>\n",
       "      <td>20.6</td>\n",
       "      <td>21.9</td>\n",
       "    </tr>\n",
       "    <tr>\n",
       "      <th>4</th>\n",
       "      <td>1/1/2019</td>\n",
       "      <td>2130</td>\n",
       "      <td>66</td>\n",
       "      <td>Male</td>\n",
       "      <td>Type 2 Diabetes</td>\n",
       "      <td>Yes</td>\n",
       "      <td>Downtown Dubai</td>\n",
       "      <td>118.649105</td>\n",
       "      <td>13.3</td>\n",
       "      <td>29.1</td>\n",
       "      <td>19.5</td>\n",
       "      <td>34.2</td>\n",
       "      <td>36.6</td>\n",
       "    </tr>\n",
       "  </tbody>\n",
       "</table>\n",
       "</div>"
      ],
      "text/plain": [
       "  Visit_Date  Patient_ID  Age  Gender        Diagnosis Has_Insurance  \\\n",
       "0   1/1/2019        4174   28    Male  Type 1 Diabetes           Yes   \n",
       "1   1/1/2019        4507   62  Female  Type 2 Diabetes           Yes   \n",
       "2   1/1/2019        1860   47    Male      Prediabetes           Yes   \n",
       "3   1/1/2019        2294   10  Female  Type 2 Diabetes           Yes   \n",
       "4   1/1/2019        2130   66    Male  Type 2 Diabetes           Yes   \n",
       "\n",
       "             Area  Total_Cost  Registration_Duration  Nursing_Duration  \\\n",
       "0  Downtown Dubai  711.975905                   21.6              21.1   \n",
       "1  Downtown Dubai  507.680147                   13.0              50.9   \n",
       "2  Downtown Dubai  317.582770                   27.3              20.9   \n",
       "3  Downtown Dubai  484.387822                   19.2              30.8   \n",
       "4  Downtown Dubai  118.649105                   13.3              29.1   \n",
       "\n",
       "   Laboratory_Duration  Consultation_Duration  Pharmacy_Duration  \n",
       "0                 29.6                   25.8               28.2  \n",
       "1                 34.8                   26.3               23.2  \n",
       "2                 23.9                   35.1               14.8  \n",
       "3                 22.9                   20.6               21.9  \n",
       "4                 19.5                   34.2               36.6  "
      ]
     },
     "execution_count": 29,
     "metadata": {},
     "output_type": "execute_result"
    }
   ],
   "source": [
    "df.head(5)"
   ]
  },
  {
   "cell_type": "code",
   "execution_count": 30,
   "id": "fce36640",
   "metadata": {},
   "outputs": [],
   "source": [
    "# delete value negative & zero  in total cost \n",
    "total_cost_less0 = df[df.Total_Cost  <= 0].index\n",
    "df.drop(total_cost_less0 , inplace=True ,)"
   ]
  },
  {
   "cell_type": "code",
   "execution_count": 31,
   "id": "23773bd1",
   "metadata": {},
   "outputs": [
    {
     "data": {
      "text/html": [
       "<div>\n",
       "<style scoped>\n",
       "    .dataframe tbody tr th:only-of-type {\n",
       "        vertical-align: middle;\n",
       "    }\n",
       "\n",
       "    .dataframe tbody tr th {\n",
       "        vertical-align: top;\n",
       "    }\n",
       "\n",
       "    .dataframe thead th {\n",
       "        text-align: right;\n",
       "    }\n",
       "</style>\n",
       "<table border=\"1\" class=\"dataframe\">\n",
       "  <thead>\n",
       "    <tr style=\"text-align: right;\">\n",
       "      <th></th>\n",
       "      <th>Visit_Date</th>\n",
       "      <th>Patient_ID</th>\n",
       "      <th>Age</th>\n",
       "      <th>Gender</th>\n",
       "      <th>Diagnosis</th>\n",
       "      <th>Has_Insurance</th>\n",
       "      <th>Area</th>\n",
       "      <th>Total_Cost</th>\n",
       "      <th>Registration_Duration</th>\n",
       "      <th>Nursing_Duration</th>\n",
       "      <th>Laboratory_Duration</th>\n",
       "      <th>Consultation_Duration</th>\n",
       "      <th>Pharmacy_Duration</th>\n",
       "    </tr>\n",
       "  </thead>\n",
       "  <tbody>\n",
       "    <tr>\n",
       "      <th>0</th>\n",
       "      <td>1/1/2019</td>\n",
       "      <td>4174</td>\n",
       "      <td>28</td>\n",
       "      <td>Male</td>\n",
       "      <td>Type 1 Diabetes</td>\n",
       "      <td>Yes</td>\n",
       "      <td>Downtown Dubai</td>\n",
       "      <td>711.975905</td>\n",
       "      <td>21.6</td>\n",
       "      <td>21.1</td>\n",
       "      <td>29.6</td>\n",
       "      <td>25.8</td>\n",
       "      <td>28.2</td>\n",
       "    </tr>\n",
       "    <tr>\n",
       "      <th>1</th>\n",
       "      <td>1/1/2019</td>\n",
       "      <td>4507</td>\n",
       "      <td>62</td>\n",
       "      <td>Female</td>\n",
       "      <td>Type 2 Diabetes</td>\n",
       "      <td>Yes</td>\n",
       "      <td>Downtown Dubai</td>\n",
       "      <td>507.680147</td>\n",
       "      <td>13.0</td>\n",
       "      <td>50.9</td>\n",
       "      <td>34.8</td>\n",
       "      <td>26.3</td>\n",
       "      <td>23.2</td>\n",
       "    </tr>\n",
       "    <tr>\n",
       "      <th>2</th>\n",
       "      <td>1/1/2019</td>\n",
       "      <td>1860</td>\n",
       "      <td>47</td>\n",
       "      <td>Male</td>\n",
       "      <td>Prediabetes</td>\n",
       "      <td>Yes</td>\n",
       "      <td>Downtown Dubai</td>\n",
       "      <td>317.582770</td>\n",
       "      <td>27.3</td>\n",
       "      <td>20.9</td>\n",
       "      <td>23.9</td>\n",
       "      <td>35.1</td>\n",
       "      <td>14.8</td>\n",
       "    </tr>\n",
       "    <tr>\n",
       "      <th>3</th>\n",
       "      <td>1/1/2019</td>\n",
       "      <td>2294</td>\n",
       "      <td>10</td>\n",
       "      <td>Female</td>\n",
       "      <td>Type 2 Diabetes</td>\n",
       "      <td>Yes</td>\n",
       "      <td>Downtown Dubai</td>\n",
       "      <td>484.387822</td>\n",
       "      <td>19.2</td>\n",
       "      <td>30.8</td>\n",
       "      <td>22.9</td>\n",
       "      <td>20.6</td>\n",
       "      <td>21.9</td>\n",
       "    </tr>\n",
       "    <tr>\n",
       "      <th>4</th>\n",
       "      <td>1/1/2019</td>\n",
       "      <td>2130</td>\n",
       "      <td>66</td>\n",
       "      <td>Male</td>\n",
       "      <td>Type 2 Diabetes</td>\n",
       "      <td>Yes</td>\n",
       "      <td>Downtown Dubai</td>\n",
       "      <td>118.649105</td>\n",
       "      <td>13.3</td>\n",
       "      <td>29.1</td>\n",
       "      <td>19.5</td>\n",
       "      <td>34.2</td>\n",
       "      <td>36.6</td>\n",
       "    </tr>\n",
       "  </tbody>\n",
       "</table>\n",
       "</div>"
      ],
      "text/plain": [
       "  Visit_Date  Patient_ID  Age  Gender        Diagnosis Has_Insurance  \\\n",
       "0   1/1/2019        4174   28    Male  Type 1 Diabetes           Yes   \n",
       "1   1/1/2019        4507   62  Female  Type 2 Diabetes           Yes   \n",
       "2   1/1/2019        1860   47    Male      Prediabetes           Yes   \n",
       "3   1/1/2019        2294   10  Female  Type 2 Diabetes           Yes   \n",
       "4   1/1/2019        2130   66    Male  Type 2 Diabetes           Yes   \n",
       "\n",
       "             Area  Total_Cost  Registration_Duration  Nursing_Duration  \\\n",
       "0  Downtown Dubai  711.975905                   21.6              21.1   \n",
       "1  Downtown Dubai  507.680147                   13.0              50.9   \n",
       "2  Downtown Dubai  317.582770                   27.3              20.9   \n",
       "3  Downtown Dubai  484.387822                   19.2              30.8   \n",
       "4  Downtown Dubai  118.649105                   13.3              29.1   \n",
       "\n",
       "   Laboratory_Duration  Consultation_Duration  Pharmacy_Duration  \n",
       "0                 29.6                   25.8               28.2  \n",
       "1                 34.8                   26.3               23.2  \n",
       "2                 23.9                   35.1               14.8  \n",
       "3                 22.9                   20.6               21.9  \n",
       "4                 19.5                   34.2               36.6  "
      ]
     },
     "execution_count": 31,
     "metadata": {},
     "output_type": "execute_result"
    }
   ],
   "source": [
    "df.reset_index(drop= True, inplace= True)\n",
    "df.head(5)"
   ]
  },
  {
   "cell_type": "code",
   "execution_count": 32,
   "id": "6d9c5b3d",
   "metadata": {},
   "outputs": [
    {
     "data": {
      "text/plain": [
       "Visit_Date                   0\n",
       "Patient_ID                   0\n",
       "Age                          0\n",
       "Gender                    9577\n",
       "Diagnosis                40560\n",
       "Has_Insurance            46286\n",
       "Area                         0\n",
       "Total_Cost                   0\n",
       "Registration_Duration        0\n",
       "Nursing_Duration             0\n",
       "Laboratory_Duration          0\n",
       "Consultation_Duration        0\n",
       "Pharmacy_Duration            0\n",
       "dtype: int64"
      ]
     },
     "execution_count": 32,
     "metadata": {},
     "output_type": "execute_result"
    }
   ],
   "source": [
    "df.isna().sum()"
   ]
  },
  {
   "cell_type": "code",
   "execution_count": 33,
   "id": "01eb8e3b",
   "metadata": {},
   "outputs": [],
   "source": [
    "# drop missing valu in gender \n",
    "df.dropna(subset= ['Gender'], inplace= True , ignore_index= True )"
   ]
  },
  {
   "cell_type": "code",
   "execution_count": 34,
   "id": "8e66ff13",
   "metadata": {},
   "outputs": [
    {
     "data": {
      "text/plain": [
       "np.int64(0)"
      ]
     },
     "execution_count": 34,
     "metadata": {},
     "output_type": "execute_result"
    }
   ],
   "source": [
    "# check gender after dropna\n",
    "\n",
    "df['Gender'].isna().sum()"
   ]
  },
  {
   "cell_type": "code",
   "execution_count": 35,
   "id": "fca68f26",
   "metadata": {},
   "outputs": [
    {
     "data": {
      "text/html": [
       "<div>\n",
       "<style scoped>\n",
       "    .dataframe tbody tr th:only-of-type {\n",
       "        vertical-align: middle;\n",
       "    }\n",
       "\n",
       "    .dataframe tbody tr th {\n",
       "        vertical-align: top;\n",
       "    }\n",
       "\n",
       "    .dataframe thead th {\n",
       "        text-align: right;\n",
       "    }\n",
       "</style>\n",
       "<table border=\"1\" class=\"dataframe\">\n",
       "  <thead>\n",
       "    <tr style=\"text-align: right;\">\n",
       "      <th></th>\n",
       "      <th>Visit_Date</th>\n",
       "      <th>Patient_ID</th>\n",
       "      <th>Age</th>\n",
       "      <th>Gender</th>\n",
       "      <th>Diagnosis</th>\n",
       "      <th>Has_Insurance</th>\n",
       "      <th>Area</th>\n",
       "      <th>Total_Cost</th>\n",
       "      <th>Registration_Duration</th>\n",
       "      <th>Nursing_Duration</th>\n",
       "      <th>Laboratory_Duration</th>\n",
       "      <th>Consultation_Duration</th>\n",
       "      <th>Pharmacy_Duration</th>\n",
       "    </tr>\n",
       "  </thead>\n",
       "  <tbody>\n",
       "    <tr>\n",
       "      <th>0</th>\n",
       "      <td>1/1/2019</td>\n",
       "      <td>4174</td>\n",
       "      <td>28</td>\n",
       "      <td>Male</td>\n",
       "      <td>Type 1 Diabetes</td>\n",
       "      <td>Yes</td>\n",
       "      <td>Downtown Dubai</td>\n",
       "      <td>711.975905</td>\n",
       "      <td>21.6</td>\n",
       "      <td>21.1</td>\n",
       "      <td>29.6</td>\n",
       "      <td>25.8</td>\n",
       "      <td>28.2</td>\n",
       "    </tr>\n",
       "    <tr>\n",
       "      <th>1</th>\n",
       "      <td>1/1/2019</td>\n",
       "      <td>4507</td>\n",
       "      <td>62</td>\n",
       "      <td>Female</td>\n",
       "      <td>Type 2 Diabetes</td>\n",
       "      <td>Yes</td>\n",
       "      <td>Downtown Dubai</td>\n",
       "      <td>507.680147</td>\n",
       "      <td>13.0</td>\n",
       "      <td>50.9</td>\n",
       "      <td>34.8</td>\n",
       "      <td>26.3</td>\n",
       "      <td>23.2</td>\n",
       "    </tr>\n",
       "    <tr>\n",
       "      <th>2</th>\n",
       "      <td>1/1/2019</td>\n",
       "      <td>1860</td>\n",
       "      <td>47</td>\n",
       "      <td>Male</td>\n",
       "      <td>Prediabetes</td>\n",
       "      <td>Yes</td>\n",
       "      <td>Downtown Dubai</td>\n",
       "      <td>317.582770</td>\n",
       "      <td>27.3</td>\n",
       "      <td>20.9</td>\n",
       "      <td>23.9</td>\n",
       "      <td>35.1</td>\n",
       "      <td>14.8</td>\n",
       "    </tr>\n",
       "    <tr>\n",
       "      <th>3</th>\n",
       "      <td>1/1/2019</td>\n",
       "      <td>2294</td>\n",
       "      <td>10</td>\n",
       "      <td>Female</td>\n",
       "      <td>Type 2 Diabetes</td>\n",
       "      <td>Yes</td>\n",
       "      <td>Downtown Dubai</td>\n",
       "      <td>484.387822</td>\n",
       "      <td>19.2</td>\n",
       "      <td>30.8</td>\n",
       "      <td>22.9</td>\n",
       "      <td>20.6</td>\n",
       "      <td>21.9</td>\n",
       "    </tr>\n",
       "    <tr>\n",
       "      <th>4</th>\n",
       "      <td>1/1/2019</td>\n",
       "      <td>2130</td>\n",
       "      <td>66</td>\n",
       "      <td>Male</td>\n",
       "      <td>Type 2 Diabetes</td>\n",
       "      <td>Yes</td>\n",
       "      <td>Downtown Dubai</td>\n",
       "      <td>118.649105</td>\n",
       "      <td>13.3</td>\n",
       "      <td>29.1</td>\n",
       "      <td>19.5</td>\n",
       "      <td>34.2</td>\n",
       "      <td>36.6</td>\n",
       "    </tr>\n",
       "  </tbody>\n",
       "</table>\n",
       "</div>"
      ],
      "text/plain": [
       "  Visit_Date  Patient_ID  Age  Gender        Diagnosis Has_Insurance  \\\n",
       "0   1/1/2019        4174   28    Male  Type 1 Diabetes           Yes   \n",
       "1   1/1/2019        4507   62  Female  Type 2 Diabetes           Yes   \n",
       "2   1/1/2019        1860   47    Male      Prediabetes           Yes   \n",
       "3   1/1/2019        2294   10  Female  Type 2 Diabetes           Yes   \n",
       "4   1/1/2019        2130   66    Male  Type 2 Diabetes           Yes   \n",
       "\n",
       "             Area  Total_Cost  Registration_Duration  Nursing_Duration  \\\n",
       "0  Downtown Dubai  711.975905                   21.6              21.1   \n",
       "1  Downtown Dubai  507.680147                   13.0              50.9   \n",
       "2  Downtown Dubai  317.582770                   27.3              20.9   \n",
       "3  Downtown Dubai  484.387822                   19.2              30.8   \n",
       "4  Downtown Dubai  118.649105                   13.3              29.1   \n",
       "\n",
       "   Laboratory_Duration  Consultation_Duration  Pharmacy_Duration  \n",
       "0                 29.6                   25.8               28.2  \n",
       "1                 34.8                   26.3               23.2  \n",
       "2                 23.9                   35.1               14.8  \n",
       "3                 22.9                   20.6               21.9  \n",
       "4                 19.5                   34.2               36.6  "
      ]
     },
     "execution_count": 35,
     "metadata": {},
     "output_type": "execute_result"
    }
   ],
   "source": [
    "df.head(5)"
   ]
  },
  {
   "cell_type": "markdown",
   "id": "5a02ccc0",
   "metadata": {},
   "source": [
    "# Feature Engineering"
   ]
  },
  {
   "cell_type": "code",
   "execution_count": 36,
   "id": "d609dd02",
   "metadata": {},
   "outputs": [
    {
     "data": {
      "text/plain": [
       "0         2019\n",
       "1         2019\n",
       "2         2019\n",
       "3         2019\n",
       "4         2019\n",
       "          ... \n",
       "463998    2019\n",
       "463999    2020\n",
       "464000    2019\n",
       "464001    2019\n",
       "464002    2020\n",
       "Name: Year, Length: 464003, dtype: int64"
      ]
     },
     "execution_count": 36,
     "metadata": {},
     "output_type": "execute_result"
    }
   ],
   "source": [
    "# Extract Year from visit date column \n",
    "df['Year'] = df['Visit_Date'].str[-4:].astype(int)\n",
    "df['Year']"
   ]
  },
  {
   "cell_type": "code",
   "execution_count": 37,
   "id": "2c164544",
   "metadata": {},
   "outputs": [
    {
     "data": {
      "text/html": [
       "<div>\n",
       "<style scoped>\n",
       "    .dataframe tbody tr th:only-of-type {\n",
       "        vertical-align: middle;\n",
       "    }\n",
       "\n",
       "    .dataframe tbody tr th {\n",
       "        vertical-align: top;\n",
       "    }\n",
       "\n",
       "    .dataframe thead th {\n",
       "        text-align: right;\n",
       "    }\n",
       "</style>\n",
       "<table border=\"1\" class=\"dataframe\">\n",
       "  <thead>\n",
       "    <tr style=\"text-align: right;\">\n",
       "      <th></th>\n",
       "      <th>Visit_Date</th>\n",
       "      <th>Patient_ID</th>\n",
       "      <th>Age</th>\n",
       "      <th>Gender</th>\n",
       "      <th>Diagnosis</th>\n",
       "      <th>Has_Insurance</th>\n",
       "      <th>Area</th>\n",
       "      <th>Total_Cost</th>\n",
       "      <th>Registration_Duration</th>\n",
       "      <th>Nursing_Duration</th>\n",
       "      <th>Laboratory_Duration</th>\n",
       "      <th>Consultation_Duration</th>\n",
       "      <th>Pharmacy_Duration</th>\n",
       "      <th>Year</th>\n",
       "    </tr>\n",
       "  </thead>\n",
       "  <tbody>\n",
       "    <tr>\n",
       "      <th>0</th>\n",
       "      <td>1/1/2019</td>\n",
       "      <td>4174</td>\n",
       "      <td>28</td>\n",
       "      <td>Male</td>\n",
       "      <td>Type 1 Diabetes</td>\n",
       "      <td>Yes</td>\n",
       "      <td>Downtown Dubai</td>\n",
       "      <td>711.975905</td>\n",
       "      <td>21.6</td>\n",
       "      <td>21.1</td>\n",
       "      <td>29.6</td>\n",
       "      <td>25.8</td>\n",
       "      <td>28.2</td>\n",
       "      <td>2019</td>\n",
       "    </tr>\n",
       "    <tr>\n",
       "      <th>1</th>\n",
       "      <td>1/1/2019</td>\n",
       "      <td>4507</td>\n",
       "      <td>62</td>\n",
       "      <td>Female</td>\n",
       "      <td>Type 2 Diabetes</td>\n",
       "      <td>Yes</td>\n",
       "      <td>Downtown Dubai</td>\n",
       "      <td>507.680147</td>\n",
       "      <td>13.0</td>\n",
       "      <td>50.9</td>\n",
       "      <td>34.8</td>\n",
       "      <td>26.3</td>\n",
       "      <td>23.2</td>\n",
       "      <td>2019</td>\n",
       "    </tr>\n",
       "    <tr>\n",
       "      <th>2</th>\n",
       "      <td>1/1/2019</td>\n",
       "      <td>1860</td>\n",
       "      <td>47</td>\n",
       "      <td>Male</td>\n",
       "      <td>Prediabetes</td>\n",
       "      <td>Yes</td>\n",
       "      <td>Downtown Dubai</td>\n",
       "      <td>317.582770</td>\n",
       "      <td>27.3</td>\n",
       "      <td>20.9</td>\n",
       "      <td>23.9</td>\n",
       "      <td>35.1</td>\n",
       "      <td>14.8</td>\n",
       "      <td>2019</td>\n",
       "    </tr>\n",
       "    <tr>\n",
       "      <th>3</th>\n",
       "      <td>1/1/2019</td>\n",
       "      <td>2294</td>\n",
       "      <td>10</td>\n",
       "      <td>Female</td>\n",
       "      <td>Type 2 Diabetes</td>\n",
       "      <td>Yes</td>\n",
       "      <td>Downtown Dubai</td>\n",
       "      <td>484.387822</td>\n",
       "      <td>19.2</td>\n",
       "      <td>30.8</td>\n",
       "      <td>22.9</td>\n",
       "      <td>20.6</td>\n",
       "      <td>21.9</td>\n",
       "      <td>2019</td>\n",
       "    </tr>\n",
       "    <tr>\n",
       "      <th>4</th>\n",
       "      <td>1/1/2019</td>\n",
       "      <td>2130</td>\n",
       "      <td>66</td>\n",
       "      <td>Male</td>\n",
       "      <td>Type 2 Diabetes</td>\n",
       "      <td>Yes</td>\n",
       "      <td>Downtown Dubai</td>\n",
       "      <td>118.649105</td>\n",
       "      <td>13.3</td>\n",
       "      <td>29.1</td>\n",
       "      <td>19.5</td>\n",
       "      <td>34.2</td>\n",
       "      <td>36.6</td>\n",
       "      <td>2019</td>\n",
       "    </tr>\n",
       "  </tbody>\n",
       "</table>\n",
       "</div>"
      ],
      "text/plain": [
       "  Visit_Date  Patient_ID  Age  Gender        Diagnosis Has_Insurance  \\\n",
       "0   1/1/2019        4174   28    Male  Type 1 Diabetes           Yes   \n",
       "1   1/1/2019        4507   62  Female  Type 2 Diabetes           Yes   \n",
       "2   1/1/2019        1860   47    Male      Prediabetes           Yes   \n",
       "3   1/1/2019        2294   10  Female  Type 2 Diabetes           Yes   \n",
       "4   1/1/2019        2130   66    Male  Type 2 Diabetes           Yes   \n",
       "\n",
       "             Area  Total_Cost  Registration_Duration  Nursing_Duration  \\\n",
       "0  Downtown Dubai  711.975905                   21.6              21.1   \n",
       "1  Downtown Dubai  507.680147                   13.0              50.9   \n",
       "2  Downtown Dubai  317.582770                   27.3              20.9   \n",
       "3  Downtown Dubai  484.387822                   19.2              30.8   \n",
       "4  Downtown Dubai  118.649105                   13.3              29.1   \n",
       "\n",
       "   Laboratory_Duration  Consultation_Duration  Pharmacy_Duration  Year  \n",
       "0                 29.6                   25.8               28.2  2019  \n",
       "1                 34.8                   26.3               23.2  2019  \n",
       "2                 23.9                   35.1               14.8  2019  \n",
       "3                 22.9                   20.6               21.9  2019  \n",
       "4                 19.5                   34.2               36.6  2019  "
      ]
     },
     "execution_count": 37,
     "metadata": {},
     "output_type": "execute_result"
    }
   ],
   "source": [
    "df.head()"
   ]
  },
  {
   "cell_type": "markdown",
   "id": "4c97cd9e",
   "metadata": {},
   "source": [
    "# Data Analysis"
   ]
  },
  {
   "cell_type": "markdown",
   "id": "c307b365",
   "metadata": {},
   "source": [
    "### Q1 What is the percentage of Diagnosis ?"
   ]
  },
  {
   "cell_type": "code",
   "execution_count": 38,
   "id": "09d5451d",
   "metadata": {},
   "outputs": [],
   "source": [
    "#px.pie(data_frame= df , names= 'Diagnosis')"
   ]
  },
  {
   "cell_type": "markdown",
   "id": "4d22f3ca",
   "metadata": {},
   "source": [
    "Insight Q1:\n",
    "\n",
    "\n",
    "Diagnosis Percentage AnalysisWhat This Metric Tells Us\n",
    "The percentage of each Diagnosis shows how common each medical condition is among\n",
    "all patient visits.It helps identify:\n",
    "The most frequent health issues,\n",
    "Potential areas for preventive care,\n",
    "Resource allocation priorities."
   ]
  },
  {
   "cell_type": "markdown",
   "id": "00f94435",
   "metadata": {},
   "source": [
    "### Q2 What is the percentage of Gender ?"
   ]
  },
  {
   "cell_type": "code",
   "execution_count": 39,
   "id": "e5a380d5",
   "metadata": {},
   "outputs": [],
   "source": [
    "#px.pie(data_frame= df , names= 'Gender')"
   ]
  },
  {
   "cell_type": "markdown",
   "id": "97812051",
   "metadata": {},
   "source": [
    "insight Q2:\n",
    "\n",
    "\n",
    " after comparing the a count   It was found that the number of male visitors was greater than the number of females and others."
   ]
  },
  {
   "cell_type": "markdown",
   "id": "d4cddaf2",
   "metadata": {},
   "source": [
    "### Q3 Does age affect the total medical cost?"
   ]
  },
  {
   "cell_type": "code",
   "execution_count": 40,
   "id": "b4f86ea4",
   "metadata": {},
   "outputs": [
    {
     "data": {
      "text/html": [
       "<div>\n",
       "<style scoped>\n",
       "    .dataframe tbody tr th:only-of-type {\n",
       "        vertical-align: middle;\n",
       "    }\n",
       "\n",
       "    .dataframe tbody tr th {\n",
       "        vertical-align: top;\n",
       "    }\n",
       "\n",
       "    .dataframe thead th {\n",
       "        text-align: right;\n",
       "    }\n",
       "</style>\n",
       "<table border=\"1\" class=\"dataframe\">\n",
       "  <thead>\n",
       "    <tr style=\"text-align: right;\">\n",
       "      <th></th>\n",
       "      <th>Age</th>\n",
       "      <th>Total_Cost</th>\n",
       "    </tr>\n",
       "  </thead>\n",
       "  <tbody>\n",
       "    <tr>\n",
       "      <th>Age</th>\n",
       "      <td>1.000000</td>\n",
       "      <td>0.001799</td>\n",
       "    </tr>\n",
       "    <tr>\n",
       "      <th>Total_Cost</th>\n",
       "      <td>0.001799</td>\n",
       "      <td>1.000000</td>\n",
       "    </tr>\n",
       "  </tbody>\n",
       "</table>\n",
       "</div>"
      ],
      "text/plain": [
       "                 Age  Total_Cost\n",
       "Age         1.000000    0.001799\n",
       "Total_Cost  0.001799    1.000000"
      ]
     },
     "execution_count": 40,
     "metadata": {},
     "output_type": "execute_result"
    }
   ],
   "source": [
    "corresion = df[['Age','Total_Cost']].corr()\n",
    "corresion"
   ]
  },
  {
   "cell_type": "code",
   "execution_count": 41,
   "id": "1a103dfc",
   "metadata": {},
   "outputs": [],
   "source": [
    "#px.scatter(data_frame= df , x= 'Age' , y='Total_Cost')"
   ]
  },
  {
   "cell_type": "markdown",
   "id": "42aa5708",
   "metadata": {},
   "source": [
    "Insight Q3:\n",
    "\n",
    "There is virtually no correlation between age and total medical cost in this dataset. \n",
    "Age does not significantly impact the total cost."
   ]
  },
  {
   "cell_type": "code",
   "execution_count": 42,
   "id": "deced683",
   "metadata": {},
   "outputs": [
    {
     "data": {
      "text/plain": [
       "Index(['Visit_Date', 'Patient_ID', 'Age', 'Gender', 'Diagnosis',\n",
       "       'Has_Insurance', 'Area', 'Total_Cost', 'Registration_Duration',\n",
       "       'Nursing_Duration', 'Laboratory_Duration', 'Consultation_Duration',\n",
       "       'Pharmacy_Duration', 'Year'],\n",
       "      dtype='object')"
      ]
     },
     "execution_count": 42,
     "metadata": {},
     "output_type": "execute_result"
    }
   ],
   "source": [
    "df.columns"
   ]
  },
  {
   "cell_type": "markdown",
   "id": "98c58a0e",
   "metadata": {},
   "source": [
    "### Bivariate Analysis"
   ]
  },
  {
   "cell_type": "markdown",
   "id": "e09245fa",
   "metadata": {},
   "source": [
    "### Q4 What Is The Average Total Cost Per Gender ?"
   ]
  },
  {
   "cell_type": "code",
   "execution_count": 43,
   "id": "e52a3ce7",
   "metadata": {},
   "outputs": [],
   "source": [
    "average_total_cost_per_gender = df.groupby('Gender')['Total_Cost'].mean().sort_values(ascending= False).reset_index()"
   ]
  },
  {
   "cell_type": "code",
   "execution_count": 44,
   "id": "8a75c9f3",
   "metadata": {},
   "outputs": [
    {
     "data": {
      "application/vnd.plotly.v1+json": {
       "config": {
        "plotlyServerURL": "https://plot.ly"
       },
       "data": [
        {
         "hovertemplate": "Gender=%{x}<br>avg total cost per gender=%{y}<extra></extra>",
         "legendgroup": "",
         "marker": {
          "color": "#636efa",
          "pattern": {
           "shape": ""
          }
         },
         "name": "",
         "orientation": "v",
         "showlegend": false,
         "textposition": "auto",
         "texttemplate": "%{y}",
         "type": "bar",
         "x": [
          "Other",
          "Male",
          "Female"
         ],
         "xaxis": "x",
         "y": {
          "bdata": "8dIKm76Ae0CmE7vJTH97QHPE2RDyfntA",
          "dtype": "f8"
         },
         "yaxis": "y"
        }
       ],
       "layout": {
        "barmode": "relative",
        "legend": {
         "tracegroupgap": 0
        },
        "template": {
         "data": {
          "bar": [
           {
            "error_x": {
             "color": "#2a3f5f"
            },
            "error_y": {
             "color": "#2a3f5f"
            },
            "marker": {
             "line": {
              "color": "#E5ECF6",
              "width": 0.5
             },
             "pattern": {
              "fillmode": "overlay",
              "size": 10,
              "solidity": 0.2
             }
            },
            "type": "bar"
           }
          ],
          "barpolar": [
           {
            "marker": {
             "line": {
              "color": "#E5ECF6",
              "width": 0.5
             },
             "pattern": {
              "fillmode": "overlay",
              "size": 10,
              "solidity": 0.2
             }
            },
            "type": "barpolar"
           }
          ],
          "carpet": [
           {
            "aaxis": {
             "endlinecolor": "#2a3f5f",
             "gridcolor": "white",
             "linecolor": "white",
             "minorgridcolor": "white",
             "startlinecolor": "#2a3f5f"
            },
            "baxis": {
             "endlinecolor": "#2a3f5f",
             "gridcolor": "white",
             "linecolor": "white",
             "minorgridcolor": "white",
             "startlinecolor": "#2a3f5f"
            },
            "type": "carpet"
           }
          ],
          "choropleth": [
           {
            "colorbar": {
             "outlinewidth": 0,
             "ticks": ""
            },
            "type": "choropleth"
           }
          ],
          "contour": [
           {
            "colorbar": {
             "outlinewidth": 0,
             "ticks": ""
            },
            "colorscale": [
             [
              0,
              "#0d0887"
             ],
             [
              0.1111111111111111,
              "#46039f"
             ],
             [
              0.2222222222222222,
              "#7201a8"
             ],
             [
              0.3333333333333333,
              "#9c179e"
             ],
             [
              0.4444444444444444,
              "#bd3786"
             ],
             [
              0.5555555555555556,
              "#d8576b"
             ],
             [
              0.6666666666666666,
              "#ed7953"
             ],
             [
              0.7777777777777778,
              "#fb9f3a"
             ],
             [
              0.8888888888888888,
              "#fdca26"
             ],
             [
              1,
              "#f0f921"
             ]
            ],
            "type": "contour"
           }
          ],
          "contourcarpet": [
           {
            "colorbar": {
             "outlinewidth": 0,
             "ticks": ""
            },
            "type": "contourcarpet"
           }
          ],
          "heatmap": [
           {
            "colorbar": {
             "outlinewidth": 0,
             "ticks": ""
            },
            "colorscale": [
             [
              0,
              "#0d0887"
             ],
             [
              0.1111111111111111,
              "#46039f"
             ],
             [
              0.2222222222222222,
              "#7201a8"
             ],
             [
              0.3333333333333333,
              "#9c179e"
             ],
             [
              0.4444444444444444,
              "#bd3786"
             ],
             [
              0.5555555555555556,
              "#d8576b"
             ],
             [
              0.6666666666666666,
              "#ed7953"
             ],
             [
              0.7777777777777778,
              "#fb9f3a"
             ],
             [
              0.8888888888888888,
              "#fdca26"
             ],
             [
              1,
              "#f0f921"
             ]
            ],
            "type": "heatmap"
           }
          ],
          "histogram": [
           {
            "marker": {
             "pattern": {
              "fillmode": "overlay",
              "size": 10,
              "solidity": 0.2
             }
            },
            "type": "histogram"
           }
          ],
          "histogram2d": [
           {
            "colorbar": {
             "outlinewidth": 0,
             "ticks": ""
            },
            "colorscale": [
             [
              0,
              "#0d0887"
             ],
             [
              0.1111111111111111,
              "#46039f"
             ],
             [
              0.2222222222222222,
              "#7201a8"
             ],
             [
              0.3333333333333333,
              "#9c179e"
             ],
             [
              0.4444444444444444,
              "#bd3786"
             ],
             [
              0.5555555555555556,
              "#d8576b"
             ],
             [
              0.6666666666666666,
              "#ed7953"
             ],
             [
              0.7777777777777778,
              "#fb9f3a"
             ],
             [
              0.8888888888888888,
              "#fdca26"
             ],
             [
              1,
              "#f0f921"
             ]
            ],
            "type": "histogram2d"
           }
          ],
          "histogram2dcontour": [
           {
            "colorbar": {
             "outlinewidth": 0,
             "ticks": ""
            },
            "colorscale": [
             [
              0,
              "#0d0887"
             ],
             [
              0.1111111111111111,
              "#46039f"
             ],
             [
              0.2222222222222222,
              "#7201a8"
             ],
             [
              0.3333333333333333,
              "#9c179e"
             ],
             [
              0.4444444444444444,
              "#bd3786"
             ],
             [
              0.5555555555555556,
              "#d8576b"
             ],
             [
              0.6666666666666666,
              "#ed7953"
             ],
             [
              0.7777777777777778,
              "#fb9f3a"
             ],
             [
              0.8888888888888888,
              "#fdca26"
             ],
             [
              1,
              "#f0f921"
             ]
            ],
            "type": "histogram2dcontour"
           }
          ],
          "mesh3d": [
           {
            "colorbar": {
             "outlinewidth": 0,
             "ticks": ""
            },
            "type": "mesh3d"
           }
          ],
          "parcoords": [
           {
            "line": {
             "colorbar": {
              "outlinewidth": 0,
              "ticks": ""
             }
            },
            "type": "parcoords"
           }
          ],
          "pie": [
           {
            "automargin": true,
            "type": "pie"
           }
          ],
          "scatter": [
           {
            "fillpattern": {
             "fillmode": "overlay",
             "size": 10,
             "solidity": 0.2
            },
            "type": "scatter"
           }
          ],
          "scatter3d": [
           {
            "line": {
             "colorbar": {
              "outlinewidth": 0,
              "ticks": ""
             }
            },
            "marker": {
             "colorbar": {
              "outlinewidth": 0,
              "ticks": ""
             }
            },
            "type": "scatter3d"
           }
          ],
          "scattercarpet": [
           {
            "marker": {
             "colorbar": {
              "outlinewidth": 0,
              "ticks": ""
             }
            },
            "type": "scattercarpet"
           }
          ],
          "scattergeo": [
           {
            "marker": {
             "colorbar": {
              "outlinewidth": 0,
              "ticks": ""
             }
            },
            "type": "scattergeo"
           }
          ],
          "scattergl": [
           {
            "marker": {
             "colorbar": {
              "outlinewidth": 0,
              "ticks": ""
             }
            },
            "type": "scattergl"
           }
          ],
          "scattermap": [
           {
            "marker": {
             "colorbar": {
              "outlinewidth": 0,
              "ticks": ""
             }
            },
            "type": "scattermap"
           }
          ],
          "scattermapbox": [
           {
            "marker": {
             "colorbar": {
              "outlinewidth": 0,
              "ticks": ""
             }
            },
            "type": "scattermapbox"
           }
          ],
          "scatterpolar": [
           {
            "marker": {
             "colorbar": {
              "outlinewidth": 0,
              "ticks": ""
             }
            },
            "type": "scatterpolar"
           }
          ],
          "scatterpolargl": [
           {
            "marker": {
             "colorbar": {
              "outlinewidth": 0,
              "ticks": ""
             }
            },
            "type": "scatterpolargl"
           }
          ],
          "scatterternary": [
           {
            "marker": {
             "colorbar": {
              "outlinewidth": 0,
              "ticks": ""
             }
            },
            "type": "scatterternary"
           }
          ],
          "surface": [
           {
            "colorbar": {
             "outlinewidth": 0,
             "ticks": ""
            },
            "colorscale": [
             [
              0,
              "#0d0887"
             ],
             [
              0.1111111111111111,
              "#46039f"
             ],
             [
              0.2222222222222222,
              "#7201a8"
             ],
             [
              0.3333333333333333,
              "#9c179e"
             ],
             [
              0.4444444444444444,
              "#bd3786"
             ],
             [
              0.5555555555555556,
              "#d8576b"
             ],
             [
              0.6666666666666666,
              "#ed7953"
             ],
             [
              0.7777777777777778,
              "#fb9f3a"
             ],
             [
              0.8888888888888888,
              "#fdca26"
             ],
             [
              1,
              "#f0f921"
             ]
            ],
            "type": "surface"
           }
          ],
          "table": [
           {
            "cells": {
             "fill": {
              "color": "#EBF0F8"
             },
             "line": {
              "color": "white"
             }
            },
            "header": {
             "fill": {
              "color": "#C8D4E3"
             },
             "line": {
              "color": "white"
             }
            },
            "type": "table"
           }
          ]
         },
         "layout": {
          "annotationdefaults": {
           "arrowcolor": "#2a3f5f",
           "arrowhead": 0,
           "arrowwidth": 1
          },
          "autotypenumbers": "strict",
          "coloraxis": {
           "colorbar": {
            "outlinewidth": 0,
            "ticks": ""
           }
          },
          "colorscale": {
           "diverging": [
            [
             0,
             "#8e0152"
            ],
            [
             0.1,
             "#c51b7d"
            ],
            [
             0.2,
             "#de77ae"
            ],
            [
             0.3,
             "#f1b6da"
            ],
            [
             0.4,
             "#fde0ef"
            ],
            [
             0.5,
             "#f7f7f7"
            ],
            [
             0.6,
             "#e6f5d0"
            ],
            [
             0.7,
             "#b8e186"
            ],
            [
             0.8,
             "#7fbc41"
            ],
            [
             0.9,
             "#4d9221"
            ],
            [
             1,
             "#276419"
            ]
           ],
           "sequential": [
            [
             0,
             "#0d0887"
            ],
            [
             0.1111111111111111,
             "#46039f"
            ],
            [
             0.2222222222222222,
             "#7201a8"
            ],
            [
             0.3333333333333333,
             "#9c179e"
            ],
            [
             0.4444444444444444,
             "#bd3786"
            ],
            [
             0.5555555555555556,
             "#d8576b"
            ],
            [
             0.6666666666666666,
             "#ed7953"
            ],
            [
             0.7777777777777778,
             "#fb9f3a"
            ],
            [
             0.8888888888888888,
             "#fdca26"
            ],
            [
             1,
             "#f0f921"
            ]
           ],
           "sequentialminus": [
            [
             0,
             "#0d0887"
            ],
            [
             0.1111111111111111,
             "#46039f"
            ],
            [
             0.2222222222222222,
             "#7201a8"
            ],
            [
             0.3333333333333333,
             "#9c179e"
            ],
            [
             0.4444444444444444,
             "#bd3786"
            ],
            [
             0.5555555555555556,
             "#d8576b"
            ],
            [
             0.6666666666666666,
             "#ed7953"
            ],
            [
             0.7777777777777778,
             "#fb9f3a"
            ],
            [
             0.8888888888888888,
             "#fdca26"
            ],
            [
             1,
             "#f0f921"
            ]
           ]
          },
          "colorway": [
           "#636efa",
           "#EF553B",
           "#00cc96",
           "#ab63fa",
           "#FFA15A",
           "#19d3f3",
           "#FF6692",
           "#B6E880",
           "#FF97FF",
           "#FECB52"
          ],
          "font": {
           "color": "#2a3f5f"
          },
          "geo": {
           "bgcolor": "white",
           "lakecolor": "white",
           "landcolor": "#E5ECF6",
           "showlakes": true,
           "showland": true,
           "subunitcolor": "white"
          },
          "hoverlabel": {
           "align": "left"
          },
          "hovermode": "closest",
          "mapbox": {
           "style": "light"
          },
          "paper_bgcolor": "white",
          "plot_bgcolor": "#E5ECF6",
          "polar": {
           "angularaxis": {
            "gridcolor": "white",
            "linecolor": "white",
            "ticks": ""
           },
           "bgcolor": "#E5ECF6",
           "radialaxis": {
            "gridcolor": "white",
            "linecolor": "white",
            "ticks": ""
           }
          },
          "scene": {
           "xaxis": {
            "backgroundcolor": "#E5ECF6",
            "gridcolor": "white",
            "gridwidth": 2,
            "linecolor": "white",
            "showbackground": true,
            "ticks": "",
            "zerolinecolor": "white"
           },
           "yaxis": {
            "backgroundcolor": "#E5ECF6",
            "gridcolor": "white",
            "gridwidth": 2,
            "linecolor": "white",
            "showbackground": true,
            "ticks": "",
            "zerolinecolor": "white"
           },
           "zaxis": {
            "backgroundcolor": "#E5ECF6",
            "gridcolor": "white",
            "gridwidth": 2,
            "linecolor": "white",
            "showbackground": true,
            "ticks": "",
            "zerolinecolor": "white"
           }
          },
          "shapedefaults": {
           "line": {
            "color": "#2a3f5f"
           }
          },
          "ternary": {
           "aaxis": {
            "gridcolor": "white",
            "linecolor": "white",
            "ticks": ""
           },
           "baxis": {
            "gridcolor": "white",
            "linecolor": "white",
            "ticks": ""
           },
           "bgcolor": "#E5ECF6",
           "caxis": {
            "gridcolor": "white",
            "linecolor": "white",
            "ticks": ""
           }
          },
          "title": {
           "x": 0.05
          },
          "xaxis": {
           "automargin": true,
           "gridcolor": "white",
           "linecolor": "white",
           "ticks": "",
           "title": {
            "standoff": 15
           },
           "zerolinecolor": "white",
           "zerolinewidth": 2
          },
          "yaxis": {
           "automargin": true,
           "gridcolor": "white",
           "linecolor": "white",
           "ticks": "",
           "title": {
            "standoff": 15
           },
           "zerolinecolor": "white",
           "zerolinewidth": 2
          }
         }
        },
        "title": {
         "text": "average_total_cost_per_gender"
        },
        "xaxis": {
         "anchor": "y",
         "domain": [
          0,
          1
         ],
         "title": {
          "text": "Gender"
         }
        },
        "yaxis": {
         "anchor": "x",
         "domain": [
          0,
          1
         ],
         "title": {
          "text": "avg total cost per gender"
         }
        }
       }
      }
     },
     "metadata": {},
     "output_type": "display_data"
    }
   ],
   "source": [
    "px.bar(data_frame= average_total_cost_per_gender, x= 'Gender', y= 'Total_Cost' , labels= {'Total_Cost': 'avg total cost per gender'}, \n",
    "       title= 'average_total_cost_per_gender' , text_auto=True)"
   ]
  },
  {
   "cell_type": "markdown",
   "id": "46391b3d",
   "metadata": {},
   "source": [
    "Insight Q4:\n",
    "\n",
    "The average cost is nearly identical across all genders, indicating that gender does not influence total cost in this dataset."
   ]
  },
  {
   "cell_type": "markdown",
   "id": "cf28e506",
   "metadata": {},
   "source": [
    "### Q5 What Is The Total Cost Per Year ?"
   ]
  },
  {
   "cell_type": "code",
   "execution_count": 45,
   "id": "77c62f1f",
   "metadata": {},
   "outputs": [
    {
     "data": {
      "text/html": [
       "<div>\n",
       "<style scoped>\n",
       "    .dataframe tbody tr th:only-of-type {\n",
       "        vertical-align: middle;\n",
       "    }\n",
       "\n",
       "    .dataframe tbody tr th {\n",
       "        vertical-align: top;\n",
       "    }\n",
       "\n",
       "    .dataframe thead th {\n",
       "        text-align: right;\n",
       "    }\n",
       "</style>\n",
       "<table border=\"1\" class=\"dataframe\">\n",
       "  <thead>\n",
       "    <tr style=\"text-align: right;\">\n",
       "      <th></th>\n",
       "      <th>Year</th>\n",
       "      <th>Total_Cost</th>\n",
       "    </tr>\n",
       "  </thead>\n",
       "  <tbody>\n",
       "    <tr>\n",
       "      <th>0</th>\n",
       "      <td>2019</td>\n",
       "      <td>34177657.25</td>\n",
       "    </tr>\n",
       "    <tr>\n",
       "      <th>1</th>\n",
       "      <td>2020</td>\n",
       "      <td>34110473.83</td>\n",
       "    </tr>\n",
       "    <tr>\n",
       "      <th>2</th>\n",
       "      <td>2024</td>\n",
       "      <td>34042986.85</td>\n",
       "    </tr>\n",
       "    <tr>\n",
       "      <th>3</th>\n",
       "      <td>2022</td>\n",
       "      <td>34016850.02</td>\n",
       "    </tr>\n",
       "    <tr>\n",
       "      <th>4</th>\n",
       "      <td>2023</td>\n",
       "      <td>33917439.72</td>\n",
       "    </tr>\n",
       "    <tr>\n",
       "      <th>5</th>\n",
       "      <td>2021</td>\n",
       "      <td>33873235.29</td>\n",
       "    </tr>\n",
       "  </tbody>\n",
       "</table>\n",
       "</div>"
      ],
      "text/plain": [
       "   Year   Total_Cost\n",
       "0  2019  34177657.25\n",
       "1  2020  34110473.83\n",
       "2  2024  34042986.85\n",
       "3  2022  34016850.02\n",
       "4  2023  33917439.72\n",
       "5  2021  33873235.29"
      ]
     },
     "execution_count": 45,
     "metadata": {},
     "output_type": "execute_result"
    }
   ],
   "source": [
    "total_cost_per_year = df.groupby('Year')['Total_Cost'].sum().sort_values(ascending= False).reset_index().round(2)\n",
    "total_cost_per_year"
   ]
  },
  {
   "cell_type": "code",
   "execution_count": 46,
   "id": "6a45ad45",
   "metadata": {},
   "outputs": [
    {
     "data": {
      "application/vnd.plotly.v1+json": {
       "config": {
        "plotlyServerURL": "https://plot.ly"
       },
       "data": [
        {
         "hovertemplate": "Year=%{x}<br>total cost per year=%{y}<extra></extra>",
         "legendgroup": "",
         "marker": {
          "color": "#636efa",
          "pattern": {
           "shape": ""
          }
         },
         "name": "",
         "orientation": "v",
         "showlegend": false,
         "textposition": "auto",
         "texttemplate": "%{y}",
         "type": "bar",
         "x": {
          "bdata": "4wfkB+gH5gfnB+UH",
          "dtype": "i2"
         },
         "xaxis": "x",
         "y": {
          "bdata": "AAAAyhNMgEEK16NO4EOAQc3MzFajO4BBw/UokHI4gEFcj8L9TyyAQYXrUZrqJoBB",
          "dtype": "f8"
         },
         "yaxis": "y"
        }
       ],
       "layout": {
        "barmode": "relative",
        "legend": {
         "tracegroupgap": 0
        },
        "template": {
         "data": {
          "bar": [
           {
            "error_x": {
             "color": "#2a3f5f"
            },
            "error_y": {
             "color": "#2a3f5f"
            },
            "marker": {
             "line": {
              "color": "#E5ECF6",
              "width": 0.5
             },
             "pattern": {
              "fillmode": "overlay",
              "size": 10,
              "solidity": 0.2
             }
            },
            "type": "bar"
           }
          ],
          "barpolar": [
           {
            "marker": {
             "line": {
              "color": "#E5ECF6",
              "width": 0.5
             },
             "pattern": {
              "fillmode": "overlay",
              "size": 10,
              "solidity": 0.2
             }
            },
            "type": "barpolar"
           }
          ],
          "carpet": [
           {
            "aaxis": {
             "endlinecolor": "#2a3f5f",
             "gridcolor": "white",
             "linecolor": "white",
             "minorgridcolor": "white",
             "startlinecolor": "#2a3f5f"
            },
            "baxis": {
             "endlinecolor": "#2a3f5f",
             "gridcolor": "white",
             "linecolor": "white",
             "minorgridcolor": "white",
             "startlinecolor": "#2a3f5f"
            },
            "type": "carpet"
           }
          ],
          "choropleth": [
           {
            "colorbar": {
             "outlinewidth": 0,
             "ticks": ""
            },
            "type": "choropleth"
           }
          ],
          "contour": [
           {
            "colorbar": {
             "outlinewidth": 0,
             "ticks": ""
            },
            "colorscale": [
             [
              0,
              "#0d0887"
             ],
             [
              0.1111111111111111,
              "#46039f"
             ],
             [
              0.2222222222222222,
              "#7201a8"
             ],
             [
              0.3333333333333333,
              "#9c179e"
             ],
             [
              0.4444444444444444,
              "#bd3786"
             ],
             [
              0.5555555555555556,
              "#d8576b"
             ],
             [
              0.6666666666666666,
              "#ed7953"
             ],
             [
              0.7777777777777778,
              "#fb9f3a"
             ],
             [
              0.8888888888888888,
              "#fdca26"
             ],
             [
              1,
              "#f0f921"
             ]
            ],
            "type": "contour"
           }
          ],
          "contourcarpet": [
           {
            "colorbar": {
             "outlinewidth": 0,
             "ticks": ""
            },
            "type": "contourcarpet"
           }
          ],
          "heatmap": [
           {
            "colorbar": {
             "outlinewidth": 0,
             "ticks": ""
            },
            "colorscale": [
             [
              0,
              "#0d0887"
             ],
             [
              0.1111111111111111,
              "#46039f"
             ],
             [
              0.2222222222222222,
              "#7201a8"
             ],
             [
              0.3333333333333333,
              "#9c179e"
             ],
             [
              0.4444444444444444,
              "#bd3786"
             ],
             [
              0.5555555555555556,
              "#d8576b"
             ],
             [
              0.6666666666666666,
              "#ed7953"
             ],
             [
              0.7777777777777778,
              "#fb9f3a"
             ],
             [
              0.8888888888888888,
              "#fdca26"
             ],
             [
              1,
              "#f0f921"
             ]
            ],
            "type": "heatmap"
           }
          ],
          "histogram": [
           {
            "marker": {
             "pattern": {
              "fillmode": "overlay",
              "size": 10,
              "solidity": 0.2
             }
            },
            "type": "histogram"
           }
          ],
          "histogram2d": [
           {
            "colorbar": {
             "outlinewidth": 0,
             "ticks": ""
            },
            "colorscale": [
             [
              0,
              "#0d0887"
             ],
             [
              0.1111111111111111,
              "#46039f"
             ],
             [
              0.2222222222222222,
              "#7201a8"
             ],
             [
              0.3333333333333333,
              "#9c179e"
             ],
             [
              0.4444444444444444,
              "#bd3786"
             ],
             [
              0.5555555555555556,
              "#d8576b"
             ],
             [
              0.6666666666666666,
              "#ed7953"
             ],
             [
              0.7777777777777778,
              "#fb9f3a"
             ],
             [
              0.8888888888888888,
              "#fdca26"
             ],
             [
              1,
              "#f0f921"
             ]
            ],
            "type": "histogram2d"
           }
          ],
          "histogram2dcontour": [
           {
            "colorbar": {
             "outlinewidth": 0,
             "ticks": ""
            },
            "colorscale": [
             [
              0,
              "#0d0887"
             ],
             [
              0.1111111111111111,
              "#46039f"
             ],
             [
              0.2222222222222222,
              "#7201a8"
             ],
             [
              0.3333333333333333,
              "#9c179e"
             ],
             [
              0.4444444444444444,
              "#bd3786"
             ],
             [
              0.5555555555555556,
              "#d8576b"
             ],
             [
              0.6666666666666666,
              "#ed7953"
             ],
             [
              0.7777777777777778,
              "#fb9f3a"
             ],
             [
              0.8888888888888888,
              "#fdca26"
             ],
             [
              1,
              "#f0f921"
             ]
            ],
            "type": "histogram2dcontour"
           }
          ],
          "mesh3d": [
           {
            "colorbar": {
             "outlinewidth": 0,
             "ticks": ""
            },
            "type": "mesh3d"
           }
          ],
          "parcoords": [
           {
            "line": {
             "colorbar": {
              "outlinewidth": 0,
              "ticks": ""
             }
            },
            "type": "parcoords"
           }
          ],
          "pie": [
           {
            "automargin": true,
            "type": "pie"
           }
          ],
          "scatter": [
           {
            "fillpattern": {
             "fillmode": "overlay",
             "size": 10,
             "solidity": 0.2
            },
            "type": "scatter"
           }
          ],
          "scatter3d": [
           {
            "line": {
             "colorbar": {
              "outlinewidth": 0,
              "ticks": ""
             }
            },
            "marker": {
             "colorbar": {
              "outlinewidth": 0,
              "ticks": ""
             }
            },
            "type": "scatter3d"
           }
          ],
          "scattercarpet": [
           {
            "marker": {
             "colorbar": {
              "outlinewidth": 0,
              "ticks": ""
             }
            },
            "type": "scattercarpet"
           }
          ],
          "scattergeo": [
           {
            "marker": {
             "colorbar": {
              "outlinewidth": 0,
              "ticks": ""
             }
            },
            "type": "scattergeo"
           }
          ],
          "scattergl": [
           {
            "marker": {
             "colorbar": {
              "outlinewidth": 0,
              "ticks": ""
             }
            },
            "type": "scattergl"
           }
          ],
          "scattermap": [
           {
            "marker": {
             "colorbar": {
              "outlinewidth": 0,
              "ticks": ""
             }
            },
            "type": "scattermap"
           }
          ],
          "scattermapbox": [
           {
            "marker": {
             "colorbar": {
              "outlinewidth": 0,
              "ticks": ""
             }
            },
            "type": "scattermapbox"
           }
          ],
          "scatterpolar": [
           {
            "marker": {
             "colorbar": {
              "outlinewidth": 0,
              "ticks": ""
             }
            },
            "type": "scatterpolar"
           }
          ],
          "scatterpolargl": [
           {
            "marker": {
             "colorbar": {
              "outlinewidth": 0,
              "ticks": ""
             }
            },
            "type": "scatterpolargl"
           }
          ],
          "scatterternary": [
           {
            "marker": {
             "colorbar": {
              "outlinewidth": 0,
              "ticks": ""
             }
            },
            "type": "scatterternary"
           }
          ],
          "surface": [
           {
            "colorbar": {
             "outlinewidth": 0,
             "ticks": ""
            },
            "colorscale": [
             [
              0,
              "#0d0887"
             ],
             [
              0.1111111111111111,
              "#46039f"
             ],
             [
              0.2222222222222222,
              "#7201a8"
             ],
             [
              0.3333333333333333,
              "#9c179e"
             ],
             [
              0.4444444444444444,
              "#bd3786"
             ],
             [
              0.5555555555555556,
              "#d8576b"
             ],
             [
              0.6666666666666666,
              "#ed7953"
             ],
             [
              0.7777777777777778,
              "#fb9f3a"
             ],
             [
              0.8888888888888888,
              "#fdca26"
             ],
             [
              1,
              "#f0f921"
             ]
            ],
            "type": "surface"
           }
          ],
          "table": [
           {
            "cells": {
             "fill": {
              "color": "#EBF0F8"
             },
             "line": {
              "color": "white"
             }
            },
            "header": {
             "fill": {
              "color": "#C8D4E3"
             },
             "line": {
              "color": "white"
             }
            },
            "type": "table"
           }
          ]
         },
         "layout": {
          "annotationdefaults": {
           "arrowcolor": "#2a3f5f",
           "arrowhead": 0,
           "arrowwidth": 1
          },
          "autotypenumbers": "strict",
          "coloraxis": {
           "colorbar": {
            "outlinewidth": 0,
            "ticks": ""
           }
          },
          "colorscale": {
           "diverging": [
            [
             0,
             "#8e0152"
            ],
            [
             0.1,
             "#c51b7d"
            ],
            [
             0.2,
             "#de77ae"
            ],
            [
             0.3,
             "#f1b6da"
            ],
            [
             0.4,
             "#fde0ef"
            ],
            [
             0.5,
             "#f7f7f7"
            ],
            [
             0.6,
             "#e6f5d0"
            ],
            [
             0.7,
             "#b8e186"
            ],
            [
             0.8,
             "#7fbc41"
            ],
            [
             0.9,
             "#4d9221"
            ],
            [
             1,
             "#276419"
            ]
           ],
           "sequential": [
            [
             0,
             "#0d0887"
            ],
            [
             0.1111111111111111,
             "#46039f"
            ],
            [
             0.2222222222222222,
             "#7201a8"
            ],
            [
             0.3333333333333333,
             "#9c179e"
            ],
            [
             0.4444444444444444,
             "#bd3786"
            ],
            [
             0.5555555555555556,
             "#d8576b"
            ],
            [
             0.6666666666666666,
             "#ed7953"
            ],
            [
             0.7777777777777778,
             "#fb9f3a"
            ],
            [
             0.8888888888888888,
             "#fdca26"
            ],
            [
             1,
             "#f0f921"
            ]
           ],
           "sequentialminus": [
            [
             0,
             "#0d0887"
            ],
            [
             0.1111111111111111,
             "#46039f"
            ],
            [
             0.2222222222222222,
             "#7201a8"
            ],
            [
             0.3333333333333333,
             "#9c179e"
            ],
            [
             0.4444444444444444,
             "#bd3786"
            ],
            [
             0.5555555555555556,
             "#d8576b"
            ],
            [
             0.6666666666666666,
             "#ed7953"
            ],
            [
             0.7777777777777778,
             "#fb9f3a"
            ],
            [
             0.8888888888888888,
             "#fdca26"
            ],
            [
             1,
             "#f0f921"
            ]
           ]
          },
          "colorway": [
           "#636efa",
           "#EF553B",
           "#00cc96",
           "#ab63fa",
           "#FFA15A",
           "#19d3f3",
           "#FF6692",
           "#B6E880",
           "#FF97FF",
           "#FECB52"
          ],
          "font": {
           "color": "#2a3f5f"
          },
          "geo": {
           "bgcolor": "white",
           "lakecolor": "white",
           "landcolor": "#E5ECF6",
           "showlakes": true,
           "showland": true,
           "subunitcolor": "white"
          },
          "hoverlabel": {
           "align": "left"
          },
          "hovermode": "closest",
          "mapbox": {
           "style": "light"
          },
          "paper_bgcolor": "white",
          "plot_bgcolor": "#E5ECF6",
          "polar": {
           "angularaxis": {
            "gridcolor": "white",
            "linecolor": "white",
            "ticks": ""
           },
           "bgcolor": "#E5ECF6",
           "radialaxis": {
            "gridcolor": "white",
            "linecolor": "white",
            "ticks": ""
           }
          },
          "scene": {
           "xaxis": {
            "backgroundcolor": "#E5ECF6",
            "gridcolor": "white",
            "gridwidth": 2,
            "linecolor": "white",
            "showbackground": true,
            "ticks": "",
            "zerolinecolor": "white"
           },
           "yaxis": {
            "backgroundcolor": "#E5ECF6",
            "gridcolor": "white",
            "gridwidth": 2,
            "linecolor": "white",
            "showbackground": true,
            "ticks": "",
            "zerolinecolor": "white"
           },
           "zaxis": {
            "backgroundcolor": "#E5ECF6",
            "gridcolor": "white",
            "gridwidth": 2,
            "linecolor": "white",
            "showbackground": true,
            "ticks": "",
            "zerolinecolor": "white"
           }
          },
          "shapedefaults": {
           "line": {
            "color": "#2a3f5f"
           }
          },
          "ternary": {
           "aaxis": {
            "gridcolor": "white",
            "linecolor": "white",
            "ticks": ""
           },
           "baxis": {
            "gridcolor": "white",
            "linecolor": "white",
            "ticks": ""
           },
           "bgcolor": "#E5ECF6",
           "caxis": {
            "gridcolor": "white",
            "linecolor": "white",
            "ticks": ""
           }
          },
          "title": {
           "x": 0.05
          },
          "xaxis": {
           "automargin": true,
           "gridcolor": "white",
           "linecolor": "white",
           "ticks": "",
           "title": {
            "standoff": 15
           },
           "zerolinecolor": "white",
           "zerolinewidth": 2
          },
          "yaxis": {
           "automargin": true,
           "gridcolor": "white",
           "linecolor": "white",
           "ticks": "",
           "title": {
            "standoff": 15
           },
           "zerolinecolor": "white",
           "zerolinewidth": 2
          }
         }
        },
        "title": {
         "text": "total cost per year"
        },
        "xaxis": {
         "anchor": "y",
         "domain": [
          0,
          1
         ],
         "title": {
          "text": "Year"
         }
        },
        "yaxis": {
         "anchor": "x",
         "domain": [
          0,
          1
         ],
         "title": {
          "text": "total cost per year"
         }
        }
       }
      }
     },
     "metadata": {},
     "output_type": "display_data"
    }
   ],
   "source": [
    "px.bar(data_frame= total_cost_per_year, x= 'Year', y= 'Total_Cost' , labels= {'Total_Cost': 'total cost per year'}, \n",
    "       title= 'total cost per year' , text_auto=True)"
   ]
  },
  {
   "cell_type": "markdown",
   "id": "cbd77954",
   "metadata": {},
   "source": [
    "Insight Q5:\n",
    "\n",
    "Total medical costs are consistent year-over-year, hovering around 34 million AED."
   ]
  },
  {
   "cell_type": "markdown",
   "id": "9df9b5af",
   "metadata": {},
   "source": [
    "### Q6 What Is The Average Consultation Duration Per Diagnosis?"
   ]
  },
  {
   "cell_type": "code",
   "execution_count": 47,
   "id": "939355fb",
   "metadata": {},
   "outputs": [
    {
     "data": {
      "text/html": [
       "<div>\n",
       "<style scoped>\n",
       "    .dataframe tbody tr th:only-of-type {\n",
       "        vertical-align: middle;\n",
       "    }\n",
       "\n",
       "    .dataframe tbody tr th {\n",
       "        vertical-align: top;\n",
       "    }\n",
       "\n",
       "    .dataframe thead th {\n",
       "        text-align: right;\n",
       "    }\n",
       "</style>\n",
       "<table border=\"1\" class=\"dataframe\">\n",
       "  <thead>\n",
       "    <tr style=\"text-align: right;\">\n",
       "      <th></th>\n",
       "      <th>Diagnosis</th>\n",
       "      <th>Avg_Consultation_Duration</th>\n",
       "    </tr>\n",
       "  </thead>\n",
       "  <tbody>\n",
       "    <tr>\n",
       "      <th>0</th>\n",
       "      <td>Type 3 Diabetes</td>\n",
       "      <td>348.476372</td>\n",
       "    </tr>\n",
       "    <tr>\n",
       "      <th>1</th>\n",
       "      <td>Gestational Diabetes</td>\n",
       "      <td>30.161615</td>\n",
       "    </tr>\n",
       "    <tr>\n",
       "      <th>2</th>\n",
       "      <td>Prediabetes</td>\n",
       "      <td>29.983463</td>\n",
       "    </tr>\n",
       "    <tr>\n",
       "      <th>3</th>\n",
       "      <td>Type 1 Diabetes</td>\n",
       "      <td>29.918964</td>\n",
       "    </tr>\n",
       "    <tr>\n",
       "      <th>4</th>\n",
       "      <td>Type 2 Diabetes</td>\n",
       "      <td>29.826186</td>\n",
       "    </tr>\n",
       "    <tr>\n",
       "      <th>5</th>\n",
       "      <td>Unknown</td>\n",
       "      <td>29.633048</td>\n",
       "    </tr>\n",
       "  </tbody>\n",
       "</table>\n",
       "</div>"
      ],
      "text/plain": [
       "              Diagnosis  Avg_Consultation_Duration\n",
       "0       Type 3 Diabetes                 348.476372\n",
       "1  Gestational Diabetes                  30.161615\n",
       "2           Prediabetes                  29.983463\n",
       "3       Type 1 Diabetes                  29.918964\n",
       "4       Type 2 Diabetes                  29.826186\n",
       "5               Unknown                  29.633048"
      ]
     },
     "execution_count": 47,
     "metadata": {},
     "output_type": "execute_result"
    }
   ],
   "source": [
    "avg_Consultation_Duration_per_diagnosis   = df.groupby('Diagnosis')['Consultation_Duration'].mean().sort_values(ascending= False).reset_index().rename(columns={'Consultation_Duration': 'Avg_Consultation_Duration'})\n",
    "avg_Consultation_Duration_per_diagnosis"
   ]
  },
  {
   "cell_type": "code",
   "execution_count": 48,
   "id": "9e17b1d8",
   "metadata": {},
   "outputs": [
    {
     "data": {
      "application/vnd.plotly.v1+json": {
       "config": {
        "plotlyServerURL": "https://plot.ly"
       },
       "data": [
        {
         "hovertemplate": "Diagnosis=%{x}<br>Avg_Consultation_Duration=%{y}<extra></extra>",
         "legendgroup": "",
         "marker": {
          "color": "#636efa",
          "pattern": {
           "shape": ""
          }
         },
         "name": "",
         "orientation": "v",
         "showlegend": false,
         "textposition": "auto",
         "texttemplate": "%{y}",
         "type": "bar",
         "x": [
          "Type 3 Diabetes",
          "Gestational Diabetes",
          "Prediabetes",
          "Type 1 Diabetes",
          "Type 2 Diabetes",
          "Unknown"
         ],
         "xaxis": "x",
         "y": {
          "bdata": "005dOJ/HdUA9wCOVXyk+QJCnUDjE+z1AvJ/dN0HrPUDHLPnngNM9QINSZ3cPoj1A",
          "dtype": "f8"
         },
         "yaxis": "y"
        }
       ],
       "layout": {
        "barmode": "relative",
        "legend": {
         "tracegroupgap": 0
        },
        "template": {
         "data": {
          "bar": [
           {
            "error_x": {
             "color": "#2a3f5f"
            },
            "error_y": {
             "color": "#2a3f5f"
            },
            "marker": {
             "line": {
              "color": "#E5ECF6",
              "width": 0.5
             },
             "pattern": {
              "fillmode": "overlay",
              "size": 10,
              "solidity": 0.2
             }
            },
            "type": "bar"
           }
          ],
          "barpolar": [
           {
            "marker": {
             "line": {
              "color": "#E5ECF6",
              "width": 0.5
             },
             "pattern": {
              "fillmode": "overlay",
              "size": 10,
              "solidity": 0.2
             }
            },
            "type": "barpolar"
           }
          ],
          "carpet": [
           {
            "aaxis": {
             "endlinecolor": "#2a3f5f",
             "gridcolor": "white",
             "linecolor": "white",
             "minorgridcolor": "white",
             "startlinecolor": "#2a3f5f"
            },
            "baxis": {
             "endlinecolor": "#2a3f5f",
             "gridcolor": "white",
             "linecolor": "white",
             "minorgridcolor": "white",
             "startlinecolor": "#2a3f5f"
            },
            "type": "carpet"
           }
          ],
          "choropleth": [
           {
            "colorbar": {
             "outlinewidth": 0,
             "ticks": ""
            },
            "type": "choropleth"
           }
          ],
          "contour": [
           {
            "colorbar": {
             "outlinewidth": 0,
             "ticks": ""
            },
            "colorscale": [
             [
              0,
              "#0d0887"
             ],
             [
              0.1111111111111111,
              "#46039f"
             ],
             [
              0.2222222222222222,
              "#7201a8"
             ],
             [
              0.3333333333333333,
              "#9c179e"
             ],
             [
              0.4444444444444444,
              "#bd3786"
             ],
             [
              0.5555555555555556,
              "#d8576b"
             ],
             [
              0.6666666666666666,
              "#ed7953"
             ],
             [
              0.7777777777777778,
              "#fb9f3a"
             ],
             [
              0.8888888888888888,
              "#fdca26"
             ],
             [
              1,
              "#f0f921"
             ]
            ],
            "type": "contour"
           }
          ],
          "contourcarpet": [
           {
            "colorbar": {
             "outlinewidth": 0,
             "ticks": ""
            },
            "type": "contourcarpet"
           }
          ],
          "heatmap": [
           {
            "colorbar": {
             "outlinewidth": 0,
             "ticks": ""
            },
            "colorscale": [
             [
              0,
              "#0d0887"
             ],
             [
              0.1111111111111111,
              "#46039f"
             ],
             [
              0.2222222222222222,
              "#7201a8"
             ],
             [
              0.3333333333333333,
              "#9c179e"
             ],
             [
              0.4444444444444444,
              "#bd3786"
             ],
             [
              0.5555555555555556,
              "#d8576b"
             ],
             [
              0.6666666666666666,
              "#ed7953"
             ],
             [
              0.7777777777777778,
              "#fb9f3a"
             ],
             [
              0.8888888888888888,
              "#fdca26"
             ],
             [
              1,
              "#f0f921"
             ]
            ],
            "type": "heatmap"
           }
          ],
          "histogram": [
           {
            "marker": {
             "pattern": {
              "fillmode": "overlay",
              "size": 10,
              "solidity": 0.2
             }
            },
            "type": "histogram"
           }
          ],
          "histogram2d": [
           {
            "colorbar": {
             "outlinewidth": 0,
             "ticks": ""
            },
            "colorscale": [
             [
              0,
              "#0d0887"
             ],
             [
              0.1111111111111111,
              "#46039f"
             ],
             [
              0.2222222222222222,
              "#7201a8"
             ],
             [
              0.3333333333333333,
              "#9c179e"
             ],
             [
              0.4444444444444444,
              "#bd3786"
             ],
             [
              0.5555555555555556,
              "#d8576b"
             ],
             [
              0.6666666666666666,
              "#ed7953"
             ],
             [
              0.7777777777777778,
              "#fb9f3a"
             ],
             [
              0.8888888888888888,
              "#fdca26"
             ],
             [
              1,
              "#f0f921"
             ]
            ],
            "type": "histogram2d"
           }
          ],
          "histogram2dcontour": [
           {
            "colorbar": {
             "outlinewidth": 0,
             "ticks": ""
            },
            "colorscale": [
             [
              0,
              "#0d0887"
             ],
             [
              0.1111111111111111,
              "#46039f"
             ],
             [
              0.2222222222222222,
              "#7201a8"
             ],
             [
              0.3333333333333333,
              "#9c179e"
             ],
             [
              0.4444444444444444,
              "#bd3786"
             ],
             [
              0.5555555555555556,
              "#d8576b"
             ],
             [
              0.6666666666666666,
              "#ed7953"
             ],
             [
              0.7777777777777778,
              "#fb9f3a"
             ],
             [
              0.8888888888888888,
              "#fdca26"
             ],
             [
              1,
              "#f0f921"
             ]
            ],
            "type": "histogram2dcontour"
           }
          ],
          "mesh3d": [
           {
            "colorbar": {
             "outlinewidth": 0,
             "ticks": ""
            },
            "type": "mesh3d"
           }
          ],
          "parcoords": [
           {
            "line": {
             "colorbar": {
              "outlinewidth": 0,
              "ticks": ""
             }
            },
            "type": "parcoords"
           }
          ],
          "pie": [
           {
            "automargin": true,
            "type": "pie"
           }
          ],
          "scatter": [
           {
            "fillpattern": {
             "fillmode": "overlay",
             "size": 10,
             "solidity": 0.2
            },
            "type": "scatter"
           }
          ],
          "scatter3d": [
           {
            "line": {
             "colorbar": {
              "outlinewidth": 0,
              "ticks": ""
             }
            },
            "marker": {
             "colorbar": {
              "outlinewidth": 0,
              "ticks": ""
             }
            },
            "type": "scatter3d"
           }
          ],
          "scattercarpet": [
           {
            "marker": {
             "colorbar": {
              "outlinewidth": 0,
              "ticks": ""
             }
            },
            "type": "scattercarpet"
           }
          ],
          "scattergeo": [
           {
            "marker": {
             "colorbar": {
              "outlinewidth": 0,
              "ticks": ""
             }
            },
            "type": "scattergeo"
           }
          ],
          "scattergl": [
           {
            "marker": {
             "colorbar": {
              "outlinewidth": 0,
              "ticks": ""
             }
            },
            "type": "scattergl"
           }
          ],
          "scattermap": [
           {
            "marker": {
             "colorbar": {
              "outlinewidth": 0,
              "ticks": ""
             }
            },
            "type": "scattermap"
           }
          ],
          "scattermapbox": [
           {
            "marker": {
             "colorbar": {
              "outlinewidth": 0,
              "ticks": ""
             }
            },
            "type": "scattermapbox"
           }
          ],
          "scatterpolar": [
           {
            "marker": {
             "colorbar": {
              "outlinewidth": 0,
              "ticks": ""
             }
            },
            "type": "scatterpolar"
           }
          ],
          "scatterpolargl": [
           {
            "marker": {
             "colorbar": {
              "outlinewidth": 0,
              "ticks": ""
             }
            },
            "type": "scatterpolargl"
           }
          ],
          "scatterternary": [
           {
            "marker": {
             "colorbar": {
              "outlinewidth": 0,
              "ticks": ""
             }
            },
            "type": "scatterternary"
           }
          ],
          "surface": [
           {
            "colorbar": {
             "outlinewidth": 0,
             "ticks": ""
            },
            "colorscale": [
             [
              0,
              "#0d0887"
             ],
             [
              0.1111111111111111,
              "#46039f"
             ],
             [
              0.2222222222222222,
              "#7201a8"
             ],
             [
              0.3333333333333333,
              "#9c179e"
             ],
             [
              0.4444444444444444,
              "#bd3786"
             ],
             [
              0.5555555555555556,
              "#d8576b"
             ],
             [
              0.6666666666666666,
              "#ed7953"
             ],
             [
              0.7777777777777778,
              "#fb9f3a"
             ],
             [
              0.8888888888888888,
              "#fdca26"
             ],
             [
              1,
              "#f0f921"
             ]
            ],
            "type": "surface"
           }
          ],
          "table": [
           {
            "cells": {
             "fill": {
              "color": "#EBF0F8"
             },
             "line": {
              "color": "white"
             }
            },
            "header": {
             "fill": {
              "color": "#C8D4E3"
             },
             "line": {
              "color": "white"
             }
            },
            "type": "table"
           }
          ]
         },
         "layout": {
          "annotationdefaults": {
           "arrowcolor": "#2a3f5f",
           "arrowhead": 0,
           "arrowwidth": 1
          },
          "autotypenumbers": "strict",
          "coloraxis": {
           "colorbar": {
            "outlinewidth": 0,
            "ticks": ""
           }
          },
          "colorscale": {
           "diverging": [
            [
             0,
             "#8e0152"
            ],
            [
             0.1,
             "#c51b7d"
            ],
            [
             0.2,
             "#de77ae"
            ],
            [
             0.3,
             "#f1b6da"
            ],
            [
             0.4,
             "#fde0ef"
            ],
            [
             0.5,
             "#f7f7f7"
            ],
            [
             0.6,
             "#e6f5d0"
            ],
            [
             0.7,
             "#b8e186"
            ],
            [
             0.8,
             "#7fbc41"
            ],
            [
             0.9,
             "#4d9221"
            ],
            [
             1,
             "#276419"
            ]
           ],
           "sequential": [
            [
             0,
             "#0d0887"
            ],
            [
             0.1111111111111111,
             "#46039f"
            ],
            [
             0.2222222222222222,
             "#7201a8"
            ],
            [
             0.3333333333333333,
             "#9c179e"
            ],
            [
             0.4444444444444444,
             "#bd3786"
            ],
            [
             0.5555555555555556,
             "#d8576b"
            ],
            [
             0.6666666666666666,
             "#ed7953"
            ],
            [
             0.7777777777777778,
             "#fb9f3a"
            ],
            [
             0.8888888888888888,
             "#fdca26"
            ],
            [
             1,
             "#f0f921"
            ]
           ],
           "sequentialminus": [
            [
             0,
             "#0d0887"
            ],
            [
             0.1111111111111111,
             "#46039f"
            ],
            [
             0.2222222222222222,
             "#7201a8"
            ],
            [
             0.3333333333333333,
             "#9c179e"
            ],
            [
             0.4444444444444444,
             "#bd3786"
            ],
            [
             0.5555555555555556,
             "#d8576b"
            ],
            [
             0.6666666666666666,
             "#ed7953"
            ],
            [
             0.7777777777777778,
             "#fb9f3a"
            ],
            [
             0.8888888888888888,
             "#fdca26"
            ],
            [
             1,
             "#f0f921"
            ]
           ]
          },
          "colorway": [
           "#636efa",
           "#EF553B",
           "#00cc96",
           "#ab63fa",
           "#FFA15A",
           "#19d3f3",
           "#FF6692",
           "#B6E880",
           "#FF97FF",
           "#FECB52"
          ],
          "font": {
           "color": "#2a3f5f"
          },
          "geo": {
           "bgcolor": "white",
           "lakecolor": "white",
           "landcolor": "#E5ECF6",
           "showlakes": true,
           "showland": true,
           "subunitcolor": "white"
          },
          "hoverlabel": {
           "align": "left"
          },
          "hovermode": "closest",
          "mapbox": {
           "style": "light"
          },
          "paper_bgcolor": "white",
          "plot_bgcolor": "#E5ECF6",
          "polar": {
           "angularaxis": {
            "gridcolor": "white",
            "linecolor": "white",
            "ticks": ""
           },
           "bgcolor": "#E5ECF6",
           "radialaxis": {
            "gridcolor": "white",
            "linecolor": "white",
            "ticks": ""
           }
          },
          "scene": {
           "xaxis": {
            "backgroundcolor": "#E5ECF6",
            "gridcolor": "white",
            "gridwidth": 2,
            "linecolor": "white",
            "showbackground": true,
            "ticks": "",
            "zerolinecolor": "white"
           },
           "yaxis": {
            "backgroundcolor": "#E5ECF6",
            "gridcolor": "white",
            "gridwidth": 2,
            "linecolor": "white",
            "showbackground": true,
            "ticks": "",
            "zerolinecolor": "white"
           },
           "zaxis": {
            "backgroundcolor": "#E5ECF6",
            "gridcolor": "white",
            "gridwidth": 2,
            "linecolor": "white",
            "showbackground": true,
            "ticks": "",
            "zerolinecolor": "white"
           }
          },
          "shapedefaults": {
           "line": {
            "color": "#2a3f5f"
           }
          },
          "ternary": {
           "aaxis": {
            "gridcolor": "white",
            "linecolor": "white",
            "ticks": ""
           },
           "baxis": {
            "gridcolor": "white",
            "linecolor": "white",
            "ticks": ""
           },
           "bgcolor": "#E5ECF6",
           "caxis": {
            "gridcolor": "white",
            "linecolor": "white",
            "ticks": ""
           }
          },
          "title": {
           "x": 0.05
          },
          "xaxis": {
           "automargin": true,
           "gridcolor": "white",
           "linecolor": "white",
           "ticks": "",
           "title": {
            "standoff": 15
           },
           "zerolinecolor": "white",
           "zerolinewidth": 2
          },
          "yaxis": {
           "automargin": true,
           "gridcolor": "white",
           "linecolor": "white",
           "ticks": "",
           "title": {
            "standoff": 15
           },
           "zerolinecolor": "white",
           "zerolinewidth": 2
          }
         }
        },
        "title": {
         "text": "Average Consultation Duration per Diagnosis"
        },
        "xaxis": {
         "anchor": "y",
         "domain": [
          0,
          1
         ],
         "title": {
          "text": "Diagnosis"
         }
        },
        "yaxis": {
         "anchor": "x",
         "domain": [
          0,
          1
         ],
         "title": {
          "text": "Avg_Consultation_Duration"
         }
        }
       }
      }
     },
     "metadata": {},
     "output_type": "display_data"
    }
   ],
   "source": [
    "px.bar(data_frame= avg_Consultation_Duration_per_diagnosis ,x='Diagnosis',y='Avg_Consultation_Duration' ,\n",
    "       labels= {'Consultation_Duration' : 'Average Consultation Duration'}, title= 'Average Consultation Duration per Diagnosis',\n",
    "       text_auto= True) "
   ]
  },
  {
   "cell_type": "markdown",
   "id": "6a6f8e5c",
   "metadata": {},
   "source": [
    "Insight Q6:\n",
    "\n",
    "Type 3 Diabetes patients tend to have the longest consultations on average."
   ]
  },
  {
   "cell_type": "markdown",
   "id": "de9ab2ee",
   "metadata": {},
   "source": [
    "# Multivariate Analysis"
   ]
  },
  {
   "cell_type": "markdown",
   "id": "506e8571",
   "metadata": {},
   "source": [
    "### Q7 What Is The Avg Total Cost Per Area Per Diagnosis ?"
   ]
  },
  {
   "cell_type": "code",
   "execution_count": 49,
   "id": "23a74652",
   "metadata": {},
   "outputs": [
    {
     "data": {
      "text/html": [
       "<div>\n",
       "<style scoped>\n",
       "    .dataframe tbody tr th:only-of-type {\n",
       "        vertical-align: middle;\n",
       "    }\n",
       "\n",
       "    .dataframe tbody tr th {\n",
       "        vertical-align: top;\n",
       "    }\n",
       "\n",
       "    .dataframe thead th {\n",
       "        text-align: right;\n",
       "    }\n",
       "</style>\n",
       "<table border=\"1\" class=\"dataframe\">\n",
       "  <thead>\n",
       "    <tr style=\"text-align: right;\">\n",
       "      <th></th>\n",
       "      <th>Gender</th>\n",
       "      <th>Diagnosis</th>\n",
       "      <th>Total_Cost</th>\n",
       "    </tr>\n",
       "  </thead>\n",
       "  <tbody>\n",
       "    <tr>\n",
       "      <th>0</th>\n",
       "      <td>Female</td>\n",
       "      <td>Gestational Diabetes</td>\n",
       "      <td>435.303589</td>\n",
       "    </tr>\n",
       "    <tr>\n",
       "      <th>1</th>\n",
       "      <td>Female</td>\n",
       "      <td>Prediabetes</td>\n",
       "      <td>440.424119</td>\n",
       "    </tr>\n",
       "    <tr>\n",
       "      <th>2</th>\n",
       "      <td>Female</td>\n",
       "      <td>Type 1 Diabetes</td>\n",
       "      <td>437.395685</td>\n",
       "    </tr>\n",
       "    <tr>\n",
       "      <th>3</th>\n",
       "      <td>Female</td>\n",
       "      <td>Type 2 Diabetes</td>\n",
       "      <td>441.029905</td>\n",
       "    </tr>\n",
       "    <tr>\n",
       "      <th>4</th>\n",
       "      <td>Female</td>\n",
       "      <td>Type 3 Diabetes</td>\n",
       "      <td>433.557805</td>\n",
       "    </tr>\n",
       "    <tr>\n",
       "      <th>5</th>\n",
       "      <td>Female</td>\n",
       "      <td>Unknown</td>\n",
       "      <td>438.990634</td>\n",
       "    </tr>\n",
       "    <tr>\n",
       "      <th>6</th>\n",
       "      <td>Male</td>\n",
       "      <td>Gestational Diabetes</td>\n",
       "      <td>436.697918</td>\n",
       "    </tr>\n",
       "    <tr>\n",
       "      <th>7</th>\n",
       "      <td>Male</td>\n",
       "      <td>Prediabetes</td>\n",
       "      <td>439.460084</td>\n",
       "    </tr>\n",
       "    <tr>\n",
       "      <th>8</th>\n",
       "      <td>Male</td>\n",
       "      <td>Type 1 Diabetes</td>\n",
       "      <td>441.097060</td>\n",
       "    </tr>\n",
       "    <tr>\n",
       "      <th>9</th>\n",
       "      <td>Male</td>\n",
       "      <td>Type 2 Diabetes</td>\n",
       "      <td>439.882007</td>\n",
       "    </tr>\n",
       "    <tr>\n",
       "      <th>10</th>\n",
       "      <td>Male</td>\n",
       "      <td>Type 3 Diabetes</td>\n",
       "      <td>443.383375</td>\n",
       "    </tr>\n",
       "    <tr>\n",
       "      <th>11</th>\n",
       "      <td>Male</td>\n",
       "      <td>Unknown</td>\n",
       "      <td>434.099707</td>\n",
       "    </tr>\n",
       "    <tr>\n",
       "      <th>12</th>\n",
       "      <td>Other</td>\n",
       "      <td>Gestational Diabetes</td>\n",
       "      <td>437.635466</td>\n",
       "    </tr>\n",
       "    <tr>\n",
       "      <th>13</th>\n",
       "      <td>Other</td>\n",
       "      <td>Prediabetes</td>\n",
       "      <td>443.987213</td>\n",
       "    </tr>\n",
       "    <tr>\n",
       "      <th>14</th>\n",
       "      <td>Other</td>\n",
       "      <td>Type 1 Diabetes</td>\n",
       "      <td>442.048713</td>\n",
       "    </tr>\n",
       "    <tr>\n",
       "      <th>15</th>\n",
       "      <td>Other</td>\n",
       "      <td>Type 2 Diabetes</td>\n",
       "      <td>439.637135</td>\n",
       "    </tr>\n",
       "    <tr>\n",
       "      <th>16</th>\n",
       "      <td>Other</td>\n",
       "      <td>Type 3 Diabetes</td>\n",
       "      <td>449.464644</td>\n",
       "    </tr>\n",
       "    <tr>\n",
       "      <th>17</th>\n",
       "      <td>Other</td>\n",
       "      <td>Unknown</td>\n",
       "      <td>454.686523</td>\n",
       "    </tr>\n",
       "  </tbody>\n",
       "</table>\n",
       "</div>"
      ],
      "text/plain": [
       "    Gender             Diagnosis  Total_Cost\n",
       "0   Female  Gestational Diabetes  435.303589\n",
       "1   Female           Prediabetes  440.424119\n",
       "2   Female       Type 1 Diabetes  437.395685\n",
       "3   Female       Type 2 Diabetes  441.029905\n",
       "4   Female       Type 3 Diabetes  433.557805\n",
       "5   Female               Unknown  438.990634\n",
       "6     Male  Gestational Diabetes  436.697918\n",
       "7     Male           Prediabetes  439.460084\n",
       "8     Male       Type 1 Diabetes  441.097060\n",
       "9     Male       Type 2 Diabetes  439.882007\n",
       "10    Male       Type 3 Diabetes  443.383375\n",
       "11    Male               Unknown  434.099707\n",
       "12   Other  Gestational Diabetes  437.635466\n",
       "13   Other           Prediabetes  443.987213\n",
       "14   Other       Type 1 Diabetes  442.048713\n",
       "15   Other       Type 2 Diabetes  439.637135\n",
       "16   Other       Type 3 Diabetes  449.464644\n",
       "17   Other               Unknown  454.686523"
      ]
     },
     "execution_count": 49,
     "metadata": {},
     "output_type": "execute_result"
    }
   ],
   "source": [
    "avg_total_cost_per_area = df.groupby(['Gender', 'Diagnosis'])['Total_Cost'].mean().reset_index()\n",
    "avg_total_cost_per_area"
   ]
  },
  {
   "cell_type": "code",
   "execution_count": 50,
   "id": "b0026654",
   "metadata": {},
   "outputs": [
    {
     "data": {
      "application/vnd.plotly.v1+json": {
       "config": {
        "plotlyServerURL": "https://plot.ly"
       },
       "data": [
        {
         "alignmentgroup": "True",
         "hovertemplate": "Gender=Female<br>Diagnosis=%{x}<br>Average No of Total_Cost=%{y}<extra></extra>",
         "legendgroup": "Female",
         "marker": {
          "color": "#636efa",
          "pattern": {
           "shape": ""
          }
         },
         "name": "Female",
         "offsetgroup": "Female",
         "orientation": "v",
         "showlegend": true,
         "textposition": "auto",
         "texttemplate": "%{y}",
         "type": "bar",
         "x": [
          "Gestational Diabetes",
          "Prediabetes",
          "Type 1 Diabetes",
          "Type 2 Diabetes",
          "Type 3 Diabetes",
          "Unknown"
         ],
         "xaxis": "x",
         "y": {
          "bdata": "oAPIf9s0e0AXL44wyYZ7QHY41LlUVntAWR/2fXqQe0DMDdzE7Bh7QKh+IqPZb3tA",
          "dtype": "f8"
         },
         "yaxis": "y"
        },
        {
         "alignmentgroup": "True",
         "hovertemplate": "Gender=Male<br>Diagnosis=%{x}<br>Average No of Total_Cost=%{y}<extra></extra>",
         "legendgroup": "Male",
         "marker": {
          "color": "#EF553B",
          "pattern": {
           "shape": ""
          }
         },
         "name": "Male",
         "offsetgroup": "Male",
         "orientation": "v",
         "showlegend": true,
         "textposition": "auto",
         "texttemplate": "%{y}",
         "type": "bar",
         "x": [
          "Gestational Diabetes",
          "Prediabetes",
          "Type 1 Diabetes",
          "Type 2 Diabetes",
          "Type 3 Diabetes",
          "Unknown"
         ],
         "xaxis": "x",
         "y": {
          "bdata": "ha3nqypLe0CgXvSAXHd7QCxsm46NkXtADrk6sxx+e0DS+cJNIrZ7QHmLCmaYIXtA",
          "dtype": "f8"
         },
         "yaxis": "y"
        },
        {
         "alignmentgroup": "True",
         "hovertemplate": "Gender=Other<br>Diagnosis=%{x}<br>Average No of Total_Cost=%{y}<extra></extra>",
         "legendgroup": "Other",
         "marker": {
          "color": "#00cc96",
          "pattern": {
           "shape": ""
          }
         },
         "name": "Other",
         "offsetgroup": "Other",
         "orientation": "v",
         "showlegend": true,
         "textposition": "auto",
         "texttemplate": "%{y}",
         "type": "bar",
         "x": [
          "Gestational Diabetes",
          "Prediabetes",
          "Type 1 Diabetes",
          "Type 2 Diabetes",
          "Type 3 Diabetes",
          "Unknown"
         ],
         "xaxis": "x",
         "y": {
          "bdata": "unhP3ipae0AWQaefy797QKykU4fHoHtAa4IBtDF6e0AaSagubxd8QPirRP/7anxA",
          "dtype": "f8"
         },
         "yaxis": "y"
        }
       ],
       "layout": {
        "barmode": "group",
        "legend": {
         "title": {
          "text": "Gender"
         },
         "tracegroupgap": 0
        },
        "template": {
         "data": {
          "bar": [
           {
            "error_x": {
             "color": "#2a3f5f"
            },
            "error_y": {
             "color": "#2a3f5f"
            },
            "marker": {
             "line": {
              "color": "#E5ECF6",
              "width": 0.5
             },
             "pattern": {
              "fillmode": "overlay",
              "size": 10,
              "solidity": 0.2
             }
            },
            "type": "bar"
           }
          ],
          "barpolar": [
           {
            "marker": {
             "line": {
              "color": "#E5ECF6",
              "width": 0.5
             },
             "pattern": {
              "fillmode": "overlay",
              "size": 10,
              "solidity": 0.2
             }
            },
            "type": "barpolar"
           }
          ],
          "carpet": [
           {
            "aaxis": {
             "endlinecolor": "#2a3f5f",
             "gridcolor": "white",
             "linecolor": "white",
             "minorgridcolor": "white",
             "startlinecolor": "#2a3f5f"
            },
            "baxis": {
             "endlinecolor": "#2a3f5f",
             "gridcolor": "white",
             "linecolor": "white",
             "minorgridcolor": "white",
             "startlinecolor": "#2a3f5f"
            },
            "type": "carpet"
           }
          ],
          "choropleth": [
           {
            "colorbar": {
             "outlinewidth": 0,
             "ticks": ""
            },
            "type": "choropleth"
           }
          ],
          "contour": [
           {
            "colorbar": {
             "outlinewidth": 0,
             "ticks": ""
            },
            "colorscale": [
             [
              0,
              "#0d0887"
             ],
             [
              0.1111111111111111,
              "#46039f"
             ],
             [
              0.2222222222222222,
              "#7201a8"
             ],
             [
              0.3333333333333333,
              "#9c179e"
             ],
             [
              0.4444444444444444,
              "#bd3786"
             ],
             [
              0.5555555555555556,
              "#d8576b"
             ],
             [
              0.6666666666666666,
              "#ed7953"
             ],
             [
              0.7777777777777778,
              "#fb9f3a"
             ],
             [
              0.8888888888888888,
              "#fdca26"
             ],
             [
              1,
              "#f0f921"
             ]
            ],
            "type": "contour"
           }
          ],
          "contourcarpet": [
           {
            "colorbar": {
             "outlinewidth": 0,
             "ticks": ""
            },
            "type": "contourcarpet"
           }
          ],
          "heatmap": [
           {
            "colorbar": {
             "outlinewidth": 0,
             "ticks": ""
            },
            "colorscale": [
             [
              0,
              "#0d0887"
             ],
             [
              0.1111111111111111,
              "#46039f"
             ],
             [
              0.2222222222222222,
              "#7201a8"
             ],
             [
              0.3333333333333333,
              "#9c179e"
             ],
             [
              0.4444444444444444,
              "#bd3786"
             ],
             [
              0.5555555555555556,
              "#d8576b"
             ],
             [
              0.6666666666666666,
              "#ed7953"
             ],
             [
              0.7777777777777778,
              "#fb9f3a"
             ],
             [
              0.8888888888888888,
              "#fdca26"
             ],
             [
              1,
              "#f0f921"
             ]
            ],
            "type": "heatmap"
           }
          ],
          "histogram": [
           {
            "marker": {
             "pattern": {
              "fillmode": "overlay",
              "size": 10,
              "solidity": 0.2
             }
            },
            "type": "histogram"
           }
          ],
          "histogram2d": [
           {
            "colorbar": {
             "outlinewidth": 0,
             "ticks": ""
            },
            "colorscale": [
             [
              0,
              "#0d0887"
             ],
             [
              0.1111111111111111,
              "#46039f"
             ],
             [
              0.2222222222222222,
              "#7201a8"
             ],
             [
              0.3333333333333333,
              "#9c179e"
             ],
             [
              0.4444444444444444,
              "#bd3786"
             ],
             [
              0.5555555555555556,
              "#d8576b"
             ],
             [
              0.6666666666666666,
              "#ed7953"
             ],
             [
              0.7777777777777778,
              "#fb9f3a"
             ],
             [
              0.8888888888888888,
              "#fdca26"
             ],
             [
              1,
              "#f0f921"
             ]
            ],
            "type": "histogram2d"
           }
          ],
          "histogram2dcontour": [
           {
            "colorbar": {
             "outlinewidth": 0,
             "ticks": ""
            },
            "colorscale": [
             [
              0,
              "#0d0887"
             ],
             [
              0.1111111111111111,
              "#46039f"
             ],
             [
              0.2222222222222222,
              "#7201a8"
             ],
             [
              0.3333333333333333,
              "#9c179e"
             ],
             [
              0.4444444444444444,
              "#bd3786"
             ],
             [
              0.5555555555555556,
              "#d8576b"
             ],
             [
              0.6666666666666666,
              "#ed7953"
             ],
             [
              0.7777777777777778,
              "#fb9f3a"
             ],
             [
              0.8888888888888888,
              "#fdca26"
             ],
             [
              1,
              "#f0f921"
             ]
            ],
            "type": "histogram2dcontour"
           }
          ],
          "mesh3d": [
           {
            "colorbar": {
             "outlinewidth": 0,
             "ticks": ""
            },
            "type": "mesh3d"
           }
          ],
          "parcoords": [
           {
            "line": {
             "colorbar": {
              "outlinewidth": 0,
              "ticks": ""
             }
            },
            "type": "parcoords"
           }
          ],
          "pie": [
           {
            "automargin": true,
            "type": "pie"
           }
          ],
          "scatter": [
           {
            "fillpattern": {
             "fillmode": "overlay",
             "size": 10,
             "solidity": 0.2
            },
            "type": "scatter"
           }
          ],
          "scatter3d": [
           {
            "line": {
             "colorbar": {
              "outlinewidth": 0,
              "ticks": ""
             }
            },
            "marker": {
             "colorbar": {
              "outlinewidth": 0,
              "ticks": ""
             }
            },
            "type": "scatter3d"
           }
          ],
          "scattercarpet": [
           {
            "marker": {
             "colorbar": {
              "outlinewidth": 0,
              "ticks": ""
             }
            },
            "type": "scattercarpet"
           }
          ],
          "scattergeo": [
           {
            "marker": {
             "colorbar": {
              "outlinewidth": 0,
              "ticks": ""
             }
            },
            "type": "scattergeo"
           }
          ],
          "scattergl": [
           {
            "marker": {
             "colorbar": {
              "outlinewidth": 0,
              "ticks": ""
             }
            },
            "type": "scattergl"
           }
          ],
          "scattermap": [
           {
            "marker": {
             "colorbar": {
              "outlinewidth": 0,
              "ticks": ""
             }
            },
            "type": "scattermap"
           }
          ],
          "scattermapbox": [
           {
            "marker": {
             "colorbar": {
              "outlinewidth": 0,
              "ticks": ""
             }
            },
            "type": "scattermapbox"
           }
          ],
          "scatterpolar": [
           {
            "marker": {
             "colorbar": {
              "outlinewidth": 0,
              "ticks": ""
             }
            },
            "type": "scatterpolar"
           }
          ],
          "scatterpolargl": [
           {
            "marker": {
             "colorbar": {
              "outlinewidth": 0,
              "ticks": ""
             }
            },
            "type": "scatterpolargl"
           }
          ],
          "scatterternary": [
           {
            "marker": {
             "colorbar": {
              "outlinewidth": 0,
              "ticks": ""
             }
            },
            "type": "scatterternary"
           }
          ],
          "surface": [
           {
            "colorbar": {
             "outlinewidth": 0,
             "ticks": ""
            },
            "colorscale": [
             [
              0,
              "#0d0887"
             ],
             [
              0.1111111111111111,
              "#46039f"
             ],
             [
              0.2222222222222222,
              "#7201a8"
             ],
             [
              0.3333333333333333,
              "#9c179e"
             ],
             [
              0.4444444444444444,
              "#bd3786"
             ],
             [
              0.5555555555555556,
              "#d8576b"
             ],
             [
              0.6666666666666666,
              "#ed7953"
             ],
             [
              0.7777777777777778,
              "#fb9f3a"
             ],
             [
              0.8888888888888888,
              "#fdca26"
             ],
             [
              1,
              "#f0f921"
             ]
            ],
            "type": "surface"
           }
          ],
          "table": [
           {
            "cells": {
             "fill": {
              "color": "#EBF0F8"
             },
             "line": {
              "color": "white"
             }
            },
            "header": {
             "fill": {
              "color": "#C8D4E3"
             },
             "line": {
              "color": "white"
             }
            },
            "type": "table"
           }
          ]
         },
         "layout": {
          "annotationdefaults": {
           "arrowcolor": "#2a3f5f",
           "arrowhead": 0,
           "arrowwidth": 1
          },
          "autotypenumbers": "strict",
          "coloraxis": {
           "colorbar": {
            "outlinewidth": 0,
            "ticks": ""
           }
          },
          "colorscale": {
           "diverging": [
            [
             0,
             "#8e0152"
            ],
            [
             0.1,
             "#c51b7d"
            ],
            [
             0.2,
             "#de77ae"
            ],
            [
             0.3,
             "#f1b6da"
            ],
            [
             0.4,
             "#fde0ef"
            ],
            [
             0.5,
             "#f7f7f7"
            ],
            [
             0.6,
             "#e6f5d0"
            ],
            [
             0.7,
             "#b8e186"
            ],
            [
             0.8,
             "#7fbc41"
            ],
            [
             0.9,
             "#4d9221"
            ],
            [
             1,
             "#276419"
            ]
           ],
           "sequential": [
            [
             0,
             "#0d0887"
            ],
            [
             0.1111111111111111,
             "#46039f"
            ],
            [
             0.2222222222222222,
             "#7201a8"
            ],
            [
             0.3333333333333333,
             "#9c179e"
            ],
            [
             0.4444444444444444,
             "#bd3786"
            ],
            [
             0.5555555555555556,
             "#d8576b"
            ],
            [
             0.6666666666666666,
             "#ed7953"
            ],
            [
             0.7777777777777778,
             "#fb9f3a"
            ],
            [
             0.8888888888888888,
             "#fdca26"
            ],
            [
             1,
             "#f0f921"
            ]
           ],
           "sequentialminus": [
            [
             0,
             "#0d0887"
            ],
            [
             0.1111111111111111,
             "#46039f"
            ],
            [
             0.2222222222222222,
             "#7201a8"
            ],
            [
             0.3333333333333333,
             "#9c179e"
            ],
            [
             0.4444444444444444,
             "#bd3786"
            ],
            [
             0.5555555555555556,
             "#d8576b"
            ],
            [
             0.6666666666666666,
             "#ed7953"
            ],
            [
             0.7777777777777778,
             "#fb9f3a"
            ],
            [
             0.8888888888888888,
             "#fdca26"
            ],
            [
             1,
             "#f0f921"
            ]
           ]
          },
          "colorway": [
           "#636efa",
           "#EF553B",
           "#00cc96",
           "#ab63fa",
           "#FFA15A",
           "#19d3f3",
           "#FF6692",
           "#B6E880",
           "#FF97FF",
           "#FECB52"
          ],
          "font": {
           "color": "#2a3f5f"
          },
          "geo": {
           "bgcolor": "white",
           "lakecolor": "white",
           "landcolor": "#E5ECF6",
           "showlakes": true,
           "showland": true,
           "subunitcolor": "white"
          },
          "hoverlabel": {
           "align": "left"
          },
          "hovermode": "closest",
          "mapbox": {
           "style": "light"
          },
          "paper_bgcolor": "white",
          "plot_bgcolor": "#E5ECF6",
          "polar": {
           "angularaxis": {
            "gridcolor": "white",
            "linecolor": "white",
            "ticks": ""
           },
           "bgcolor": "#E5ECF6",
           "radialaxis": {
            "gridcolor": "white",
            "linecolor": "white",
            "ticks": ""
           }
          },
          "scene": {
           "xaxis": {
            "backgroundcolor": "#E5ECF6",
            "gridcolor": "white",
            "gridwidth": 2,
            "linecolor": "white",
            "showbackground": true,
            "ticks": "",
            "zerolinecolor": "white"
           },
           "yaxis": {
            "backgroundcolor": "#E5ECF6",
            "gridcolor": "white",
            "gridwidth": 2,
            "linecolor": "white",
            "showbackground": true,
            "ticks": "",
            "zerolinecolor": "white"
           },
           "zaxis": {
            "backgroundcolor": "#E5ECF6",
            "gridcolor": "white",
            "gridwidth": 2,
            "linecolor": "white",
            "showbackground": true,
            "ticks": "",
            "zerolinecolor": "white"
           }
          },
          "shapedefaults": {
           "line": {
            "color": "#2a3f5f"
           }
          },
          "ternary": {
           "aaxis": {
            "gridcolor": "white",
            "linecolor": "white",
            "ticks": ""
           },
           "baxis": {
            "gridcolor": "white",
            "linecolor": "white",
            "ticks": ""
           },
           "bgcolor": "#E5ECF6",
           "caxis": {
            "gridcolor": "white",
            "linecolor": "white",
            "ticks": ""
           }
          },
          "title": {
           "x": 0.05
          },
          "xaxis": {
           "automargin": true,
           "gridcolor": "white",
           "linecolor": "white",
           "ticks": "",
           "title": {
            "standoff": 15
           },
           "zerolinecolor": "white",
           "zerolinewidth": 2
          },
          "yaxis": {
           "automargin": true,
           "gridcolor": "white",
           "linecolor": "white",
           "ticks": "",
           "title": {
            "standoff": 15
           },
           "zerolinecolor": "white",
           "zerolinewidth": 2
          }
         }
        },
        "title": {
         "text": "Avg Total_Cost per Diagnosis per Gender"
        },
        "xaxis": {
         "anchor": "y",
         "domain": [
          0,
          1
         ],
         "title": {
          "text": "Diagnosis"
         }
        },
        "yaxis": {
         "anchor": "x",
         "domain": [
          0,
          1
         ],
         "title": {
          "text": "Average No of Total_Cost"
         }
        }
       }
      }
     },
     "metadata": {},
     "output_type": "display_data"
    }
   ],
   "source": [
    "px.bar(data_frame= avg_total_cost_per_area ,x='Diagnosis' , y='Total_Cost',\n",
    "         labels= {'Total_Cost' : 'Average No of Total_Cost'}, title= 'Avg Total_Cost per Diagnosis per Gender',\n",
    "       text_auto= True, color= 'Gender', barmode= 'group')  "
   ]
  },
  {
   "cell_type": "markdown",
   "id": "486ce683",
   "metadata": {},
   "source": [
    "Insight Q7:\n",
    "\n",
    "Costs vary slightly by area and diagnosis, with Downtown Dubai showing consistently higher costs compared to others."
   ]
  },
  {
   "cell_type": "markdown",
   "id": "5f4e8d08",
   "metadata": {},
   "source": [
    " # Deployment (stremlit)"
   ]
  },
  {
   "cell_type": "code",
   "execution_count": 51,
   "id": "5be90b57",
   "metadata": {},
   "outputs": [],
   "source": [
    "df.to_csv('cleand_data.csv')"
   ]
  },
  {
   "cell_type": "code",
   "execution_count": 52,
   "id": "83fc54e9",
   "metadata": {},
   "outputs": [],
   "source": [
    "import streamlit as st"
   ]
  },
  {
   "cell_type": "code",
   "execution_count": 60,
   "id": "319c49dd",
   "metadata": {},
   "outputs": [
    {
     "name": "stdout",
     "output_type": "stream",
     "text": [
      "Overwriting diabetes_patient.py\n"
     ]
    }
   ],
   "source": [
    "%%writefile diabetes_patient.py\n",
    "import pandas as pd\n",
    "import streamlit as st\n",
    "import plotly.express as px\n",
    "import seaborn as sns\n",
    "st.set_page_config(layout= 'wide', page_title= 'diabetes_patient')\n",
    "st.markdown(\"<h1 style='text-align: center; color: white;'>diabetes dataset with Analysis</h1>\", unsafe_allow_html=True)\n",
    "st.image('https://img.freepik.com/free-vector/diabetes-flat-composition-medical-with-patient-symptoms-complications-blood-sugar-meter-treatments-medication_1284-28998.jpg')\n",
    "df = pd.read_csv('cleand_data.csv',index_col=0)\n",
    "page = st.sidebar.radio('Pages', ['Introduction', 'Analysis Questions', 'Reporting'])\n",
    "if page == 'Introduction':\n",
    "\n",
    "    st.dataframe(df.head())\n",
    "\n",
    "    st.header('diabetes_patient Description')\n",
    "\n",
    "    st.write('''The dataset contains 232002 entries and 13 columns. Here's a summary of the columns:\n",
    "\n",
    "    Visit_Date: The date on which the patient visited the medical facility (past 6 years).\n",
    "    Patient_ID:  A unique identifier assigned to each patient.\n",
    "    Age: Age of the patient at the time of the visit (0–100 years).\n",
    "    Gender: The gender of the patient ('Male', 'Female', or possibly other identifiers).\n",
    "    Diagnosis: Diabetes-related diagnosis (Type 1, Type 2, Prediabetes, Gestational, or missing).\n",
    "    Has_Insurance: Indicates whether the patient has health insurance coverage (e.g., Yes/No or 1/0).\n",
    "    Total_Cost: The total cost incurred for the patient's visit, including all services.\n",
    "    Area: Geographical area or region where the patient resides or where the facility is located\n",
    "      within the emirate (e.g., Al Ain, Palm Jumeirah).\n",
    "    Registration duration: Time spent during registration (in minutes).\n",
    "    Nursing duration: Time spent with nursing staff (in minutes).\n",
    "    Laboratory duration: Time spent in the laboratory (in minutes).\n",
    "    Consultation duration: Time spent in consultation (in minutes).\n",
    "    Pharmacy duration: Time spent at the pharmacy (in minutes)\n",
    "    Year :Year in which the patient visit took place (extracted from Visit_Date ).''')\n",
    "\n",
    "elif page == 'Analysis Questions':\n",
    "\n",
    "    st.header(' Q1 What is the percentage of Diagnosis ?')\n",
    "    st.plotly_chart(px.pie(data_frame= df , names= 'Diagnosis'))\n",
    "    st.write(''' Insight Q1:\n",
    "\n",
    "Diagnosis Percentage AnalysisWhat This Metric Tells Us\n",
    "The percentage of each Diagnosis shows how common each medical condition is among\n",
    "all patient visits.It helps identify:\n",
    "The most frequent health issues,\n",
    "Potential areas for preventive care,\n",
    "Resource allocation priorities.''')\n",
    "    st.header('Q2 What is the percentage of Gender ?')\n",
    "    st.plotly_chart(px.pie(data_frame= df , names= 'Gender'))\n",
    "    st.write('''insight Q2:\n",
    "\n",
    " after comparing the a count   It was found that the number of male visitors was greater than the number of females and others.''')\n",
    "    st.header('Q3 Does age affect the total medical cost?')\n",
    "    st.plotly_chart(px.scatter(data_frame= df , x= 'Age' , y='Total_Cost'))\n",
    "    st.write(''' Insight Q3:\n",
    "\n",
    "    There is virtually no correlation between age and total medical cost in this dataset. \n",
    "             Age does not significantly impact the total cost. ''')\n",
    "    st.header(' Q4 What Is The Average Cost Per Gender ?')\n",
    "    average_total_cost_per_gender = df.groupby('Gender')['Total_Cost'].mean().sort_values(ascending= False).reset_index()\n",
    "    st.plotly_chart(px.bar(average_total_cost_per_gender , x= 'Gender', y= 'Total_Cost' , labels= {'Total_Cost': 'avg total cost per gender'}, \n",
    "       title= 'average_total_cost_per_gender' , text_auto=True))\n",
    "    st.write('''Insight Q4:\n",
    "\n",
    "The average cost is nearly identical across all genders,\n",
    " indicating that gender does not influence total cost in this dataset.\n",
    "     ''')\n",
    "    st.header('Q5 What Is The Total Cost Per Year ?')\n",
    "    total_cost_per_year = df.groupby('Year')['Total_Cost'].sum().sort_values(ascending= False).reset_index().round(2)\n",
    "    st.plotly_chart(px.bar(total_cost_per_year, x= 'Year', y= 'Total_Cost' , labels= {'Total_Cost': 'total cost per year'}, \n",
    "       title= 'total cost per year' , text_auto=True))\n",
    "    st.write('''Insight Q5:\n",
    "\n",
    "Total medical costs are consistent year-over-year, hovering around 34 million AED.\n",
    "     ''')\n",
    "    st.header('Q6 What Is The Average Consultation Duration Per Diagnosis?')\n",
    "    avg_Consultation_Duration_per_diagnosis = df.groupby('Diagnosis')['Consultation_Duration'].mean().sort_values(ascending= False).reset_index().rename(columns={'Consultation_Duration': 'Avg_Consultation_Duration'})\n",
    "    st.plotly_chart(px.bar(avg_Consultation_Duration_per_diagnosis, x='Diagnosis',y='Avg_Consultation_Duration' ,\n",
    "       labels= {'Consultation_Duration' : 'Average Consultation Duration'}, title= 'Average Consultation Duration per Diagnosis',\n",
    "       text_auto= True) )\n",
    "    st.write('''Insight Q6:\n",
    "\n",
    "Type 3 Diabetes patients tend to have the longest consultations on average.\n",
    "     ''')\n",
    "    st.header('Q7 What Is The Avg Total Cost Per Gender Per Diagnosis ?')\n",
    "    avg_total_cost_per_area = df.groupby(['Gender', 'Diagnosis'])['Total_Cost'].mean().reset_index()\n",
    "    st.plotly_chart(px.bar(avg_total_cost_per_area ,x='Diagnosis' , y='Total_Cost',\n",
    "         labels= {'Total_Cost' : 'Avg of Total_Cost'}, title= 'Avg Total_Cost per Diagnosis per Gender',\n",
    "       text_auto= True, color= 'Gender', barmode= 'group'))\n",
    "\n",
    "    st.write('''Insight Q7:\n",
    "\n",
    "Costs vary slightly by area and diagnosis, \n",
    "with Downtown Dubai showing consistently higher costs compared to others.\n",
    "     ''')\n",
    "    st.header('Q8 What Is The Average Cost Per Area?')\n",
    "    avg_total_cost_per_area = df.groupby('Area')['Total_Cost'].mean().sort_values(ascending=False).reset_index()\n",
    "    st.plotly_chart(px.bar(avg_total_cost_per_area, x='Area', y='Total_Cost',\n",
    "        labels={'Total_Cost': 'Avg Total Cost'},\n",
    "        title='Avg Total Cost per Area', text_auto=True))\n",
    "    st.write('''Insight Q8:\n",
    "\n",
    "Some areas, such as Downtown Dubai or Al Ain, show higher average medical costs, \n",
    "which may reflect differences in healthcare facilities, services, or demographics.''')\n",
    "elif page == 'Reporting':\n",
    "    Gender = st.sidebar.selectbox('Gender' ,df['Gender'].unique())\n",
    "    Year = st.sidebar.selectbox('Year', df['Year'].unique())\n",
    "    Area = st.sidebar.selectbox('Area',df['Area'].unique())\n",
    "    Diagnosis = st.sidebar.selectbox('Diagnosis', df['Diagnosis'].unique())\n",
    "    df2 = df[(df['Gender']== Gender) & (df['Year'] == Year) &(df['Area']== Area) & (df['Diagnosis']==Diagnosis) ]\n",
    "    st.subheader(\"Distribution of Total Cost for Selected Filters\")\n",
    "    if not df2.empty:\n",
    "        st.plotly_chart(px.histogram(df2, x='Total_Cost', nbins=20, title='Total Cost Distribution'))\n",
    "    else:\n",
    "        st.warning(\"No data available for the selected filters.\")\n",
    "    st.dataframe(df2.head(50))    \n",
    "\n",
    "    st.subheader(\"Average Consultation Duration by Gender\")\n",
    "    if not df2.empty:\n",
    "        avg_duration = df2.groupby('Gender')['Consultation_Duration'].mean().reset_index()\n",
    "        st.plotly_chart(px.bar(avg_duration, x='Gender', y='Consultation_Duration',\n",
    "            title='Average Consultation Duration by Gender',\n",
    "            labels={'Consultation_Duration': 'Avg Duration (minutes)'}))\n",
    "    else:\n",
    "        st.warning(\"No data available for the selected filters.\") \n"
   ]
  },
  {
   "cell_type": "code",
   "execution_count": 59,
   "id": "eb5b1c32",
   "metadata": {},
   "outputs": [
    {
     "name": "stdout",
     "output_type": "stream",
     "text": [
      "^C\n"
     ]
    }
   ],
   "source": [
    "!streamlit run diabetes_patient.py"
   ]
  },
  {
   "cell_type": "code",
   "execution_count": null,
   "id": "a72bd94d",
   "metadata": {},
   "outputs": [],
   "source": [
    "import pipreqs"
   ]
  },
  {
   "cell_type": "code",
   "execution_count": null,
   "id": "1a8c5c3c",
   "metadata": {},
   "outputs": [
    {
     "name": "stderr",
     "output_type": "stream",
     "text": [
      "INFO: Not scanning for jupyter notebooks.\n",
      "WARNING: Import named \"pandas\" not found locally. Trying to resolve it at the PyPI server.\n",
      "WARNING: Import named \"pandas\" was resolved to \"pandas:2.2.3\" package (https://pypi.org/project/pandas/).\n",
      "Please, verify manually the final list of requirements.txt to avoid possible dependency confusions.\n",
      "WARNING: Import named \"seaborn\" not found locally. Trying to resolve it at the PyPI server.\n",
      "WARNING: Import named \"seaborn\" was resolved to \"seaborn:0.13.2\" package (https://pypi.org/project/seaborn/).\n",
      "Please, verify manually the final list of requirements.txt to avoid possible dependency confusions.\n",
      "INFO: Successfully saved requirements file in e:\\data science & python\\mid project mahmoud sayed\\requirements.txt\n"
     ]
    }
   ],
   "source": [
    "! pipreqs"
   ]
  },
  {
   "cell_type": "markdown",
   "id": "851fd222",
   "metadata": {},
   "source": [
    "## Data Preprocessing"
   ]
  },
  {
   "cell_type": "code",
   "execution_count": null,
   "id": "d69e140e",
   "metadata": {},
   "outputs": [
    {
     "data": {
      "text/html": [
       "<div>\n",
       "<style scoped>\n",
       "    .dataframe tbody tr th:only-of-type {\n",
       "        vertical-align: middle;\n",
       "    }\n",
       "\n",
       "    .dataframe tbody tr th {\n",
       "        vertical-align: top;\n",
       "    }\n",
       "\n",
       "    .dataframe thead th {\n",
       "        text-align: right;\n",
       "    }\n",
       "</style>\n",
       "<table border=\"1\" class=\"dataframe\">\n",
       "  <thead>\n",
       "    <tr style=\"text-align: right;\">\n",
       "      <th></th>\n",
       "      <th>Visit_Date</th>\n",
       "      <th>Patient_ID</th>\n",
       "      <th>Age</th>\n",
       "      <th>Gender</th>\n",
       "      <th>Diagnosis</th>\n",
       "      <th>Has_Insurance</th>\n",
       "      <th>Area</th>\n",
       "      <th>Total_Cost</th>\n",
       "      <th>Registration_Duration</th>\n",
       "      <th>Nursing_Duration</th>\n",
       "      <th>Laboratory_Duration</th>\n",
       "      <th>Consultation_Duration</th>\n",
       "      <th>Pharmacy_Duration</th>\n",
       "      <th>Year</th>\n",
       "    </tr>\n",
       "  </thead>\n",
       "  <tbody>\n",
       "    <tr>\n",
       "      <th>0</th>\n",
       "      <td>1/1/2019</td>\n",
       "      <td>4174</td>\n",
       "      <td>28</td>\n",
       "      <td>Male</td>\n",
       "      <td>Type 1 Diabetes</td>\n",
       "      <td>Yes</td>\n",
       "      <td>Downtown Dubai</td>\n",
       "      <td>711.975905</td>\n",
       "      <td>21.6</td>\n",
       "      <td>21.1</td>\n",
       "      <td>29.6</td>\n",
       "      <td>25.8</td>\n",
       "      <td>28.2</td>\n",
       "      <td>2019</td>\n",
       "    </tr>\n",
       "    <tr>\n",
       "      <th>1</th>\n",
       "      <td>1/1/2019</td>\n",
       "      <td>4507</td>\n",
       "      <td>62</td>\n",
       "      <td>Female</td>\n",
       "      <td>Type 2 Diabetes</td>\n",
       "      <td>Yes</td>\n",
       "      <td>Downtown Dubai</td>\n",
       "      <td>507.680147</td>\n",
       "      <td>13.0</td>\n",
       "      <td>50.9</td>\n",
       "      <td>34.8</td>\n",
       "      <td>26.3</td>\n",
       "      <td>23.2</td>\n",
       "      <td>2019</td>\n",
       "    </tr>\n",
       "    <tr>\n",
       "      <th>2</th>\n",
       "      <td>1/1/2019</td>\n",
       "      <td>1860</td>\n",
       "      <td>47</td>\n",
       "      <td>Male</td>\n",
       "      <td>Prediabetes</td>\n",
       "      <td>Yes</td>\n",
       "      <td>Downtown Dubai</td>\n",
       "      <td>317.582770</td>\n",
       "      <td>27.3</td>\n",
       "      <td>20.9</td>\n",
       "      <td>23.9</td>\n",
       "      <td>35.1</td>\n",
       "      <td>14.8</td>\n",
       "      <td>2019</td>\n",
       "    </tr>\n",
       "    <tr>\n",
       "      <th>3</th>\n",
       "      <td>1/1/2019</td>\n",
       "      <td>2294</td>\n",
       "      <td>10</td>\n",
       "      <td>Female</td>\n",
       "      <td>Type 2 Diabetes</td>\n",
       "      <td>Yes</td>\n",
       "      <td>Downtown Dubai</td>\n",
       "      <td>484.387822</td>\n",
       "      <td>19.2</td>\n",
       "      <td>30.8</td>\n",
       "      <td>22.9</td>\n",
       "      <td>20.6</td>\n",
       "      <td>21.9</td>\n",
       "      <td>2019</td>\n",
       "    </tr>\n",
       "    <tr>\n",
       "      <th>4</th>\n",
       "      <td>1/1/2019</td>\n",
       "      <td>2130</td>\n",
       "      <td>66</td>\n",
       "      <td>Male</td>\n",
       "      <td>Type 2 Diabetes</td>\n",
       "      <td>Yes</td>\n",
       "      <td>Downtown Dubai</td>\n",
       "      <td>118.649105</td>\n",
       "      <td>13.3</td>\n",
       "      <td>29.1</td>\n",
       "      <td>19.5</td>\n",
       "      <td>34.2</td>\n",
       "      <td>36.6</td>\n",
       "      <td>2019</td>\n",
       "    </tr>\n",
       "  </tbody>\n",
       "</table>\n",
       "</div>"
      ],
      "text/plain": [
       "  Visit_Date  Patient_ID  Age  Gender        Diagnosis Has_Insurance  \\\n",
       "0   1/1/2019        4174   28    Male  Type 1 Diabetes           Yes   \n",
       "1   1/1/2019        4507   62  Female  Type 2 Diabetes           Yes   \n",
       "2   1/1/2019        1860   47    Male      Prediabetes           Yes   \n",
       "3   1/1/2019        2294   10  Female  Type 2 Diabetes           Yes   \n",
       "4   1/1/2019        2130   66    Male  Type 2 Diabetes           Yes   \n",
       "\n",
       "             Area  Total_Cost  Registration_Duration  Nursing_Duration  \\\n",
       "0  Downtown Dubai  711.975905                   21.6              21.1   \n",
       "1  Downtown Dubai  507.680147                   13.0              50.9   \n",
       "2  Downtown Dubai  317.582770                   27.3              20.9   \n",
       "3  Downtown Dubai  484.387822                   19.2              30.8   \n",
       "4  Downtown Dubai  118.649105                   13.3              29.1   \n",
       "\n",
       "   Laboratory_Duration  Consultation_Duration  Pharmacy_Duration  Year  \n",
       "0                 29.6                   25.8               28.2  2019  \n",
       "1                 34.8                   26.3               23.2  2019  \n",
       "2                 23.9                   35.1               14.8  2019  \n",
       "3                 22.9                   20.6               21.9  2019  \n",
       "4                 19.5                   34.2               36.6  2019  "
      ]
     },
     "execution_count": 362,
     "metadata": {},
     "output_type": "execute_result"
    }
   ],
   "source": [
    "df.head()"
   ]
  },
  {
   "cell_type": "code",
   "execution_count": null,
   "id": "f77fbe0e",
   "metadata": {},
   "outputs": [],
   "source": [
    "df.drop(['Visit_Date'], axis=1 , inplace= True)"
   ]
  },
  {
   "cell_type": "code",
   "execution_count": null,
   "id": "c63e75da",
   "metadata": {},
   "outputs": [
    {
     "data": {
      "text/plain": [
       "np.int64(0)"
      ]
     },
     "execution_count": 364,
     "metadata": {},
     "output_type": "execute_result"
    }
   ],
   "source": [
    "df.duplicated().sum()"
   ]
  },
  {
   "cell_type": "markdown",
   "id": "9bf249d9",
   "metadata": {},
   "source": [
    "### Split Data into Input features and Target Feature"
   ]
  },
  {
   "cell_type": "code",
   "execution_count": null,
   "id": "b93f6db2",
   "metadata": {},
   "outputs": [],
   "source": [
    "x= df.drop('Total_Cost', axis= 1)\n",
    "y = df['Total_Cost']"
   ]
  },
  {
   "cell_type": "markdown",
   "id": "537ba5bb",
   "metadata": {},
   "source": [
    "### Split Data into Train and Test"
   ]
  },
  {
   "cell_type": "code",
   "execution_count": null,
   "id": "c9a08eae",
   "metadata": {},
   "outputs": [],
   "source": [
    "from sklearn.model_selection import train_test_split \n",
    "\n",
    "x_train , x_test , y_train , y_test = train_test_split(x,y, test_size= 0.2 , random_state= 42)"
   ]
  },
  {
   "cell_type": "code",
   "execution_count": null,
   "id": "b65e5824",
   "metadata": {},
   "outputs": [],
   "source": [
    "x_train.reset_index(drop=True , inplace= True)\n",
    "x_test.reset_index(drop=True , inplace= True)\n",
    "y_train.reset_index(drop=True , inplace= True)\n",
    "y_test.reset_index(drop=True , inplace= True)"
   ]
  },
  {
   "cell_type": "code",
   "execution_count": null,
   "id": "8ceb6170",
   "metadata": {},
   "outputs": [
    {
     "data": {
      "text/html": [
       "<div>\n",
       "<style scoped>\n",
       "    .dataframe tbody tr th:only-of-type {\n",
       "        vertical-align: middle;\n",
       "    }\n",
       "\n",
       "    .dataframe tbody tr th {\n",
       "        vertical-align: top;\n",
       "    }\n",
       "\n",
       "    .dataframe thead th {\n",
       "        text-align: right;\n",
       "    }\n",
       "</style>\n",
       "<table border=\"1\" class=\"dataframe\">\n",
       "  <thead>\n",
       "    <tr style=\"text-align: right;\">\n",
       "      <th></th>\n",
       "      <th>Patient_ID</th>\n",
       "      <th>Age</th>\n",
       "      <th>Gender</th>\n",
       "      <th>Diagnosis</th>\n",
       "      <th>Has_Insurance</th>\n",
       "      <th>Area</th>\n",
       "      <th>Registration_Duration</th>\n",
       "      <th>Nursing_Duration</th>\n",
       "      <th>Laboratory_Duration</th>\n",
       "      <th>Consultation_Duration</th>\n",
       "      <th>Pharmacy_Duration</th>\n",
       "      <th>Year</th>\n",
       "    </tr>\n",
       "  </thead>\n",
       "  <tbody>\n",
       "    <tr>\n",
       "      <th>0</th>\n",
       "      <td>2284</td>\n",
       "      <td>27</td>\n",
       "      <td>Female</td>\n",
       "      <td>Type 2 Diabetes</td>\n",
       "      <td>Yes</td>\n",
       "      <td>Downtown Dubai</td>\n",
       "      <td>22.9</td>\n",
       "      <td>32.9</td>\n",
       "      <td>19.2</td>\n",
       "      <td>25.6</td>\n",
       "      <td>33.1</td>\n",
       "      <td>2024</td>\n",
       "    </tr>\n",
       "    <tr>\n",
       "      <th>1</th>\n",
       "      <td>3576</td>\n",
       "      <td>60</td>\n",
       "      <td>Female</td>\n",
       "      <td>Type 2 Diabetes</td>\n",
       "      <td>Yes</td>\n",
       "      <td>Downtown Dubai</td>\n",
       "      <td>24.1</td>\n",
       "      <td>13.9</td>\n",
       "      <td>39.0</td>\n",
       "      <td>42.8</td>\n",
       "      <td>26.1</td>\n",
       "      <td>2022</td>\n",
       "    </tr>\n",
       "    <tr>\n",
       "      <th>2</th>\n",
       "      <td>4340</td>\n",
       "      <td>39</td>\n",
       "      <td>Male</td>\n",
       "      <td>Type 1 Diabetes</td>\n",
       "      <td>Yes</td>\n",
       "      <td>Jumeirah</td>\n",
       "      <td>26.9</td>\n",
       "      <td>17.1</td>\n",
       "      <td>32.8</td>\n",
       "      <td>29.9</td>\n",
       "      <td>13.8</td>\n",
       "      <td>2024</td>\n",
       "    </tr>\n",
       "    <tr>\n",
       "      <th>3</th>\n",
       "      <td>2037</td>\n",
       "      <td>60</td>\n",
       "      <td>Male</td>\n",
       "      <td>NaN</td>\n",
       "      <td>NaN</td>\n",
       "      <td>Jumeirah</td>\n",
       "      <td>28.9</td>\n",
       "      <td>36.6</td>\n",
       "      <td>15.3</td>\n",
       "      <td>49.6</td>\n",
       "      <td>56.9</td>\n",
       "      <td>2022</td>\n",
       "    </tr>\n",
       "    <tr>\n",
       "      <th>4</th>\n",
       "      <td>1010</td>\n",
       "      <td>75</td>\n",
       "      <td>Female</td>\n",
       "      <td>Type 2 Diabetes</td>\n",
       "      <td>No</td>\n",
       "      <td>Dubai Silicon Oasis</td>\n",
       "      <td>2.4</td>\n",
       "      <td>53.7</td>\n",
       "      <td>16.8</td>\n",
       "      <td>45.3</td>\n",
       "      <td>36.0</td>\n",
       "      <td>2024</td>\n",
       "    </tr>\n",
       "    <tr>\n",
       "      <th>...</th>\n",
       "      <td>...</td>\n",
       "      <td>...</td>\n",
       "      <td>...</td>\n",
       "      <td>...</td>\n",
       "      <td>...</td>\n",
       "      <td>...</td>\n",
       "      <td>...</td>\n",
       "      <td>...</td>\n",
       "      <td>...</td>\n",
       "      <td>...</td>\n",
       "      <td>...</td>\n",
       "      <td>...</td>\n",
       "    </tr>\n",
       "    <tr>\n",
       "      <th>371197</th>\n",
       "      <td>2670</td>\n",
       "      <td>13</td>\n",
       "      <td>Male</td>\n",
       "      <td>Type 1 Diabetes</td>\n",
       "      <td>Yes</td>\n",
       "      <td>Downtown Dubai</td>\n",
       "      <td>20.9</td>\n",
       "      <td>33.8</td>\n",
       "      <td>24.8</td>\n",
       "      <td>0.8</td>\n",
       "      <td>31.2</td>\n",
       "      <td>2022</td>\n",
       "    </tr>\n",
       "    <tr>\n",
       "      <th>371198</th>\n",
       "      <td>1965</td>\n",
       "      <td>56</td>\n",
       "      <td>Male</td>\n",
       "      <td>Type 2 Diabetes</td>\n",
       "      <td>Yes</td>\n",
       "      <td>Downtown Dubai</td>\n",
       "      <td>33.2</td>\n",
       "      <td>2.6</td>\n",
       "      <td>24.4</td>\n",
       "      <td>23.9</td>\n",
       "      <td>16.3</td>\n",
       "      <td>2023</td>\n",
       "    </tr>\n",
       "    <tr>\n",
       "      <th>371199</th>\n",
       "      <td>2620</td>\n",
       "      <td>4</td>\n",
       "      <td>Male</td>\n",
       "      <td>Type 2 Diabetes</td>\n",
       "      <td>No</td>\n",
       "      <td>Al Barsha</td>\n",
       "      <td>45.1</td>\n",
       "      <td>45.2</td>\n",
       "      <td>36.8</td>\n",
       "      <td>36.2</td>\n",
       "      <td>32.1</td>\n",
       "      <td>2020</td>\n",
       "    </tr>\n",
       "    <tr>\n",
       "      <th>371200</th>\n",
       "      <td>1488</td>\n",
       "      <td>22</td>\n",
       "      <td>Female</td>\n",
       "      <td>Type 1 Diabetes</td>\n",
       "      <td>Yes</td>\n",
       "      <td>Downtown Dubai</td>\n",
       "      <td>14.6</td>\n",
       "      <td>21.3</td>\n",
       "      <td>20.2</td>\n",
       "      <td>17.9</td>\n",
       "      <td>27.7</td>\n",
       "      <td>2020</td>\n",
       "    </tr>\n",
       "    <tr>\n",
       "      <th>371201</th>\n",
       "      <td>2589</td>\n",
       "      <td>60</td>\n",
       "      <td>Other</td>\n",
       "      <td>Unknown</td>\n",
       "      <td>Yes</td>\n",
       "      <td>Jumeirah</td>\n",
       "      <td>26.0</td>\n",
       "      <td>21.9</td>\n",
       "      <td>22.7</td>\n",
       "      <td>10.6</td>\n",
       "      <td>30.5</td>\n",
       "      <td>2020</td>\n",
       "    </tr>\n",
       "  </tbody>\n",
       "</table>\n",
       "<p>371202 rows × 12 columns</p>\n",
       "</div>"
      ],
      "text/plain": [
       "        Patient_ID  Age  Gender        Diagnosis Has_Insurance  \\\n",
       "0             2284   27  Female  Type 2 Diabetes           Yes   \n",
       "1             3576   60  Female  Type 2 Diabetes           Yes   \n",
       "2             4340   39    Male  Type 1 Diabetes           Yes   \n",
       "3             2037   60    Male              NaN           NaN   \n",
       "4             1010   75  Female  Type 2 Diabetes            No   \n",
       "...            ...  ...     ...              ...           ...   \n",
       "371197        2670   13    Male  Type 1 Diabetes           Yes   \n",
       "371198        1965   56    Male  Type 2 Diabetes           Yes   \n",
       "371199        2620    4    Male  Type 2 Diabetes            No   \n",
       "371200        1488   22  Female  Type 1 Diabetes           Yes   \n",
       "371201        2589   60   Other          Unknown           Yes   \n",
       "\n",
       "                       Area  Registration_Duration  Nursing_Duration  \\\n",
       "0            Downtown Dubai                   22.9              32.9   \n",
       "1            Downtown Dubai                   24.1              13.9   \n",
       "2                  Jumeirah                   26.9              17.1   \n",
       "3                  Jumeirah                   28.9              36.6   \n",
       "4       Dubai Silicon Oasis                    2.4              53.7   \n",
       "...                     ...                    ...               ...   \n",
       "371197       Downtown Dubai                   20.9              33.8   \n",
       "371198       Downtown Dubai                   33.2               2.6   \n",
       "371199            Al Barsha                   45.1              45.2   \n",
       "371200       Downtown Dubai                   14.6              21.3   \n",
       "371201             Jumeirah                   26.0              21.9   \n",
       "\n",
       "        Laboratory_Duration  Consultation_Duration  Pharmacy_Duration  Year  \n",
       "0                      19.2                   25.6               33.1  2024  \n",
       "1                      39.0                   42.8               26.1  2022  \n",
       "2                      32.8                   29.9               13.8  2024  \n",
       "3                      15.3                   49.6               56.9  2022  \n",
       "4                      16.8                   45.3               36.0  2024  \n",
       "...                     ...                    ...                ...   ...  \n",
       "371197                 24.8                    0.8               31.2  2022  \n",
       "371198                 24.4                   23.9               16.3  2023  \n",
       "371199                 36.8                   36.2               32.1  2020  \n",
       "371200                 20.2                   17.9               27.7  2020  \n",
       "371201                 22.7                   10.6               30.5  2020  \n",
       "\n",
       "[371202 rows x 12 columns]"
      ]
     },
     "execution_count": 396,
     "metadata": {},
     "output_type": "execute_result"
    }
   ],
   "source": [
    "x_train"
   ]
  },
  {
   "cell_type": "code",
   "execution_count": null,
   "id": "6547c2df",
   "metadata": {},
   "outputs": [
    {
     "data": {
      "text/html": [
       "<div>\n",
       "<style scoped>\n",
       "    .dataframe tbody tr th:only-of-type {\n",
       "        vertical-align: middle;\n",
       "    }\n",
       "\n",
       "    .dataframe tbody tr th {\n",
       "        vertical-align: top;\n",
       "    }\n",
       "\n",
       "    .dataframe thead th {\n",
       "        text-align: right;\n",
       "    }\n",
       "</style>\n",
       "<table border=\"1\" class=\"dataframe\">\n",
       "  <thead>\n",
       "    <tr style=\"text-align: right;\">\n",
       "      <th></th>\n",
       "      <th>Patient_ID</th>\n",
       "      <th>Age</th>\n",
       "      <th>Gender</th>\n",
       "      <th>Diagnosis</th>\n",
       "      <th>Has_Insurance</th>\n",
       "      <th>Area</th>\n",
       "      <th>Registration_Duration</th>\n",
       "      <th>Nursing_Duration</th>\n",
       "      <th>Laboratory_Duration</th>\n",
       "      <th>Consultation_Duration</th>\n",
       "      <th>Pharmacy_Duration</th>\n",
       "      <th>Year</th>\n",
       "    </tr>\n",
       "  </thead>\n",
       "  <tbody>\n",
       "    <tr>\n",
       "      <th>0</th>\n",
       "      <td>4151</td>\n",
       "      <td>20</td>\n",
       "      <td>Female</td>\n",
       "      <td>Prediabetes</td>\n",
       "      <td>No</td>\n",
       "      <td>Dubai Silicon Oasis</td>\n",
       "      <td>18.9</td>\n",
       "      <td>23.2</td>\n",
       "      <td>48.8</td>\n",
       "      <td>33.5</td>\n",
       "      <td>73.8</td>\n",
       "      <td>2020</td>\n",
       "    </tr>\n",
       "    <tr>\n",
       "      <th>1</th>\n",
       "      <td>4304</td>\n",
       "      <td>29</td>\n",
       "      <td>Male</td>\n",
       "      <td>Type 1 Diabetes</td>\n",
       "      <td>Yes</td>\n",
       "      <td>Downtown Dubai</td>\n",
       "      <td>14.9</td>\n",
       "      <td>17.8</td>\n",
       "      <td>19.8</td>\n",
       "      <td>16.3</td>\n",
       "      <td>29.5</td>\n",
       "      <td>2024</td>\n",
       "    </tr>\n",
       "    <tr>\n",
       "      <th>2</th>\n",
       "      <td>1503</td>\n",
       "      <td>50</td>\n",
       "      <td>Male</td>\n",
       "      <td>Type 2 Diabetes</td>\n",
       "      <td>Yes</td>\n",
       "      <td>Downtown Dubai</td>\n",
       "      <td>13.6</td>\n",
       "      <td>28.4</td>\n",
       "      <td>10.1</td>\n",
       "      <td>9.7</td>\n",
       "      <td>21.3</td>\n",
       "      <td>2024</td>\n",
       "    </tr>\n",
       "    <tr>\n",
       "      <th>3</th>\n",
       "      <td>3662</td>\n",
       "      <td>32</td>\n",
       "      <td>Male</td>\n",
       "      <td>Type 2 Diabetes</td>\n",
       "      <td>Yes</td>\n",
       "      <td>Downtown Dubai</td>\n",
       "      <td>21.0</td>\n",
       "      <td>25.7</td>\n",
       "      <td>7.2</td>\n",
       "      <td>27.3</td>\n",
       "      <td>20.5</td>\n",
       "      <td>2021</td>\n",
       "    </tr>\n",
       "    <tr>\n",
       "      <th>4</th>\n",
       "      <td>4086</td>\n",
       "      <td>18</td>\n",
       "      <td>Female</td>\n",
       "      <td>Type 2 Diabetes</td>\n",
       "      <td>Yes</td>\n",
       "      <td>Downtown Dubai</td>\n",
       "      <td>21.5</td>\n",
       "      <td>24.8</td>\n",
       "      <td>0.4</td>\n",
       "      <td>22.7</td>\n",
       "      <td>27.6</td>\n",
       "      <td>2023</td>\n",
       "    </tr>\n",
       "    <tr>\n",
       "      <th>...</th>\n",
       "      <td>...</td>\n",
       "      <td>...</td>\n",
       "      <td>...</td>\n",
       "      <td>...</td>\n",
       "      <td>...</td>\n",
       "      <td>...</td>\n",
       "      <td>...</td>\n",
       "      <td>...</td>\n",
       "      <td>...</td>\n",
       "      <td>...</td>\n",
       "      <td>...</td>\n",
       "      <td>...</td>\n",
       "    </tr>\n",
       "    <tr>\n",
       "      <th>92796</th>\n",
       "      <td>2916</td>\n",
       "      <td>60</td>\n",
       "      <td>Male</td>\n",
       "      <td>Type 2 Diabetes</td>\n",
       "      <td>Yes</td>\n",
       "      <td>Downtown Dubai</td>\n",
       "      <td>12.3</td>\n",
       "      <td>27.9</td>\n",
       "      <td>42.2</td>\n",
       "      <td>21.5</td>\n",
       "      <td>29.7</td>\n",
       "      <td>2024</td>\n",
       "    </tr>\n",
       "    <tr>\n",
       "      <th>92797</th>\n",
       "      <td>1247</td>\n",
       "      <td>52</td>\n",
       "      <td>Female</td>\n",
       "      <td>Type 2 Diabetes</td>\n",
       "      <td>No</td>\n",
       "      <td>International City</td>\n",
       "      <td>22.4</td>\n",
       "      <td>28.7</td>\n",
       "      <td>32.3</td>\n",
       "      <td>34.0</td>\n",
       "      <td>29.1</td>\n",
       "      <td>2021</td>\n",
       "    </tr>\n",
       "    <tr>\n",
       "      <th>92798</th>\n",
       "      <td>2608</td>\n",
       "      <td>8</td>\n",
       "      <td>Male</td>\n",
       "      <td>NaN</td>\n",
       "      <td>NaN</td>\n",
       "      <td>Downtown Dubai</td>\n",
       "      <td>15.0</td>\n",
       "      <td>34.6</td>\n",
       "      <td>33.7</td>\n",
       "      <td>30.8</td>\n",
       "      <td>24.7</td>\n",
       "      <td>2021</td>\n",
       "    </tr>\n",
       "    <tr>\n",
       "      <th>92799</th>\n",
       "      <td>1922</td>\n",
       "      <td>39</td>\n",
       "      <td>Male</td>\n",
       "      <td>Unknown</td>\n",
       "      <td>Yes</td>\n",
       "      <td>Downtown Dubai</td>\n",
       "      <td>23.9</td>\n",
       "      <td>22.2</td>\n",
       "      <td>21.8</td>\n",
       "      <td>32.5</td>\n",
       "      <td>39.2</td>\n",
       "      <td>2019</td>\n",
       "    </tr>\n",
       "    <tr>\n",
       "      <th>92800</th>\n",
       "      <td>4593</td>\n",
       "      <td>29</td>\n",
       "      <td>Female</td>\n",
       "      <td>Type 2 Diabetes</td>\n",
       "      <td>Yes</td>\n",
       "      <td>Deira</td>\n",
       "      <td>21.9</td>\n",
       "      <td>28.2</td>\n",
       "      <td>16.7</td>\n",
       "      <td>20.9</td>\n",
       "      <td>20.3</td>\n",
       "      <td>2023</td>\n",
       "    </tr>\n",
       "  </tbody>\n",
       "</table>\n",
       "<p>92801 rows × 12 columns</p>\n",
       "</div>"
      ],
      "text/plain": [
       "       Patient_ID  Age  Gender        Diagnosis Has_Insurance  \\\n",
       "0            4151   20  Female      Prediabetes            No   \n",
       "1            4304   29    Male  Type 1 Diabetes           Yes   \n",
       "2            1503   50    Male  Type 2 Diabetes           Yes   \n",
       "3            3662   32    Male  Type 2 Diabetes           Yes   \n",
       "4            4086   18  Female  Type 2 Diabetes           Yes   \n",
       "...           ...  ...     ...              ...           ...   \n",
       "92796        2916   60    Male  Type 2 Diabetes           Yes   \n",
       "92797        1247   52  Female  Type 2 Diabetes            No   \n",
       "92798        2608    8    Male              NaN           NaN   \n",
       "92799        1922   39    Male          Unknown           Yes   \n",
       "92800        4593   29  Female  Type 2 Diabetes           Yes   \n",
       "\n",
       "                      Area  Registration_Duration  Nursing_Duration  \\\n",
       "0      Dubai Silicon Oasis                   18.9              23.2   \n",
       "1           Downtown Dubai                   14.9              17.8   \n",
       "2           Downtown Dubai                   13.6              28.4   \n",
       "3           Downtown Dubai                   21.0              25.7   \n",
       "4           Downtown Dubai                   21.5              24.8   \n",
       "...                    ...                    ...               ...   \n",
       "92796       Downtown Dubai                   12.3              27.9   \n",
       "92797   International City                   22.4              28.7   \n",
       "92798       Downtown Dubai                   15.0              34.6   \n",
       "92799       Downtown Dubai                   23.9              22.2   \n",
       "92800                Deira                   21.9              28.2   \n",
       "\n",
       "       Laboratory_Duration  Consultation_Duration  Pharmacy_Duration  Year  \n",
       "0                     48.8                   33.5               73.8  2020  \n",
       "1                     19.8                   16.3               29.5  2024  \n",
       "2                     10.1                    9.7               21.3  2024  \n",
       "3                      7.2                   27.3               20.5  2021  \n",
       "4                      0.4                   22.7               27.6  2023  \n",
       "...                    ...                    ...                ...   ...  \n",
       "92796                 42.2                   21.5               29.7  2024  \n",
       "92797                 32.3                   34.0               29.1  2021  \n",
       "92798                 33.7                   30.8               24.7  2021  \n",
       "92799                 21.8                   32.5               39.2  2019  \n",
       "92800                 16.7                   20.9               20.3  2023  \n",
       "\n",
       "[92801 rows x 12 columns]"
      ]
     },
     "execution_count": 397,
     "metadata": {},
     "output_type": "execute_result"
    }
   ],
   "source": [
    "x_test"
   ]
  },
  {
   "cell_type": "code",
   "execution_count": null,
   "id": "1694e05e",
   "metadata": {},
   "outputs": [
    {
     "data": {
      "text/plain": [
       "0          184.557073\n",
       "1          362.122415\n",
       "2          505.909587\n",
       "3            6.814337\n",
       "4          441.684509\n",
       "             ...     \n",
       "371197     614.893158\n",
       "371198     222.823501\n",
       "371199     569.280185\n",
       "371200     618.054066\n",
       "371201    1315.350825\n",
       "Name: Total_Cost, Length: 371202, dtype: float64"
      ]
     },
     "execution_count": 398,
     "metadata": {},
     "output_type": "execute_result"
    }
   ],
   "source": [
    "y_train"
   ]
  },
  {
   "cell_type": "code",
   "execution_count": null,
   "id": "f752762f",
   "metadata": {},
   "outputs": [
    {
     "data": {
      "text/plain": [
       "0        193.777766\n",
       "1        359.039146\n",
       "2        420.333965\n",
       "3        255.521423\n",
       "4        163.647980\n",
       "            ...    \n",
       "92796    463.048650\n",
       "92797     34.652727\n",
       "92798    586.137299\n",
       "92799    300.795880\n",
       "92800    567.253219\n",
       "Name: Total_Cost, Length: 92801, dtype: float64"
      ]
     },
     "execution_count": 399,
     "metadata": {},
     "output_type": "execute_result"
    }
   ],
   "source": [
    "y_test"
   ]
  },
  {
   "cell_type": "markdown",
   "id": "0f063c79",
   "metadata": {},
   "source": [
    "##  handling Categorical Data "
   ]
  },
  {
   "cell_type": "code",
   "execution_count": null,
   "id": "01ebd784",
   "metadata": {},
   "outputs": [
    {
     "data": {
      "text/plain": [
       "Index(['Gender', 'Diagnosis', 'Has_Insurance', 'Area'], dtype='object')"
      ]
     },
     "execution_count": 400,
     "metadata": {},
     "output_type": "execute_result"
    }
   ],
   "source": [
    "cat_col =x_train.select_dtypes(include='O').columns\n",
    "cat_col"
   ]
  },
  {
   "cell_type": "code",
   "execution_count": null,
   "id": "bdb2b52f",
   "metadata": {},
   "outputs": [
    {
     "data": {
      "text/plain": [
       "Patient_ID                   0\n",
       "Age                          0\n",
       "Gender                       0\n",
       "Diagnosis                31750\n",
       "Has_Insurance            36359\n",
       "Area                         0\n",
       "Registration_Duration        0\n",
       "Nursing_Duration             0\n",
       "Laboratory_Duration          0\n",
       "Consultation_Duration        0\n",
       "Pharmacy_Duration            0\n",
       "Year                         0\n",
       "dtype: int64"
      ]
     },
     "execution_count": 401,
     "metadata": {},
     "output_type": "execute_result"
    }
   ],
   "source": [
    "# check missing value \n",
    "x_train.isna().sum()"
   ]
  },
  {
   "cell_type": "code",
   "execution_count": null,
   "id": "054b9503",
   "metadata": {},
   "outputs": [
    {
     "data": {
      "text/plain": [
       "Patient_ID               0.00\n",
       "Age                      0.00\n",
       "Gender                   0.00\n",
       "Diagnosis                8.55\n",
       "Has_Insurance            9.79\n",
       "Area                     0.00\n",
       "Registration_Duration    0.00\n",
       "Nursing_Duration         0.00\n",
       "Laboratory_Duration      0.00\n",
       "Consultation_Duration    0.00\n",
       "Pharmacy_Duration        0.00\n",
       "Year                     0.00\n",
       "dtype: float64"
      ]
     },
     "execution_count": 402,
     "metadata": {},
     "output_type": "execute_result"
    }
   ],
   "source": [
    "# check missing value percentage \n",
    "round(x_train.isna().mean()*100,2)"
   ]
  },
  {
   "cell_type": "code",
   "execution_count": null,
   "id": "e8cba7a1",
   "metadata": {},
   "outputs": [],
   "source": [
    "# Impute missing value in Diagnosis used SimpleImputer\n",
    "\n",
    "from sklearn.impute import KNNImputer, SimpleImputer\n",
    "\n",
    "sim_impu = SimpleImputer(strategy= 'constant' , fill_value= 'Unknown' )\n",
    "\n",
    "x_train[['Diagnosis']] = sim_impu.fit_transform(x_train[['Diagnosis']])\n",
    "x_test[['Diagnosis']] = sim_impu.transform(x_test[['Diagnosis']])"
   ]
  },
  {
   "cell_type": "code",
   "execution_count": null,
   "id": "b87cf6ae",
   "metadata": {},
   "outputs": [],
   "source": [
    "# Impute missing value in Has_Insurance used SimpleImputer\n",
    "\n",
    "from sklearn.impute import KNNImputer, SimpleImputer\n",
    "\n",
    "sim_impu2 = SimpleImputer(strategy= 'most_frequent'  )\n",
    "\n",
    "x_train[['Has_Insurance']] = sim_impu2.fit_transform(x_train[['Has_Insurance']])\n",
    "x_test[['Has_Insurance']] = sim_impu2.transform(x_test[['Has_Insurance']])"
   ]
  },
  {
   "cell_type": "code",
   "execution_count": null,
   "id": "33c79bec",
   "metadata": {},
   "outputs": [
    {
     "data": {
      "text/plain": [
       "Patient_ID               0\n",
       "Age                      0\n",
       "Gender                   0\n",
       "Diagnosis                0\n",
       "Has_Insurance            0\n",
       "Area                     0\n",
       "Registration_Duration    0\n",
       "Nursing_Duration         0\n",
       "Laboratory_Duration      0\n",
       "Consultation_Duration    0\n",
       "Pharmacy_Duration        0\n",
       "Year                     0\n",
       "dtype: int64"
      ]
     },
     "execution_count": 405,
     "metadata": {},
     "output_type": "execute_result"
    }
   ],
   "source": [
    "# check after impute missing values\n",
    "\n",
    "x_train.isna().sum()"
   ]
  },
  {
   "cell_type": "code",
   "execution_count": null,
   "id": "48b6b8ca",
   "metadata": {},
   "outputs": [
    {
     "data": {
      "text/plain": [
       "Patient_ID               0\n",
       "Age                      0\n",
       "Gender                   0\n",
       "Diagnosis                0\n",
       "Has_Insurance            0\n",
       "Area                     0\n",
       "Registration_Duration    0\n",
       "Nursing_Duration         0\n",
       "Laboratory_Duration      0\n",
       "Consultation_Duration    0\n",
       "Pharmacy_Duration        0\n",
       "Year                     0\n",
       "dtype: int64"
      ]
     },
     "execution_count": 406,
     "metadata": {},
     "output_type": "execute_result"
    }
   ],
   "source": [
    "# check after impute missing values\n",
    "x_test.isna().sum()"
   ]
  },
  {
   "cell_type": "markdown",
   "id": "4d167910",
   "metadata": {},
   "source": [
    "## encoding categorical columns"
   ]
  },
  {
   "cell_type": "code",
   "execution_count": null,
   "id": "3a2036eb",
   "metadata": {},
   "outputs": [
    {
     "data": {
      "text/plain": [
       "Index(['Gender', 'Diagnosis', 'Has_Insurance', 'Area'], dtype='object')"
      ]
     },
     "execution_count": 407,
     "metadata": {},
     "output_type": "execute_result"
    }
   ],
   "source": [
    "cat_col =x_train.select_dtypes(include='O').columns\n",
    "cat_col"
   ]
  },
  {
   "cell_type": "code",
   "execution_count": null,
   "id": "3359da62",
   "metadata": {},
   "outputs": [
    {
     "name": "stdout",
     "output_type": "stream",
     "text": [
      "Gender\n",
      "3\n",
      "['Female' 'Male' 'Other']\n",
      "Gender\n",
      "Male      227666\n",
      "Female    132198\n",
      "Other      11338\n",
      "Name: count, dtype: int64\n",
      "****************************************************************************************************\n",
      "Diagnosis\n",
      "6\n",
      "['Type 2 Diabetes' 'Type 1 Diabetes' 'Unknown' 'Prediabetes'\n",
      " 'Gestational Diabetes' 'Type 3 Diabetes']\n",
      "Diagnosis\n",
      "Type 2 Diabetes         244689\n",
      "Unknown                  35238\n",
      "Type 1 Diabetes          35062\n",
      "Prediabetes              34937\n",
      "Gestational Diabetes     17467\n",
      "Type 3 Diabetes           3809\n",
      "Name: count, dtype: int64\n",
      "****************************************************************************************************\n",
      "Has_Insurance\n",
      "2\n",
      "['Yes' 'No']\n",
      "Has_Insurance\n",
      "Yes    318617\n",
      "No      52585\n",
      "Name: count, dtype: int64\n",
      "****************************************************************************************************\n",
      "Area\n",
      "9\n",
      "['Downtown Dubai' 'Jumeirah' 'Dubai Silicon Oasis' 'Bur Dubai' 'Deira'\n",
      " 'Al Barsha' 'Al Qusais' 'Dubai Marina' 'International City']\n",
      "Area\n",
      "Downtown Dubai         160924\n",
      "Al Barsha               44307\n",
      "Jumeirah                44166\n",
      "Deira                   24338\n",
      "Bur Dubai               24254\n",
      "International City      19070\n",
      "Dubai Marina            18760\n",
      "Dubai Silicon Oasis     17744\n",
      "Al Qusais               17639\n",
      "Name: count, dtype: int64\n",
      "****************************************************************************************************\n"
     ]
    }
   ],
   "source": [
    "for col in cat_col:\n",
    "\n",
    "    print(col)\n",
    "    print(x_train[col].nunique())\n",
    "    print(x_train[col].unique())\n",
    "    print(x_train[col].value_counts())\n",
    "    print(\"*\" *100)"
   ]
  },
  {
   "cell_type": "code",
   "execution_count": null,
   "id": "3c009748",
   "metadata": {},
   "outputs": [],
   "source": [
    "# handeling categorical columns used OneHotEncoder\n",
    "from sklearn.preprocessing import OneHotEncoder\n",
    "\n",
    "ohe = OneHotEncoder(drop= 'first', sparse_output= False)\n",
    "\n",
    "ohe_x_train= ohe.fit_transform(x_train[['Gender','Diagnosis','Has_Insurance','Area']])\n",
    "ohe_x_test= ohe.transform(x_test[['Gender','Diagnosis','Has_Insurance','Area']])"
   ]
  },
  {
   "cell_type": "code",
   "execution_count": null,
   "id": "95312754",
   "metadata": {},
   "outputs": [
    {
     "data": {
      "text/html": [
       "<div>\n",
       "<style scoped>\n",
       "    .dataframe tbody tr th:only-of-type {\n",
       "        vertical-align: middle;\n",
       "    }\n",
       "\n",
       "    .dataframe tbody tr th {\n",
       "        vertical-align: top;\n",
       "    }\n",
       "\n",
       "    .dataframe thead th {\n",
       "        text-align: right;\n",
       "    }\n",
       "</style>\n",
       "<table border=\"1\" class=\"dataframe\">\n",
       "  <thead>\n",
       "    <tr style=\"text-align: right;\">\n",
       "      <th></th>\n",
       "      <th>Gender_Male</th>\n",
       "      <th>Gender_Other</th>\n",
       "      <th>Diagnosis_Prediabetes</th>\n",
       "      <th>Diagnosis_Type 1 Diabetes</th>\n",
       "      <th>Diagnosis_Type 2 Diabetes</th>\n",
       "      <th>Diagnosis_Type 3 Diabetes</th>\n",
       "      <th>Diagnosis_Unknown</th>\n",
       "      <th>Has_Insurance_Yes</th>\n",
       "      <th>Area_Al Qusais</th>\n",
       "      <th>Area_Bur Dubai</th>\n",
       "      <th>Area_Deira</th>\n",
       "      <th>Area_Downtown Dubai</th>\n",
       "      <th>Area_Dubai Marina</th>\n",
       "      <th>Area_Dubai Silicon Oasis</th>\n",
       "      <th>Area_International City</th>\n",
       "      <th>Area_Jumeirah</th>\n",
       "    </tr>\n",
       "  </thead>\n",
       "  <tbody>\n",
       "    <tr>\n",
       "      <th>0</th>\n",
       "      <td>0.0</td>\n",
       "      <td>0.0</td>\n",
       "      <td>0.0</td>\n",
       "      <td>0.0</td>\n",
       "      <td>1.0</td>\n",
       "      <td>0.0</td>\n",
       "      <td>0.0</td>\n",
       "      <td>1.0</td>\n",
       "      <td>0.0</td>\n",
       "      <td>0.0</td>\n",
       "      <td>0.0</td>\n",
       "      <td>1.0</td>\n",
       "      <td>0.0</td>\n",
       "      <td>0.0</td>\n",
       "      <td>0.0</td>\n",
       "      <td>0.0</td>\n",
       "    </tr>\n",
       "    <tr>\n",
       "      <th>1</th>\n",
       "      <td>0.0</td>\n",
       "      <td>0.0</td>\n",
       "      <td>0.0</td>\n",
       "      <td>0.0</td>\n",
       "      <td>1.0</td>\n",
       "      <td>0.0</td>\n",
       "      <td>0.0</td>\n",
       "      <td>1.0</td>\n",
       "      <td>0.0</td>\n",
       "      <td>0.0</td>\n",
       "      <td>0.0</td>\n",
       "      <td>1.0</td>\n",
       "      <td>0.0</td>\n",
       "      <td>0.0</td>\n",
       "      <td>0.0</td>\n",
       "      <td>0.0</td>\n",
       "    </tr>\n",
       "    <tr>\n",
       "      <th>2</th>\n",
       "      <td>1.0</td>\n",
       "      <td>0.0</td>\n",
       "      <td>0.0</td>\n",
       "      <td>1.0</td>\n",
       "      <td>0.0</td>\n",
       "      <td>0.0</td>\n",
       "      <td>0.0</td>\n",
       "      <td>1.0</td>\n",
       "      <td>0.0</td>\n",
       "      <td>0.0</td>\n",
       "      <td>0.0</td>\n",
       "      <td>0.0</td>\n",
       "      <td>0.0</td>\n",
       "      <td>0.0</td>\n",
       "      <td>0.0</td>\n",
       "      <td>1.0</td>\n",
       "    </tr>\n",
       "    <tr>\n",
       "      <th>3</th>\n",
       "      <td>1.0</td>\n",
       "      <td>0.0</td>\n",
       "      <td>0.0</td>\n",
       "      <td>0.0</td>\n",
       "      <td>0.0</td>\n",
       "      <td>0.0</td>\n",
       "      <td>1.0</td>\n",
       "      <td>1.0</td>\n",
       "      <td>0.0</td>\n",
       "      <td>0.0</td>\n",
       "      <td>0.0</td>\n",
       "      <td>0.0</td>\n",
       "      <td>0.0</td>\n",
       "      <td>0.0</td>\n",
       "      <td>0.0</td>\n",
       "      <td>1.0</td>\n",
       "    </tr>\n",
       "    <tr>\n",
       "      <th>4</th>\n",
       "      <td>0.0</td>\n",
       "      <td>0.0</td>\n",
       "      <td>0.0</td>\n",
       "      <td>0.0</td>\n",
       "      <td>1.0</td>\n",
       "      <td>0.0</td>\n",
       "      <td>0.0</td>\n",
       "      <td>0.0</td>\n",
       "      <td>0.0</td>\n",
       "      <td>0.0</td>\n",
       "      <td>0.0</td>\n",
       "      <td>0.0</td>\n",
       "      <td>0.0</td>\n",
       "      <td>1.0</td>\n",
       "      <td>0.0</td>\n",
       "      <td>0.0</td>\n",
       "    </tr>\n",
       "    <tr>\n",
       "      <th>...</th>\n",
       "      <td>...</td>\n",
       "      <td>...</td>\n",
       "      <td>...</td>\n",
       "      <td>...</td>\n",
       "      <td>...</td>\n",
       "      <td>...</td>\n",
       "      <td>...</td>\n",
       "      <td>...</td>\n",
       "      <td>...</td>\n",
       "      <td>...</td>\n",
       "      <td>...</td>\n",
       "      <td>...</td>\n",
       "      <td>...</td>\n",
       "      <td>...</td>\n",
       "      <td>...</td>\n",
       "      <td>...</td>\n",
       "    </tr>\n",
       "    <tr>\n",
       "      <th>371197</th>\n",
       "      <td>1.0</td>\n",
       "      <td>0.0</td>\n",
       "      <td>0.0</td>\n",
       "      <td>1.0</td>\n",
       "      <td>0.0</td>\n",
       "      <td>0.0</td>\n",
       "      <td>0.0</td>\n",
       "      <td>1.0</td>\n",
       "      <td>0.0</td>\n",
       "      <td>0.0</td>\n",
       "      <td>0.0</td>\n",
       "      <td>1.0</td>\n",
       "      <td>0.0</td>\n",
       "      <td>0.0</td>\n",
       "      <td>0.0</td>\n",
       "      <td>0.0</td>\n",
       "    </tr>\n",
       "    <tr>\n",
       "      <th>371198</th>\n",
       "      <td>1.0</td>\n",
       "      <td>0.0</td>\n",
       "      <td>0.0</td>\n",
       "      <td>0.0</td>\n",
       "      <td>1.0</td>\n",
       "      <td>0.0</td>\n",
       "      <td>0.0</td>\n",
       "      <td>1.0</td>\n",
       "      <td>0.0</td>\n",
       "      <td>0.0</td>\n",
       "      <td>0.0</td>\n",
       "      <td>1.0</td>\n",
       "      <td>0.0</td>\n",
       "      <td>0.0</td>\n",
       "      <td>0.0</td>\n",
       "      <td>0.0</td>\n",
       "    </tr>\n",
       "    <tr>\n",
       "      <th>371199</th>\n",
       "      <td>1.0</td>\n",
       "      <td>0.0</td>\n",
       "      <td>0.0</td>\n",
       "      <td>0.0</td>\n",
       "      <td>1.0</td>\n",
       "      <td>0.0</td>\n",
       "      <td>0.0</td>\n",
       "      <td>0.0</td>\n",
       "      <td>0.0</td>\n",
       "      <td>0.0</td>\n",
       "      <td>0.0</td>\n",
       "      <td>0.0</td>\n",
       "      <td>0.0</td>\n",
       "      <td>0.0</td>\n",
       "      <td>0.0</td>\n",
       "      <td>0.0</td>\n",
       "    </tr>\n",
       "    <tr>\n",
       "      <th>371200</th>\n",
       "      <td>0.0</td>\n",
       "      <td>0.0</td>\n",
       "      <td>0.0</td>\n",
       "      <td>1.0</td>\n",
       "      <td>0.0</td>\n",
       "      <td>0.0</td>\n",
       "      <td>0.0</td>\n",
       "      <td>1.0</td>\n",
       "      <td>0.0</td>\n",
       "      <td>0.0</td>\n",
       "      <td>0.0</td>\n",
       "      <td>1.0</td>\n",
       "      <td>0.0</td>\n",
       "      <td>0.0</td>\n",
       "      <td>0.0</td>\n",
       "      <td>0.0</td>\n",
       "    </tr>\n",
       "    <tr>\n",
       "      <th>371201</th>\n",
       "      <td>0.0</td>\n",
       "      <td>1.0</td>\n",
       "      <td>0.0</td>\n",
       "      <td>0.0</td>\n",
       "      <td>0.0</td>\n",
       "      <td>0.0</td>\n",
       "      <td>1.0</td>\n",
       "      <td>1.0</td>\n",
       "      <td>0.0</td>\n",
       "      <td>0.0</td>\n",
       "      <td>0.0</td>\n",
       "      <td>0.0</td>\n",
       "      <td>0.0</td>\n",
       "      <td>0.0</td>\n",
       "      <td>0.0</td>\n",
       "      <td>1.0</td>\n",
       "    </tr>\n",
       "  </tbody>\n",
       "</table>\n",
       "<p>371202 rows × 16 columns</p>\n",
       "</div>"
      ],
      "text/plain": [
       "        Gender_Male  Gender_Other  Diagnosis_Prediabetes  \\\n",
       "0               0.0           0.0                    0.0   \n",
       "1               0.0           0.0                    0.0   \n",
       "2               1.0           0.0                    0.0   \n",
       "3               1.0           0.0                    0.0   \n",
       "4               0.0           0.0                    0.0   \n",
       "...             ...           ...                    ...   \n",
       "371197          1.0           0.0                    0.0   \n",
       "371198          1.0           0.0                    0.0   \n",
       "371199          1.0           0.0                    0.0   \n",
       "371200          0.0           0.0                    0.0   \n",
       "371201          0.0           1.0                    0.0   \n",
       "\n",
       "        Diagnosis_Type 1 Diabetes  Diagnosis_Type 2 Diabetes  \\\n",
       "0                             0.0                        1.0   \n",
       "1                             0.0                        1.0   \n",
       "2                             1.0                        0.0   \n",
       "3                             0.0                        0.0   \n",
       "4                             0.0                        1.0   \n",
       "...                           ...                        ...   \n",
       "371197                        1.0                        0.0   \n",
       "371198                        0.0                        1.0   \n",
       "371199                        0.0                        1.0   \n",
       "371200                        1.0                        0.0   \n",
       "371201                        0.0                        0.0   \n",
       "\n",
       "        Diagnosis_Type 3 Diabetes  Diagnosis_Unknown  Has_Insurance_Yes  \\\n",
       "0                             0.0                0.0                1.0   \n",
       "1                             0.0                0.0                1.0   \n",
       "2                             0.0                0.0                1.0   \n",
       "3                             0.0                1.0                1.0   \n",
       "4                             0.0                0.0                0.0   \n",
       "...                           ...                ...                ...   \n",
       "371197                        0.0                0.0                1.0   \n",
       "371198                        0.0                0.0                1.0   \n",
       "371199                        0.0                0.0                0.0   \n",
       "371200                        0.0                0.0                1.0   \n",
       "371201                        0.0                1.0                1.0   \n",
       "\n",
       "        Area_Al Qusais  Area_Bur Dubai  Area_Deira  Area_Downtown Dubai  \\\n",
       "0                  0.0             0.0         0.0                  1.0   \n",
       "1                  0.0             0.0         0.0                  1.0   \n",
       "2                  0.0             0.0         0.0                  0.0   \n",
       "3                  0.0             0.0         0.0                  0.0   \n",
       "4                  0.0             0.0         0.0                  0.0   \n",
       "...                ...             ...         ...                  ...   \n",
       "371197             0.0             0.0         0.0                  1.0   \n",
       "371198             0.0             0.0         0.0                  1.0   \n",
       "371199             0.0             0.0         0.0                  0.0   \n",
       "371200             0.0             0.0         0.0                  1.0   \n",
       "371201             0.0             0.0         0.0                  0.0   \n",
       "\n",
       "        Area_Dubai Marina  Area_Dubai Silicon Oasis  Area_International City  \\\n",
       "0                     0.0                       0.0                      0.0   \n",
       "1                     0.0                       0.0                      0.0   \n",
       "2                     0.0                       0.0                      0.0   \n",
       "3                     0.0                       0.0                      0.0   \n",
       "4                     0.0                       1.0                      0.0   \n",
       "...                   ...                       ...                      ...   \n",
       "371197                0.0                       0.0                      0.0   \n",
       "371198                0.0                       0.0                      0.0   \n",
       "371199                0.0                       0.0                      0.0   \n",
       "371200                0.0                       0.0                      0.0   \n",
       "371201                0.0                       0.0                      0.0   \n",
       "\n",
       "        Area_Jumeirah  \n",
       "0                 0.0  \n",
       "1                 0.0  \n",
       "2                 1.0  \n",
       "3                 1.0  \n",
       "4                 0.0  \n",
       "...               ...  \n",
       "371197            0.0  \n",
       "371198            0.0  \n",
       "371199            0.0  \n",
       "371200            0.0  \n",
       "371201            1.0  \n",
       "\n",
       "[371202 rows x 16 columns]"
      ]
     },
     "execution_count": 411,
     "metadata": {},
     "output_type": "execute_result"
    }
   ],
   "source": [
    "ohe_x_train = pd.DataFrame(ohe_x_train, columns= ohe.get_feature_names_out())\n",
    "ohe_x_train"
   ]
  },
  {
   "cell_type": "code",
   "execution_count": null,
   "id": "20111d84",
   "metadata": {},
   "outputs": [
    {
     "data": {
      "text/html": [
       "<div>\n",
       "<style scoped>\n",
       "    .dataframe tbody tr th:only-of-type {\n",
       "        vertical-align: middle;\n",
       "    }\n",
       "\n",
       "    .dataframe tbody tr th {\n",
       "        vertical-align: top;\n",
       "    }\n",
       "\n",
       "    .dataframe thead th {\n",
       "        text-align: right;\n",
       "    }\n",
       "</style>\n",
       "<table border=\"1\" class=\"dataframe\">\n",
       "  <thead>\n",
       "    <tr style=\"text-align: right;\">\n",
       "      <th></th>\n",
       "      <th>Gender_Male</th>\n",
       "      <th>Gender_Other</th>\n",
       "      <th>Diagnosis_Prediabetes</th>\n",
       "      <th>Diagnosis_Type 1 Diabetes</th>\n",
       "      <th>Diagnosis_Type 2 Diabetes</th>\n",
       "      <th>Diagnosis_Type 3 Diabetes</th>\n",
       "      <th>Diagnosis_Unknown</th>\n",
       "      <th>Has_Insurance_Yes</th>\n",
       "      <th>Area_Al Qusais</th>\n",
       "      <th>Area_Bur Dubai</th>\n",
       "      <th>Area_Deira</th>\n",
       "      <th>Area_Downtown Dubai</th>\n",
       "      <th>Area_Dubai Marina</th>\n",
       "      <th>Area_Dubai Silicon Oasis</th>\n",
       "      <th>Area_International City</th>\n",
       "      <th>Area_Jumeirah</th>\n",
       "    </tr>\n",
       "  </thead>\n",
       "  <tbody>\n",
       "    <tr>\n",
       "      <th>0</th>\n",
       "      <td>0.0</td>\n",
       "      <td>0.0</td>\n",
       "      <td>1.0</td>\n",
       "      <td>0.0</td>\n",
       "      <td>0.0</td>\n",
       "      <td>0.0</td>\n",
       "      <td>0.0</td>\n",
       "      <td>0.0</td>\n",
       "      <td>0.0</td>\n",
       "      <td>0.0</td>\n",
       "      <td>0.0</td>\n",
       "      <td>0.0</td>\n",
       "      <td>0.0</td>\n",
       "      <td>1.0</td>\n",
       "      <td>0.0</td>\n",
       "      <td>0.0</td>\n",
       "    </tr>\n",
       "    <tr>\n",
       "      <th>1</th>\n",
       "      <td>1.0</td>\n",
       "      <td>0.0</td>\n",
       "      <td>0.0</td>\n",
       "      <td>1.0</td>\n",
       "      <td>0.0</td>\n",
       "      <td>0.0</td>\n",
       "      <td>0.0</td>\n",
       "      <td>1.0</td>\n",
       "      <td>0.0</td>\n",
       "      <td>0.0</td>\n",
       "      <td>0.0</td>\n",
       "      <td>1.0</td>\n",
       "      <td>0.0</td>\n",
       "      <td>0.0</td>\n",
       "      <td>0.0</td>\n",
       "      <td>0.0</td>\n",
       "    </tr>\n",
       "    <tr>\n",
       "      <th>2</th>\n",
       "      <td>1.0</td>\n",
       "      <td>0.0</td>\n",
       "      <td>0.0</td>\n",
       "      <td>0.0</td>\n",
       "      <td>1.0</td>\n",
       "      <td>0.0</td>\n",
       "      <td>0.0</td>\n",
       "      <td>1.0</td>\n",
       "      <td>0.0</td>\n",
       "      <td>0.0</td>\n",
       "      <td>0.0</td>\n",
       "      <td>1.0</td>\n",
       "      <td>0.0</td>\n",
       "      <td>0.0</td>\n",
       "      <td>0.0</td>\n",
       "      <td>0.0</td>\n",
       "    </tr>\n",
       "    <tr>\n",
       "      <th>3</th>\n",
       "      <td>1.0</td>\n",
       "      <td>0.0</td>\n",
       "      <td>0.0</td>\n",
       "      <td>0.0</td>\n",
       "      <td>1.0</td>\n",
       "      <td>0.0</td>\n",
       "      <td>0.0</td>\n",
       "      <td>1.0</td>\n",
       "      <td>0.0</td>\n",
       "      <td>0.0</td>\n",
       "      <td>0.0</td>\n",
       "      <td>1.0</td>\n",
       "      <td>0.0</td>\n",
       "      <td>0.0</td>\n",
       "      <td>0.0</td>\n",
       "      <td>0.0</td>\n",
       "    </tr>\n",
       "    <tr>\n",
       "      <th>4</th>\n",
       "      <td>0.0</td>\n",
       "      <td>0.0</td>\n",
       "      <td>0.0</td>\n",
       "      <td>0.0</td>\n",
       "      <td>1.0</td>\n",
       "      <td>0.0</td>\n",
       "      <td>0.0</td>\n",
       "      <td>1.0</td>\n",
       "      <td>0.0</td>\n",
       "      <td>0.0</td>\n",
       "      <td>0.0</td>\n",
       "      <td>1.0</td>\n",
       "      <td>0.0</td>\n",
       "      <td>0.0</td>\n",
       "      <td>0.0</td>\n",
       "      <td>0.0</td>\n",
       "    </tr>\n",
       "    <tr>\n",
       "      <th>...</th>\n",
       "      <td>...</td>\n",
       "      <td>...</td>\n",
       "      <td>...</td>\n",
       "      <td>...</td>\n",
       "      <td>...</td>\n",
       "      <td>...</td>\n",
       "      <td>...</td>\n",
       "      <td>...</td>\n",
       "      <td>...</td>\n",
       "      <td>...</td>\n",
       "      <td>...</td>\n",
       "      <td>...</td>\n",
       "      <td>...</td>\n",
       "      <td>...</td>\n",
       "      <td>...</td>\n",
       "      <td>...</td>\n",
       "    </tr>\n",
       "    <tr>\n",
       "      <th>92796</th>\n",
       "      <td>1.0</td>\n",
       "      <td>0.0</td>\n",
       "      <td>0.0</td>\n",
       "      <td>0.0</td>\n",
       "      <td>1.0</td>\n",
       "      <td>0.0</td>\n",
       "      <td>0.0</td>\n",
       "      <td>1.0</td>\n",
       "      <td>0.0</td>\n",
       "      <td>0.0</td>\n",
       "      <td>0.0</td>\n",
       "      <td>1.0</td>\n",
       "      <td>0.0</td>\n",
       "      <td>0.0</td>\n",
       "      <td>0.0</td>\n",
       "      <td>0.0</td>\n",
       "    </tr>\n",
       "    <tr>\n",
       "      <th>92797</th>\n",
       "      <td>0.0</td>\n",
       "      <td>0.0</td>\n",
       "      <td>0.0</td>\n",
       "      <td>0.0</td>\n",
       "      <td>1.0</td>\n",
       "      <td>0.0</td>\n",
       "      <td>0.0</td>\n",
       "      <td>0.0</td>\n",
       "      <td>0.0</td>\n",
       "      <td>0.0</td>\n",
       "      <td>0.0</td>\n",
       "      <td>0.0</td>\n",
       "      <td>0.0</td>\n",
       "      <td>0.0</td>\n",
       "      <td>1.0</td>\n",
       "      <td>0.0</td>\n",
       "    </tr>\n",
       "    <tr>\n",
       "      <th>92798</th>\n",
       "      <td>1.0</td>\n",
       "      <td>0.0</td>\n",
       "      <td>0.0</td>\n",
       "      <td>0.0</td>\n",
       "      <td>0.0</td>\n",
       "      <td>0.0</td>\n",
       "      <td>1.0</td>\n",
       "      <td>1.0</td>\n",
       "      <td>0.0</td>\n",
       "      <td>0.0</td>\n",
       "      <td>0.0</td>\n",
       "      <td>1.0</td>\n",
       "      <td>0.0</td>\n",
       "      <td>0.0</td>\n",
       "      <td>0.0</td>\n",
       "      <td>0.0</td>\n",
       "    </tr>\n",
       "    <tr>\n",
       "      <th>92799</th>\n",
       "      <td>1.0</td>\n",
       "      <td>0.0</td>\n",
       "      <td>0.0</td>\n",
       "      <td>0.0</td>\n",
       "      <td>0.0</td>\n",
       "      <td>0.0</td>\n",
       "      <td>1.0</td>\n",
       "      <td>1.0</td>\n",
       "      <td>0.0</td>\n",
       "      <td>0.0</td>\n",
       "      <td>0.0</td>\n",
       "      <td>1.0</td>\n",
       "      <td>0.0</td>\n",
       "      <td>0.0</td>\n",
       "      <td>0.0</td>\n",
       "      <td>0.0</td>\n",
       "    </tr>\n",
       "    <tr>\n",
       "      <th>92800</th>\n",
       "      <td>0.0</td>\n",
       "      <td>0.0</td>\n",
       "      <td>0.0</td>\n",
       "      <td>0.0</td>\n",
       "      <td>1.0</td>\n",
       "      <td>0.0</td>\n",
       "      <td>0.0</td>\n",
       "      <td>1.0</td>\n",
       "      <td>0.0</td>\n",
       "      <td>0.0</td>\n",
       "      <td>1.0</td>\n",
       "      <td>0.0</td>\n",
       "      <td>0.0</td>\n",
       "      <td>0.0</td>\n",
       "      <td>0.0</td>\n",
       "      <td>0.0</td>\n",
       "    </tr>\n",
       "  </tbody>\n",
       "</table>\n",
       "<p>92801 rows × 16 columns</p>\n",
       "</div>"
      ],
      "text/plain": [
       "       Gender_Male  Gender_Other  Diagnosis_Prediabetes  \\\n",
       "0              0.0           0.0                    1.0   \n",
       "1              1.0           0.0                    0.0   \n",
       "2              1.0           0.0                    0.0   \n",
       "3              1.0           0.0                    0.0   \n",
       "4              0.0           0.0                    0.0   \n",
       "...            ...           ...                    ...   \n",
       "92796          1.0           0.0                    0.0   \n",
       "92797          0.0           0.0                    0.0   \n",
       "92798          1.0           0.0                    0.0   \n",
       "92799          1.0           0.0                    0.0   \n",
       "92800          0.0           0.0                    0.0   \n",
       "\n",
       "       Diagnosis_Type 1 Diabetes  Diagnosis_Type 2 Diabetes  \\\n",
       "0                            0.0                        0.0   \n",
       "1                            1.0                        0.0   \n",
       "2                            0.0                        1.0   \n",
       "3                            0.0                        1.0   \n",
       "4                            0.0                        1.0   \n",
       "...                          ...                        ...   \n",
       "92796                        0.0                        1.0   \n",
       "92797                        0.0                        1.0   \n",
       "92798                        0.0                        0.0   \n",
       "92799                        0.0                        0.0   \n",
       "92800                        0.0                        1.0   \n",
       "\n",
       "       Diagnosis_Type 3 Diabetes  Diagnosis_Unknown  Has_Insurance_Yes  \\\n",
       "0                            0.0                0.0                0.0   \n",
       "1                            0.0                0.0                1.0   \n",
       "2                            0.0                0.0                1.0   \n",
       "3                            0.0                0.0                1.0   \n",
       "4                            0.0                0.0                1.0   \n",
       "...                          ...                ...                ...   \n",
       "92796                        0.0                0.0                1.0   \n",
       "92797                        0.0                0.0                0.0   \n",
       "92798                        0.0                1.0                1.0   \n",
       "92799                        0.0                1.0                1.0   \n",
       "92800                        0.0                0.0                1.0   \n",
       "\n",
       "       Area_Al Qusais  Area_Bur Dubai  Area_Deira  Area_Downtown Dubai  \\\n",
       "0                 0.0             0.0         0.0                  0.0   \n",
       "1                 0.0             0.0         0.0                  1.0   \n",
       "2                 0.0             0.0         0.0                  1.0   \n",
       "3                 0.0             0.0         0.0                  1.0   \n",
       "4                 0.0             0.0         0.0                  1.0   \n",
       "...               ...             ...         ...                  ...   \n",
       "92796             0.0             0.0         0.0                  1.0   \n",
       "92797             0.0             0.0         0.0                  0.0   \n",
       "92798             0.0             0.0         0.0                  1.0   \n",
       "92799             0.0             0.0         0.0                  1.0   \n",
       "92800             0.0             0.0         1.0                  0.0   \n",
       "\n",
       "       Area_Dubai Marina  Area_Dubai Silicon Oasis  Area_International City  \\\n",
       "0                    0.0                       1.0                      0.0   \n",
       "1                    0.0                       0.0                      0.0   \n",
       "2                    0.0                       0.0                      0.0   \n",
       "3                    0.0                       0.0                      0.0   \n",
       "4                    0.0                       0.0                      0.0   \n",
       "...                  ...                       ...                      ...   \n",
       "92796                0.0                       0.0                      0.0   \n",
       "92797                0.0                       0.0                      1.0   \n",
       "92798                0.0                       0.0                      0.0   \n",
       "92799                0.0                       0.0                      0.0   \n",
       "92800                0.0                       0.0                      0.0   \n",
       "\n",
       "       Area_Jumeirah  \n",
       "0                0.0  \n",
       "1                0.0  \n",
       "2                0.0  \n",
       "3                0.0  \n",
       "4                0.0  \n",
       "...              ...  \n",
       "92796            0.0  \n",
       "92797            0.0  \n",
       "92798            0.0  \n",
       "92799            0.0  \n",
       "92800            0.0  \n",
       "\n",
       "[92801 rows x 16 columns]"
      ]
     },
     "execution_count": 412,
     "metadata": {},
     "output_type": "execute_result"
    }
   ],
   "source": [
    "ohe_x_test = pd.DataFrame(ohe_x_test, columns= ohe.get_feature_names_out())\n",
    "ohe_x_test"
   ]
  },
  {
   "cell_type": "code",
   "execution_count": null,
   "id": "1e69cb92",
   "metadata": {},
   "outputs": [
    {
     "data": {
      "text/html": [
       "<div>\n",
       "<style scoped>\n",
       "    .dataframe tbody tr th:only-of-type {\n",
       "        vertical-align: middle;\n",
       "    }\n",
       "\n",
       "    .dataframe tbody tr th {\n",
       "        vertical-align: top;\n",
       "    }\n",
       "\n",
       "    .dataframe thead th {\n",
       "        text-align: right;\n",
       "    }\n",
       "</style>\n",
       "<table border=\"1\" class=\"dataframe\">\n",
       "  <thead>\n",
       "    <tr style=\"text-align: right;\">\n",
       "      <th></th>\n",
       "      <th>Patient_ID</th>\n",
       "      <th>Age</th>\n",
       "      <th>Registration_Duration</th>\n",
       "      <th>Nursing_Duration</th>\n",
       "      <th>Laboratory_Duration</th>\n",
       "      <th>Consultation_Duration</th>\n",
       "      <th>Pharmacy_Duration</th>\n",
       "      <th>Year</th>\n",
       "      <th>Gender_Male</th>\n",
       "      <th>Gender_Other</th>\n",
       "      <th>Diagnosis_Prediabetes</th>\n",
       "      <th>Diagnosis_Type 1 Diabetes</th>\n",
       "      <th>Diagnosis_Type 2 Diabetes</th>\n",
       "      <th>Diagnosis_Type 3 Diabetes</th>\n",
       "      <th>Diagnosis_Unknown</th>\n",
       "      <th>Has_Insurance_Yes</th>\n",
       "      <th>Area_Al Qusais</th>\n",
       "      <th>Area_Bur Dubai</th>\n",
       "      <th>Area_Deira</th>\n",
       "      <th>Area_Downtown Dubai</th>\n",
       "      <th>Area_Dubai Marina</th>\n",
       "      <th>Area_Dubai Silicon Oasis</th>\n",
       "      <th>Area_International City</th>\n",
       "      <th>Area_Jumeirah</th>\n",
       "    </tr>\n",
       "  </thead>\n",
       "  <tbody>\n",
       "    <tr>\n",
       "      <th>0</th>\n",
       "      <td>2284</td>\n",
       "      <td>27</td>\n",
       "      <td>22.9</td>\n",
       "      <td>32.9</td>\n",
       "      <td>19.2</td>\n",
       "      <td>25.6</td>\n",
       "      <td>33.1</td>\n",
       "      <td>2024</td>\n",
       "      <td>0.0</td>\n",
       "      <td>0.0</td>\n",
       "      <td>0.0</td>\n",
       "      <td>0.0</td>\n",
       "      <td>1.0</td>\n",
       "      <td>0.0</td>\n",
       "      <td>0.0</td>\n",
       "      <td>1.0</td>\n",
       "      <td>0.0</td>\n",
       "      <td>0.0</td>\n",
       "      <td>0.0</td>\n",
       "      <td>1.0</td>\n",
       "      <td>0.0</td>\n",
       "      <td>0.0</td>\n",
       "      <td>0.0</td>\n",
       "      <td>0.0</td>\n",
       "    </tr>\n",
       "    <tr>\n",
       "      <th>1</th>\n",
       "      <td>3576</td>\n",
       "      <td>60</td>\n",
       "      <td>24.1</td>\n",
       "      <td>13.9</td>\n",
       "      <td>39.0</td>\n",
       "      <td>42.8</td>\n",
       "      <td>26.1</td>\n",
       "      <td>2022</td>\n",
       "      <td>0.0</td>\n",
       "      <td>0.0</td>\n",
       "      <td>0.0</td>\n",
       "      <td>0.0</td>\n",
       "      <td>1.0</td>\n",
       "      <td>0.0</td>\n",
       "      <td>0.0</td>\n",
       "      <td>1.0</td>\n",
       "      <td>0.0</td>\n",
       "      <td>0.0</td>\n",
       "      <td>0.0</td>\n",
       "      <td>1.0</td>\n",
       "      <td>0.0</td>\n",
       "      <td>0.0</td>\n",
       "      <td>0.0</td>\n",
       "      <td>0.0</td>\n",
       "    </tr>\n",
       "    <tr>\n",
       "      <th>2</th>\n",
       "      <td>4340</td>\n",
       "      <td>39</td>\n",
       "      <td>26.9</td>\n",
       "      <td>17.1</td>\n",
       "      <td>32.8</td>\n",
       "      <td>29.9</td>\n",
       "      <td>13.8</td>\n",
       "      <td>2024</td>\n",
       "      <td>1.0</td>\n",
       "      <td>0.0</td>\n",
       "      <td>0.0</td>\n",
       "      <td>1.0</td>\n",
       "      <td>0.0</td>\n",
       "      <td>0.0</td>\n",
       "      <td>0.0</td>\n",
       "      <td>1.0</td>\n",
       "      <td>0.0</td>\n",
       "      <td>0.0</td>\n",
       "      <td>0.0</td>\n",
       "      <td>0.0</td>\n",
       "      <td>0.0</td>\n",
       "      <td>0.0</td>\n",
       "      <td>0.0</td>\n",
       "      <td>1.0</td>\n",
       "    </tr>\n",
       "    <tr>\n",
       "      <th>3</th>\n",
       "      <td>2037</td>\n",
       "      <td>60</td>\n",
       "      <td>28.9</td>\n",
       "      <td>36.6</td>\n",
       "      <td>15.3</td>\n",
       "      <td>49.6</td>\n",
       "      <td>56.9</td>\n",
       "      <td>2022</td>\n",
       "      <td>1.0</td>\n",
       "      <td>0.0</td>\n",
       "      <td>0.0</td>\n",
       "      <td>0.0</td>\n",
       "      <td>0.0</td>\n",
       "      <td>0.0</td>\n",
       "      <td>1.0</td>\n",
       "      <td>1.0</td>\n",
       "      <td>0.0</td>\n",
       "      <td>0.0</td>\n",
       "      <td>0.0</td>\n",
       "      <td>0.0</td>\n",
       "      <td>0.0</td>\n",
       "      <td>0.0</td>\n",
       "      <td>0.0</td>\n",
       "      <td>1.0</td>\n",
       "    </tr>\n",
       "    <tr>\n",
       "      <th>4</th>\n",
       "      <td>1010</td>\n",
       "      <td>75</td>\n",
       "      <td>2.4</td>\n",
       "      <td>53.7</td>\n",
       "      <td>16.8</td>\n",
       "      <td>45.3</td>\n",
       "      <td>36.0</td>\n",
       "      <td>2024</td>\n",
       "      <td>0.0</td>\n",
       "      <td>0.0</td>\n",
       "      <td>0.0</td>\n",
       "      <td>0.0</td>\n",
       "      <td>1.0</td>\n",
       "      <td>0.0</td>\n",
       "      <td>0.0</td>\n",
       "      <td>0.0</td>\n",
       "      <td>0.0</td>\n",
       "      <td>0.0</td>\n",
       "      <td>0.0</td>\n",
       "      <td>0.0</td>\n",
       "      <td>0.0</td>\n",
       "      <td>1.0</td>\n",
       "      <td>0.0</td>\n",
       "      <td>0.0</td>\n",
       "    </tr>\n",
       "    <tr>\n",
       "      <th>...</th>\n",
       "      <td>...</td>\n",
       "      <td>...</td>\n",
       "      <td>...</td>\n",
       "      <td>...</td>\n",
       "      <td>...</td>\n",
       "      <td>...</td>\n",
       "      <td>...</td>\n",
       "      <td>...</td>\n",
       "      <td>...</td>\n",
       "      <td>...</td>\n",
       "      <td>...</td>\n",
       "      <td>...</td>\n",
       "      <td>...</td>\n",
       "      <td>...</td>\n",
       "      <td>...</td>\n",
       "      <td>...</td>\n",
       "      <td>...</td>\n",
       "      <td>...</td>\n",
       "      <td>...</td>\n",
       "      <td>...</td>\n",
       "      <td>...</td>\n",
       "      <td>...</td>\n",
       "      <td>...</td>\n",
       "      <td>...</td>\n",
       "    </tr>\n",
       "    <tr>\n",
       "      <th>371197</th>\n",
       "      <td>2670</td>\n",
       "      <td>13</td>\n",
       "      <td>20.9</td>\n",
       "      <td>33.8</td>\n",
       "      <td>24.8</td>\n",
       "      <td>0.8</td>\n",
       "      <td>31.2</td>\n",
       "      <td>2022</td>\n",
       "      <td>1.0</td>\n",
       "      <td>0.0</td>\n",
       "      <td>0.0</td>\n",
       "      <td>1.0</td>\n",
       "      <td>0.0</td>\n",
       "      <td>0.0</td>\n",
       "      <td>0.0</td>\n",
       "      <td>1.0</td>\n",
       "      <td>0.0</td>\n",
       "      <td>0.0</td>\n",
       "      <td>0.0</td>\n",
       "      <td>1.0</td>\n",
       "      <td>0.0</td>\n",
       "      <td>0.0</td>\n",
       "      <td>0.0</td>\n",
       "      <td>0.0</td>\n",
       "    </tr>\n",
       "    <tr>\n",
       "      <th>371198</th>\n",
       "      <td>1965</td>\n",
       "      <td>56</td>\n",
       "      <td>33.2</td>\n",
       "      <td>2.6</td>\n",
       "      <td>24.4</td>\n",
       "      <td>23.9</td>\n",
       "      <td>16.3</td>\n",
       "      <td>2023</td>\n",
       "      <td>1.0</td>\n",
       "      <td>0.0</td>\n",
       "      <td>0.0</td>\n",
       "      <td>0.0</td>\n",
       "      <td>1.0</td>\n",
       "      <td>0.0</td>\n",
       "      <td>0.0</td>\n",
       "      <td>1.0</td>\n",
       "      <td>0.0</td>\n",
       "      <td>0.0</td>\n",
       "      <td>0.0</td>\n",
       "      <td>1.0</td>\n",
       "      <td>0.0</td>\n",
       "      <td>0.0</td>\n",
       "      <td>0.0</td>\n",
       "      <td>0.0</td>\n",
       "    </tr>\n",
       "    <tr>\n",
       "      <th>371199</th>\n",
       "      <td>2620</td>\n",
       "      <td>4</td>\n",
       "      <td>45.1</td>\n",
       "      <td>45.2</td>\n",
       "      <td>36.8</td>\n",
       "      <td>36.2</td>\n",
       "      <td>32.1</td>\n",
       "      <td>2020</td>\n",
       "      <td>1.0</td>\n",
       "      <td>0.0</td>\n",
       "      <td>0.0</td>\n",
       "      <td>0.0</td>\n",
       "      <td>1.0</td>\n",
       "      <td>0.0</td>\n",
       "      <td>0.0</td>\n",
       "      <td>0.0</td>\n",
       "      <td>0.0</td>\n",
       "      <td>0.0</td>\n",
       "      <td>0.0</td>\n",
       "      <td>0.0</td>\n",
       "      <td>0.0</td>\n",
       "      <td>0.0</td>\n",
       "      <td>0.0</td>\n",
       "      <td>0.0</td>\n",
       "    </tr>\n",
       "    <tr>\n",
       "      <th>371200</th>\n",
       "      <td>1488</td>\n",
       "      <td>22</td>\n",
       "      <td>14.6</td>\n",
       "      <td>21.3</td>\n",
       "      <td>20.2</td>\n",
       "      <td>17.9</td>\n",
       "      <td>27.7</td>\n",
       "      <td>2020</td>\n",
       "      <td>0.0</td>\n",
       "      <td>0.0</td>\n",
       "      <td>0.0</td>\n",
       "      <td>1.0</td>\n",
       "      <td>0.0</td>\n",
       "      <td>0.0</td>\n",
       "      <td>0.0</td>\n",
       "      <td>1.0</td>\n",
       "      <td>0.0</td>\n",
       "      <td>0.0</td>\n",
       "      <td>0.0</td>\n",
       "      <td>1.0</td>\n",
       "      <td>0.0</td>\n",
       "      <td>0.0</td>\n",
       "      <td>0.0</td>\n",
       "      <td>0.0</td>\n",
       "    </tr>\n",
       "    <tr>\n",
       "      <th>371201</th>\n",
       "      <td>2589</td>\n",
       "      <td>60</td>\n",
       "      <td>26.0</td>\n",
       "      <td>21.9</td>\n",
       "      <td>22.7</td>\n",
       "      <td>10.6</td>\n",
       "      <td>30.5</td>\n",
       "      <td>2020</td>\n",
       "      <td>0.0</td>\n",
       "      <td>1.0</td>\n",
       "      <td>0.0</td>\n",
       "      <td>0.0</td>\n",
       "      <td>0.0</td>\n",
       "      <td>0.0</td>\n",
       "      <td>1.0</td>\n",
       "      <td>1.0</td>\n",
       "      <td>0.0</td>\n",
       "      <td>0.0</td>\n",
       "      <td>0.0</td>\n",
       "      <td>0.0</td>\n",
       "      <td>0.0</td>\n",
       "      <td>0.0</td>\n",
       "      <td>0.0</td>\n",
       "      <td>1.0</td>\n",
       "    </tr>\n",
       "  </tbody>\n",
       "</table>\n",
       "<p>371202 rows × 24 columns</p>\n",
       "</div>"
      ],
      "text/plain": [
       "        Patient_ID  Age  Registration_Duration  Nursing_Duration  \\\n",
       "0             2284   27                   22.9              32.9   \n",
       "1             3576   60                   24.1              13.9   \n",
       "2             4340   39                   26.9              17.1   \n",
       "3             2037   60                   28.9              36.6   \n",
       "4             1010   75                    2.4              53.7   \n",
       "...            ...  ...                    ...               ...   \n",
       "371197        2670   13                   20.9              33.8   \n",
       "371198        1965   56                   33.2               2.6   \n",
       "371199        2620    4                   45.1              45.2   \n",
       "371200        1488   22                   14.6              21.3   \n",
       "371201        2589   60                   26.0              21.9   \n",
       "\n",
       "        Laboratory_Duration  Consultation_Duration  Pharmacy_Duration  Year  \\\n",
       "0                      19.2                   25.6               33.1  2024   \n",
       "1                      39.0                   42.8               26.1  2022   \n",
       "2                      32.8                   29.9               13.8  2024   \n",
       "3                      15.3                   49.6               56.9  2022   \n",
       "4                      16.8                   45.3               36.0  2024   \n",
       "...                     ...                    ...                ...   ...   \n",
       "371197                 24.8                    0.8               31.2  2022   \n",
       "371198                 24.4                   23.9               16.3  2023   \n",
       "371199                 36.8                   36.2               32.1  2020   \n",
       "371200                 20.2                   17.9               27.7  2020   \n",
       "371201                 22.7                   10.6               30.5  2020   \n",
       "\n",
       "        Gender_Male  Gender_Other  Diagnosis_Prediabetes  \\\n",
       "0               0.0           0.0                    0.0   \n",
       "1               0.0           0.0                    0.0   \n",
       "2               1.0           0.0                    0.0   \n",
       "3               1.0           0.0                    0.0   \n",
       "4               0.0           0.0                    0.0   \n",
       "...             ...           ...                    ...   \n",
       "371197          1.0           0.0                    0.0   \n",
       "371198          1.0           0.0                    0.0   \n",
       "371199          1.0           0.0                    0.0   \n",
       "371200          0.0           0.0                    0.0   \n",
       "371201          0.0           1.0                    0.0   \n",
       "\n",
       "        Diagnosis_Type 1 Diabetes  Diagnosis_Type 2 Diabetes  \\\n",
       "0                             0.0                        1.0   \n",
       "1                             0.0                        1.0   \n",
       "2                             1.0                        0.0   \n",
       "3                             0.0                        0.0   \n",
       "4                             0.0                        1.0   \n",
       "...                           ...                        ...   \n",
       "371197                        1.0                        0.0   \n",
       "371198                        0.0                        1.0   \n",
       "371199                        0.0                        1.0   \n",
       "371200                        1.0                        0.0   \n",
       "371201                        0.0                        0.0   \n",
       "\n",
       "        Diagnosis_Type 3 Diabetes  Diagnosis_Unknown  Has_Insurance_Yes  \\\n",
       "0                             0.0                0.0                1.0   \n",
       "1                             0.0                0.0                1.0   \n",
       "2                             0.0                0.0                1.0   \n",
       "3                             0.0                1.0                1.0   \n",
       "4                             0.0                0.0                0.0   \n",
       "...                           ...                ...                ...   \n",
       "371197                        0.0                0.0                1.0   \n",
       "371198                        0.0                0.0                1.0   \n",
       "371199                        0.0                0.0                0.0   \n",
       "371200                        0.0                0.0                1.0   \n",
       "371201                        0.0                1.0                1.0   \n",
       "\n",
       "        Area_Al Qusais  Area_Bur Dubai  Area_Deira  Area_Downtown Dubai  \\\n",
       "0                  0.0             0.0         0.0                  1.0   \n",
       "1                  0.0             0.0         0.0                  1.0   \n",
       "2                  0.0             0.0         0.0                  0.0   \n",
       "3                  0.0             0.0         0.0                  0.0   \n",
       "4                  0.0             0.0         0.0                  0.0   \n",
       "...                ...             ...         ...                  ...   \n",
       "371197             0.0             0.0         0.0                  1.0   \n",
       "371198             0.0             0.0         0.0                  1.0   \n",
       "371199             0.0             0.0         0.0                  0.0   \n",
       "371200             0.0             0.0         0.0                  1.0   \n",
       "371201             0.0             0.0         0.0                  0.0   \n",
       "\n",
       "        Area_Dubai Marina  Area_Dubai Silicon Oasis  Area_International City  \\\n",
       "0                     0.0                       0.0                      0.0   \n",
       "1                     0.0                       0.0                      0.0   \n",
       "2                     0.0                       0.0                      0.0   \n",
       "3                     0.0                       0.0                      0.0   \n",
       "4                     0.0                       1.0                      0.0   \n",
       "...                   ...                       ...                      ...   \n",
       "371197                0.0                       0.0                      0.0   \n",
       "371198                0.0                       0.0                      0.0   \n",
       "371199                0.0                       0.0                      0.0   \n",
       "371200                0.0                       0.0                      0.0   \n",
       "371201                0.0                       0.0                      0.0   \n",
       "\n",
       "        Area_Jumeirah  \n",
       "0                 0.0  \n",
       "1                 0.0  \n",
       "2                 1.0  \n",
       "3                 1.0  \n",
       "4                 0.0  \n",
       "...               ...  \n",
       "371197            0.0  \n",
       "371198            0.0  \n",
       "371199            0.0  \n",
       "371200            0.0  \n",
       "371201            1.0  \n",
       "\n",
       "[371202 rows x 24 columns]"
      ]
     },
     "execution_count": 413,
     "metadata": {},
     "output_type": "execute_result"
    }
   ],
   "source": [
    "x_train= pd.concat([x_train,ohe_x_train] , axis= 1 ).drop(['Gender', 'Diagnosis', 'Has_Insurance', 'Area'], axis= 1)\n",
    "x_train"
   ]
  },
  {
   "cell_type": "code",
   "execution_count": null,
   "id": "0a70786e",
   "metadata": {},
   "outputs": [
    {
     "data": {
      "text/html": [
       "<div>\n",
       "<style scoped>\n",
       "    .dataframe tbody tr th:only-of-type {\n",
       "        vertical-align: middle;\n",
       "    }\n",
       "\n",
       "    .dataframe tbody tr th {\n",
       "        vertical-align: top;\n",
       "    }\n",
       "\n",
       "    .dataframe thead th {\n",
       "        text-align: right;\n",
       "    }\n",
       "</style>\n",
       "<table border=\"1\" class=\"dataframe\">\n",
       "  <thead>\n",
       "    <tr style=\"text-align: right;\">\n",
       "      <th></th>\n",
       "      <th>Patient_ID</th>\n",
       "      <th>Age</th>\n",
       "      <th>Registration_Duration</th>\n",
       "      <th>Nursing_Duration</th>\n",
       "      <th>Laboratory_Duration</th>\n",
       "      <th>Consultation_Duration</th>\n",
       "      <th>Pharmacy_Duration</th>\n",
       "      <th>Year</th>\n",
       "      <th>Gender_Male</th>\n",
       "      <th>Gender_Other</th>\n",
       "      <th>Diagnosis_Prediabetes</th>\n",
       "      <th>Diagnosis_Type 1 Diabetes</th>\n",
       "      <th>Diagnosis_Type 2 Diabetes</th>\n",
       "      <th>Diagnosis_Type 3 Diabetes</th>\n",
       "      <th>Diagnosis_Unknown</th>\n",
       "      <th>Has_Insurance_Yes</th>\n",
       "      <th>Area_Al Qusais</th>\n",
       "      <th>Area_Bur Dubai</th>\n",
       "      <th>Area_Deira</th>\n",
       "      <th>Area_Downtown Dubai</th>\n",
       "      <th>Area_Dubai Marina</th>\n",
       "      <th>Area_Dubai Silicon Oasis</th>\n",
       "      <th>Area_International City</th>\n",
       "      <th>Area_Jumeirah</th>\n",
       "    </tr>\n",
       "  </thead>\n",
       "  <tbody>\n",
       "    <tr>\n",
       "      <th>0</th>\n",
       "      <td>4151</td>\n",
       "      <td>20</td>\n",
       "      <td>18.9</td>\n",
       "      <td>23.2</td>\n",
       "      <td>48.8</td>\n",
       "      <td>33.5</td>\n",
       "      <td>73.8</td>\n",
       "      <td>2020</td>\n",
       "      <td>0.0</td>\n",
       "      <td>0.0</td>\n",
       "      <td>1.0</td>\n",
       "      <td>0.0</td>\n",
       "      <td>0.0</td>\n",
       "      <td>0.0</td>\n",
       "      <td>0.0</td>\n",
       "      <td>0.0</td>\n",
       "      <td>0.0</td>\n",
       "      <td>0.0</td>\n",
       "      <td>0.0</td>\n",
       "      <td>0.0</td>\n",
       "      <td>0.0</td>\n",
       "      <td>1.0</td>\n",
       "      <td>0.0</td>\n",
       "      <td>0.0</td>\n",
       "    </tr>\n",
       "    <tr>\n",
       "      <th>1</th>\n",
       "      <td>4304</td>\n",
       "      <td>29</td>\n",
       "      <td>14.9</td>\n",
       "      <td>17.8</td>\n",
       "      <td>19.8</td>\n",
       "      <td>16.3</td>\n",
       "      <td>29.5</td>\n",
       "      <td>2024</td>\n",
       "      <td>1.0</td>\n",
       "      <td>0.0</td>\n",
       "      <td>0.0</td>\n",
       "      <td>1.0</td>\n",
       "      <td>0.0</td>\n",
       "      <td>0.0</td>\n",
       "      <td>0.0</td>\n",
       "      <td>1.0</td>\n",
       "      <td>0.0</td>\n",
       "      <td>0.0</td>\n",
       "      <td>0.0</td>\n",
       "      <td>1.0</td>\n",
       "      <td>0.0</td>\n",
       "      <td>0.0</td>\n",
       "      <td>0.0</td>\n",
       "      <td>0.0</td>\n",
       "    </tr>\n",
       "    <tr>\n",
       "      <th>2</th>\n",
       "      <td>1503</td>\n",
       "      <td>50</td>\n",
       "      <td>13.6</td>\n",
       "      <td>28.4</td>\n",
       "      <td>10.1</td>\n",
       "      <td>9.7</td>\n",
       "      <td>21.3</td>\n",
       "      <td>2024</td>\n",
       "      <td>1.0</td>\n",
       "      <td>0.0</td>\n",
       "      <td>0.0</td>\n",
       "      <td>0.0</td>\n",
       "      <td>1.0</td>\n",
       "      <td>0.0</td>\n",
       "      <td>0.0</td>\n",
       "      <td>1.0</td>\n",
       "      <td>0.0</td>\n",
       "      <td>0.0</td>\n",
       "      <td>0.0</td>\n",
       "      <td>1.0</td>\n",
       "      <td>0.0</td>\n",
       "      <td>0.0</td>\n",
       "      <td>0.0</td>\n",
       "      <td>0.0</td>\n",
       "    </tr>\n",
       "    <tr>\n",
       "      <th>3</th>\n",
       "      <td>3662</td>\n",
       "      <td>32</td>\n",
       "      <td>21.0</td>\n",
       "      <td>25.7</td>\n",
       "      <td>7.2</td>\n",
       "      <td>27.3</td>\n",
       "      <td>20.5</td>\n",
       "      <td>2021</td>\n",
       "      <td>1.0</td>\n",
       "      <td>0.0</td>\n",
       "      <td>0.0</td>\n",
       "      <td>0.0</td>\n",
       "      <td>1.0</td>\n",
       "      <td>0.0</td>\n",
       "      <td>0.0</td>\n",
       "      <td>1.0</td>\n",
       "      <td>0.0</td>\n",
       "      <td>0.0</td>\n",
       "      <td>0.0</td>\n",
       "      <td>1.0</td>\n",
       "      <td>0.0</td>\n",
       "      <td>0.0</td>\n",
       "      <td>0.0</td>\n",
       "      <td>0.0</td>\n",
       "    </tr>\n",
       "    <tr>\n",
       "      <th>4</th>\n",
       "      <td>4086</td>\n",
       "      <td>18</td>\n",
       "      <td>21.5</td>\n",
       "      <td>24.8</td>\n",
       "      <td>0.4</td>\n",
       "      <td>22.7</td>\n",
       "      <td>27.6</td>\n",
       "      <td>2023</td>\n",
       "      <td>0.0</td>\n",
       "      <td>0.0</td>\n",
       "      <td>0.0</td>\n",
       "      <td>0.0</td>\n",
       "      <td>1.0</td>\n",
       "      <td>0.0</td>\n",
       "      <td>0.0</td>\n",
       "      <td>1.0</td>\n",
       "      <td>0.0</td>\n",
       "      <td>0.0</td>\n",
       "      <td>0.0</td>\n",
       "      <td>1.0</td>\n",
       "      <td>0.0</td>\n",
       "      <td>0.0</td>\n",
       "      <td>0.0</td>\n",
       "      <td>0.0</td>\n",
       "    </tr>\n",
       "    <tr>\n",
       "      <th>...</th>\n",
       "      <td>...</td>\n",
       "      <td>...</td>\n",
       "      <td>...</td>\n",
       "      <td>...</td>\n",
       "      <td>...</td>\n",
       "      <td>...</td>\n",
       "      <td>...</td>\n",
       "      <td>...</td>\n",
       "      <td>...</td>\n",
       "      <td>...</td>\n",
       "      <td>...</td>\n",
       "      <td>...</td>\n",
       "      <td>...</td>\n",
       "      <td>...</td>\n",
       "      <td>...</td>\n",
       "      <td>...</td>\n",
       "      <td>...</td>\n",
       "      <td>...</td>\n",
       "      <td>...</td>\n",
       "      <td>...</td>\n",
       "      <td>...</td>\n",
       "      <td>...</td>\n",
       "      <td>...</td>\n",
       "      <td>...</td>\n",
       "    </tr>\n",
       "    <tr>\n",
       "      <th>92796</th>\n",
       "      <td>2916</td>\n",
       "      <td>60</td>\n",
       "      <td>12.3</td>\n",
       "      <td>27.9</td>\n",
       "      <td>42.2</td>\n",
       "      <td>21.5</td>\n",
       "      <td>29.7</td>\n",
       "      <td>2024</td>\n",
       "      <td>1.0</td>\n",
       "      <td>0.0</td>\n",
       "      <td>0.0</td>\n",
       "      <td>0.0</td>\n",
       "      <td>1.0</td>\n",
       "      <td>0.0</td>\n",
       "      <td>0.0</td>\n",
       "      <td>1.0</td>\n",
       "      <td>0.0</td>\n",
       "      <td>0.0</td>\n",
       "      <td>0.0</td>\n",
       "      <td>1.0</td>\n",
       "      <td>0.0</td>\n",
       "      <td>0.0</td>\n",
       "      <td>0.0</td>\n",
       "      <td>0.0</td>\n",
       "    </tr>\n",
       "    <tr>\n",
       "      <th>92797</th>\n",
       "      <td>1247</td>\n",
       "      <td>52</td>\n",
       "      <td>22.4</td>\n",
       "      <td>28.7</td>\n",
       "      <td>32.3</td>\n",
       "      <td>34.0</td>\n",
       "      <td>29.1</td>\n",
       "      <td>2021</td>\n",
       "      <td>0.0</td>\n",
       "      <td>0.0</td>\n",
       "      <td>0.0</td>\n",
       "      <td>0.0</td>\n",
       "      <td>1.0</td>\n",
       "      <td>0.0</td>\n",
       "      <td>0.0</td>\n",
       "      <td>0.0</td>\n",
       "      <td>0.0</td>\n",
       "      <td>0.0</td>\n",
       "      <td>0.0</td>\n",
       "      <td>0.0</td>\n",
       "      <td>0.0</td>\n",
       "      <td>0.0</td>\n",
       "      <td>1.0</td>\n",
       "      <td>0.0</td>\n",
       "    </tr>\n",
       "    <tr>\n",
       "      <th>92798</th>\n",
       "      <td>2608</td>\n",
       "      <td>8</td>\n",
       "      <td>15.0</td>\n",
       "      <td>34.6</td>\n",
       "      <td>33.7</td>\n",
       "      <td>30.8</td>\n",
       "      <td>24.7</td>\n",
       "      <td>2021</td>\n",
       "      <td>1.0</td>\n",
       "      <td>0.0</td>\n",
       "      <td>0.0</td>\n",
       "      <td>0.0</td>\n",
       "      <td>0.0</td>\n",
       "      <td>0.0</td>\n",
       "      <td>1.0</td>\n",
       "      <td>1.0</td>\n",
       "      <td>0.0</td>\n",
       "      <td>0.0</td>\n",
       "      <td>0.0</td>\n",
       "      <td>1.0</td>\n",
       "      <td>0.0</td>\n",
       "      <td>0.0</td>\n",
       "      <td>0.0</td>\n",
       "      <td>0.0</td>\n",
       "    </tr>\n",
       "    <tr>\n",
       "      <th>92799</th>\n",
       "      <td>1922</td>\n",
       "      <td>39</td>\n",
       "      <td>23.9</td>\n",
       "      <td>22.2</td>\n",
       "      <td>21.8</td>\n",
       "      <td>32.5</td>\n",
       "      <td>39.2</td>\n",
       "      <td>2019</td>\n",
       "      <td>1.0</td>\n",
       "      <td>0.0</td>\n",
       "      <td>0.0</td>\n",
       "      <td>0.0</td>\n",
       "      <td>0.0</td>\n",
       "      <td>0.0</td>\n",
       "      <td>1.0</td>\n",
       "      <td>1.0</td>\n",
       "      <td>0.0</td>\n",
       "      <td>0.0</td>\n",
       "      <td>0.0</td>\n",
       "      <td>1.0</td>\n",
       "      <td>0.0</td>\n",
       "      <td>0.0</td>\n",
       "      <td>0.0</td>\n",
       "      <td>0.0</td>\n",
       "    </tr>\n",
       "    <tr>\n",
       "      <th>92800</th>\n",
       "      <td>4593</td>\n",
       "      <td>29</td>\n",
       "      <td>21.9</td>\n",
       "      <td>28.2</td>\n",
       "      <td>16.7</td>\n",
       "      <td>20.9</td>\n",
       "      <td>20.3</td>\n",
       "      <td>2023</td>\n",
       "      <td>0.0</td>\n",
       "      <td>0.0</td>\n",
       "      <td>0.0</td>\n",
       "      <td>0.0</td>\n",
       "      <td>1.0</td>\n",
       "      <td>0.0</td>\n",
       "      <td>0.0</td>\n",
       "      <td>1.0</td>\n",
       "      <td>0.0</td>\n",
       "      <td>0.0</td>\n",
       "      <td>1.0</td>\n",
       "      <td>0.0</td>\n",
       "      <td>0.0</td>\n",
       "      <td>0.0</td>\n",
       "      <td>0.0</td>\n",
       "      <td>0.0</td>\n",
       "    </tr>\n",
       "  </tbody>\n",
       "</table>\n",
       "<p>92801 rows × 24 columns</p>\n",
       "</div>"
      ],
      "text/plain": [
       "       Patient_ID  Age  Registration_Duration  Nursing_Duration  \\\n",
       "0            4151   20                   18.9              23.2   \n",
       "1            4304   29                   14.9              17.8   \n",
       "2            1503   50                   13.6              28.4   \n",
       "3            3662   32                   21.0              25.7   \n",
       "4            4086   18                   21.5              24.8   \n",
       "...           ...  ...                    ...               ...   \n",
       "92796        2916   60                   12.3              27.9   \n",
       "92797        1247   52                   22.4              28.7   \n",
       "92798        2608    8                   15.0              34.6   \n",
       "92799        1922   39                   23.9              22.2   \n",
       "92800        4593   29                   21.9              28.2   \n",
       "\n",
       "       Laboratory_Duration  Consultation_Duration  Pharmacy_Duration  Year  \\\n",
       "0                     48.8                   33.5               73.8  2020   \n",
       "1                     19.8                   16.3               29.5  2024   \n",
       "2                     10.1                    9.7               21.3  2024   \n",
       "3                      7.2                   27.3               20.5  2021   \n",
       "4                      0.4                   22.7               27.6  2023   \n",
       "...                    ...                    ...                ...   ...   \n",
       "92796                 42.2                   21.5               29.7  2024   \n",
       "92797                 32.3                   34.0               29.1  2021   \n",
       "92798                 33.7                   30.8               24.7  2021   \n",
       "92799                 21.8                   32.5               39.2  2019   \n",
       "92800                 16.7                   20.9               20.3  2023   \n",
       "\n",
       "       Gender_Male  Gender_Other  Diagnosis_Prediabetes  \\\n",
       "0              0.0           0.0                    1.0   \n",
       "1              1.0           0.0                    0.0   \n",
       "2              1.0           0.0                    0.0   \n",
       "3              1.0           0.0                    0.0   \n",
       "4              0.0           0.0                    0.0   \n",
       "...            ...           ...                    ...   \n",
       "92796          1.0           0.0                    0.0   \n",
       "92797          0.0           0.0                    0.0   \n",
       "92798          1.0           0.0                    0.0   \n",
       "92799          1.0           0.0                    0.0   \n",
       "92800          0.0           0.0                    0.0   \n",
       "\n",
       "       Diagnosis_Type 1 Diabetes  Diagnosis_Type 2 Diabetes  \\\n",
       "0                            0.0                        0.0   \n",
       "1                            1.0                        0.0   \n",
       "2                            0.0                        1.0   \n",
       "3                            0.0                        1.0   \n",
       "4                            0.0                        1.0   \n",
       "...                          ...                        ...   \n",
       "92796                        0.0                        1.0   \n",
       "92797                        0.0                        1.0   \n",
       "92798                        0.0                        0.0   \n",
       "92799                        0.0                        0.0   \n",
       "92800                        0.0                        1.0   \n",
       "\n",
       "       Diagnosis_Type 3 Diabetes  Diagnosis_Unknown  Has_Insurance_Yes  \\\n",
       "0                            0.0                0.0                0.0   \n",
       "1                            0.0                0.0                1.0   \n",
       "2                            0.0                0.0                1.0   \n",
       "3                            0.0                0.0                1.0   \n",
       "4                            0.0                0.0                1.0   \n",
       "...                          ...                ...                ...   \n",
       "92796                        0.0                0.0                1.0   \n",
       "92797                        0.0                0.0                0.0   \n",
       "92798                        0.0                1.0                1.0   \n",
       "92799                        0.0                1.0                1.0   \n",
       "92800                        0.0                0.0                1.0   \n",
       "\n",
       "       Area_Al Qusais  Area_Bur Dubai  Area_Deira  Area_Downtown Dubai  \\\n",
       "0                 0.0             0.0         0.0                  0.0   \n",
       "1                 0.0             0.0         0.0                  1.0   \n",
       "2                 0.0             0.0         0.0                  1.0   \n",
       "3                 0.0             0.0         0.0                  1.0   \n",
       "4                 0.0             0.0         0.0                  1.0   \n",
       "...               ...             ...         ...                  ...   \n",
       "92796             0.0             0.0         0.0                  1.0   \n",
       "92797             0.0             0.0         0.0                  0.0   \n",
       "92798             0.0             0.0         0.0                  1.0   \n",
       "92799             0.0             0.0         0.0                  1.0   \n",
       "92800             0.0             0.0         1.0                  0.0   \n",
       "\n",
       "       Area_Dubai Marina  Area_Dubai Silicon Oasis  Area_International City  \\\n",
       "0                    0.0                       1.0                      0.0   \n",
       "1                    0.0                       0.0                      0.0   \n",
       "2                    0.0                       0.0                      0.0   \n",
       "3                    0.0                       0.0                      0.0   \n",
       "4                    0.0                       0.0                      0.0   \n",
       "...                  ...                       ...                      ...   \n",
       "92796                0.0                       0.0                      0.0   \n",
       "92797                0.0                       0.0                      1.0   \n",
       "92798                0.0                       0.0                      0.0   \n",
       "92799                0.0                       0.0                      0.0   \n",
       "92800                0.0                       0.0                      0.0   \n",
       "\n",
       "       Area_Jumeirah  \n",
       "0                0.0  \n",
       "1                0.0  \n",
       "2                0.0  \n",
       "3                0.0  \n",
       "4                0.0  \n",
       "...              ...  \n",
       "92796            0.0  \n",
       "92797            0.0  \n",
       "92798            0.0  \n",
       "92799            0.0  \n",
       "92800            0.0  \n",
       "\n",
       "[92801 rows x 24 columns]"
      ]
     },
     "execution_count": 414,
     "metadata": {},
     "output_type": "execute_result"
    }
   ],
   "source": [
    "x_test = pd.concat([x_test,ohe_x_test] , axis= 1).drop(['Gender', 'Diagnosis', 'Has_Insurance', 'Area'], axis= 1 )\n",
    "x_test"
   ]
  },
  {
   "cell_type": "code",
   "execution_count": null,
   "id": "68b3acbd",
   "metadata": {},
   "outputs": [
    {
     "data": {
      "text/plain": [
       "Index(['Patient_ID', 'Age', 'Registration_Duration', 'Nursing_Duration',\n",
       "       'Laboratory_Duration', 'Consultation_Duration', 'Pharmacy_Duration',\n",
       "       'Year', 'Gender_Male', 'Gender_Other', 'Diagnosis_Prediabetes',\n",
       "       'Diagnosis_Type 1 Diabetes', 'Diagnosis_Type 2 Diabetes',\n",
       "       'Diagnosis_Type 3 Diabetes', 'Diagnosis_Unknown', 'Has_Insurance_Yes',\n",
       "       'Area_Al Qusais', 'Area_Bur Dubai', 'Area_Deira', 'Area_Downtown Dubai',\n",
       "       'Area_Dubai Marina', 'Area_Dubai Silicon Oasis',\n",
       "       'Area_International City', 'Area_Jumeirah'],\n",
       "      dtype='object')"
      ]
     },
     "execution_count": 417,
     "metadata": {},
     "output_type": "execute_result"
    }
   ],
   "source": [
    "x_train.columns"
   ]
  },
  {
   "cell_type": "code",
   "execution_count": null,
   "id": "96136f09",
   "metadata": {},
   "outputs": [
    {
     "data": {
      "text/plain": [
       "Index(['Patient_ID', 'Age', 'Registration_Duration', 'Nursing_Duration',\n",
       "       'Laboratory_Duration', 'Consultation_Duration', 'Pharmacy_Duration',\n",
       "       'Year', 'Gender_Male', 'Gender_Other', 'Diagnosis_Prediabetes',\n",
       "       'Diagnosis_Type 1 Diabetes', 'Diagnosis_Type 2 Diabetes',\n",
       "       'Diagnosis_Type 3 Diabetes', 'Diagnosis_Unknown', 'Has_Insurance_Yes',\n",
       "       'Area_Al Qusais', 'Area_Bur Dubai', 'Area_Deira', 'Area_Downtown Dubai',\n",
       "       'Area_Dubai Marina', 'Area_Dubai Silicon Oasis',\n",
       "       'Area_International City', 'Area_Jumeirah'],\n",
       "      dtype='object')"
      ]
     },
     "execution_count": 419,
     "metadata": {},
     "output_type": "execute_result"
    }
   ],
   "source": [
    "x_test.columns"
   ]
  },
  {
   "cell_type": "code",
   "execution_count": null,
   "id": "7e2def03",
   "metadata": {},
   "outputs": [],
   "source": [
    "scaled_cols = ['Patient_ID', 'Age', 'Registration_Duration', 'Nursing_Duration',\n",
    "       'Laboratory_Duration', 'Consultation_Duration', 'Pharmacy_Duration',\n",
    "       'Year', 'Gender_Male', 'Gender_Other', 'Diagnosis_Prediabetes',\n",
    "       'Diagnosis_Type 1 Diabetes', 'Diagnosis_Type 2 Diabetes',\n",
    "       'Diagnosis_Type 3 Diabetes', 'Diagnosis_Unknown', 'Has_Insurance_Yes',\n",
    "       'Area_Al Qusais', 'Area_Bur Dubai', 'Area_Deira', 'Area_Downtown Dubai',\n",
    "       'Area_Dubai Marina', 'Area_Dubai Silicon Oasis',\n",
    "       'Area_International City', 'Area_Jumeirah']"
   ]
  },
  {
   "cell_type": "code",
   "execution_count": null,
   "id": "d14fe9cb",
   "metadata": {},
   "outputs": [],
   "source": [
    "from sklearn.preprocessing import RobustScaler\n",
    "\n",
    "rc = RobustScaler()\n",
    "\n",
    "x_train[scaled_cols] = rc.fit_transform(x_train[scaled_cols])\n",
    "\n",
    "x_test[scaled_cols] = rc.transform(x_test[scaled_cols])"
   ]
  },
  {
   "cell_type": "code",
   "execution_count": null,
   "id": "2adada78",
   "metadata": {},
   "outputs": [
    {
     "data": {
      "text/html": [
       "<div>\n",
       "<style scoped>\n",
       "    .dataframe tbody tr th:only-of-type {\n",
       "        vertical-align: middle;\n",
       "    }\n",
       "\n",
       "    .dataframe tbody tr th {\n",
       "        vertical-align: top;\n",
       "    }\n",
       "\n",
       "    .dataframe thead th {\n",
       "        text-align: right;\n",
       "    }\n",
       "</style>\n",
       "<table border=\"1\" class=\"dataframe\">\n",
       "  <thead>\n",
       "    <tr style=\"text-align: right;\">\n",
       "      <th></th>\n",
       "      <th>Patient_ID</th>\n",
       "      <th>Age</th>\n",
       "      <th>Registration_Duration</th>\n",
       "      <th>Nursing_Duration</th>\n",
       "      <th>Laboratory_Duration</th>\n",
       "      <th>Consultation_Duration</th>\n",
       "      <th>Pharmacy_Duration</th>\n",
       "      <th>Year</th>\n",
       "      <th>Gender_Male</th>\n",
       "      <th>Gender_Other</th>\n",
       "      <th>Diagnosis_Prediabetes</th>\n",
       "      <th>Diagnosis_Type 1 Diabetes</th>\n",
       "      <th>Diagnosis_Type 2 Diabetes</th>\n",
       "      <th>Diagnosis_Type 3 Diabetes</th>\n",
       "      <th>Diagnosis_Unknown</th>\n",
       "      <th>Has_Insurance_Yes</th>\n",
       "      <th>Area_Al Qusais</th>\n",
       "      <th>Area_Bur Dubai</th>\n",
       "      <th>Area_Deira</th>\n",
       "      <th>Area_Downtown Dubai</th>\n",
       "      <th>Area_Dubai Marina</th>\n",
       "      <th>Area_Dubai Silicon Oasis</th>\n",
       "      <th>Area_International City</th>\n",
       "      <th>Area_Jumeirah</th>\n",
       "    </tr>\n",
       "  </thead>\n",
       "  <tbody>\n",
       "    <tr>\n",
       "      <th>0</th>\n",
       "      <td>-0.3560</td>\n",
       "      <td>-0.346154</td>\n",
       "      <td>0.077922</td>\n",
       "      <td>0.406452</td>\n",
       "      <td>-0.483871</td>\n",
       "      <td>-0.071429</td>\n",
       "      <td>0.419355</td>\n",
       "      <td>1.000000</td>\n",
       "      <td>-1.0</td>\n",
       "      <td>0.0</td>\n",
       "      <td>0.0</td>\n",
       "      <td>0.0</td>\n",
       "      <td>0.0</td>\n",
       "      <td>0.0</td>\n",
       "      <td>0.0</td>\n",
       "      <td>0.0</td>\n",
       "      <td>0.0</td>\n",
       "      <td>0.0</td>\n",
       "      <td>0.0</td>\n",
       "      <td>1.0</td>\n",
       "      <td>0.0</td>\n",
       "      <td>0.0</td>\n",
       "      <td>0.0</td>\n",
       "      <td>0.0</td>\n",
       "    </tr>\n",
       "    <tr>\n",
       "      <th>1</th>\n",
       "      <td>0.2900</td>\n",
       "      <td>0.923077</td>\n",
       "      <td>0.155844</td>\n",
       "      <td>-0.819355</td>\n",
       "      <td>0.793548</td>\n",
       "      <td>1.045455</td>\n",
       "      <td>-0.032258</td>\n",
       "      <td>0.333333</td>\n",
       "      <td>-1.0</td>\n",
       "      <td>0.0</td>\n",
       "      <td>0.0</td>\n",
       "      <td>0.0</td>\n",
       "      <td>0.0</td>\n",
       "      <td>0.0</td>\n",
       "      <td>0.0</td>\n",
       "      <td>0.0</td>\n",
       "      <td>0.0</td>\n",
       "      <td>0.0</td>\n",
       "      <td>0.0</td>\n",
       "      <td>1.0</td>\n",
       "      <td>0.0</td>\n",
       "      <td>0.0</td>\n",
       "      <td>0.0</td>\n",
       "      <td>0.0</td>\n",
       "    </tr>\n",
       "    <tr>\n",
       "      <th>2</th>\n",
       "      <td>0.6720</td>\n",
       "      <td>0.115385</td>\n",
       "      <td>0.337662</td>\n",
       "      <td>-0.612903</td>\n",
       "      <td>0.393548</td>\n",
       "      <td>0.207792</td>\n",
       "      <td>-0.825806</td>\n",
       "      <td>1.000000</td>\n",
       "      <td>0.0</td>\n",
       "      <td>0.0</td>\n",
       "      <td>0.0</td>\n",
       "      <td>1.0</td>\n",
       "      <td>-1.0</td>\n",
       "      <td>0.0</td>\n",
       "      <td>0.0</td>\n",
       "      <td>0.0</td>\n",
       "      <td>0.0</td>\n",
       "      <td>0.0</td>\n",
       "      <td>0.0</td>\n",
       "      <td>0.0</td>\n",
       "      <td>0.0</td>\n",
       "      <td>0.0</td>\n",
       "      <td>0.0</td>\n",
       "      <td>1.0</td>\n",
       "    </tr>\n",
       "    <tr>\n",
       "      <th>3</th>\n",
       "      <td>-0.4795</td>\n",
       "      <td>0.923077</td>\n",
       "      <td>0.467532</td>\n",
       "      <td>0.645161</td>\n",
       "      <td>-0.735484</td>\n",
       "      <td>1.487013</td>\n",
       "      <td>1.954839</td>\n",
       "      <td>0.333333</td>\n",
       "      <td>0.0</td>\n",
       "      <td>0.0</td>\n",
       "      <td>0.0</td>\n",
       "      <td>0.0</td>\n",
       "      <td>-1.0</td>\n",
       "      <td>0.0</td>\n",
       "      <td>1.0</td>\n",
       "      <td>0.0</td>\n",
       "      <td>0.0</td>\n",
       "      <td>0.0</td>\n",
       "      <td>0.0</td>\n",
       "      <td>0.0</td>\n",
       "      <td>0.0</td>\n",
       "      <td>0.0</td>\n",
       "      <td>0.0</td>\n",
       "      <td>1.0</td>\n",
       "    </tr>\n",
       "    <tr>\n",
       "      <th>4</th>\n",
       "      <td>-0.9930</td>\n",
       "      <td>1.500000</td>\n",
       "      <td>-1.253247</td>\n",
       "      <td>1.748387</td>\n",
       "      <td>-0.638710</td>\n",
       "      <td>1.207792</td>\n",
       "      <td>0.606452</td>\n",
       "      <td>1.000000</td>\n",
       "      <td>-1.0</td>\n",
       "      <td>0.0</td>\n",
       "      <td>0.0</td>\n",
       "      <td>0.0</td>\n",
       "      <td>0.0</td>\n",
       "      <td>0.0</td>\n",
       "      <td>0.0</td>\n",
       "      <td>-1.0</td>\n",
       "      <td>0.0</td>\n",
       "      <td>0.0</td>\n",
       "      <td>0.0</td>\n",
       "      <td>0.0</td>\n",
       "      <td>0.0</td>\n",
       "      <td>1.0</td>\n",
       "      <td>0.0</td>\n",
       "      <td>0.0</td>\n",
       "    </tr>\n",
       "    <tr>\n",
       "      <th>...</th>\n",
       "      <td>...</td>\n",
       "      <td>...</td>\n",
       "      <td>...</td>\n",
       "      <td>...</td>\n",
       "      <td>...</td>\n",
       "      <td>...</td>\n",
       "      <td>...</td>\n",
       "      <td>...</td>\n",
       "      <td>...</td>\n",
       "      <td>...</td>\n",
       "      <td>...</td>\n",
       "      <td>...</td>\n",
       "      <td>...</td>\n",
       "      <td>...</td>\n",
       "      <td>...</td>\n",
       "      <td>...</td>\n",
       "      <td>...</td>\n",
       "      <td>...</td>\n",
       "      <td>...</td>\n",
       "      <td>...</td>\n",
       "      <td>...</td>\n",
       "      <td>...</td>\n",
       "      <td>...</td>\n",
       "      <td>...</td>\n",
       "    </tr>\n",
       "    <tr>\n",
       "      <th>371197</th>\n",
       "      <td>-0.1630</td>\n",
       "      <td>-0.884615</td>\n",
       "      <td>-0.051948</td>\n",
       "      <td>0.464516</td>\n",
       "      <td>-0.122581</td>\n",
       "      <td>-1.681818</td>\n",
       "      <td>0.296774</td>\n",
       "      <td>0.333333</td>\n",
       "      <td>0.0</td>\n",
       "      <td>0.0</td>\n",
       "      <td>0.0</td>\n",
       "      <td>1.0</td>\n",
       "      <td>-1.0</td>\n",
       "      <td>0.0</td>\n",
       "      <td>0.0</td>\n",
       "      <td>0.0</td>\n",
       "      <td>0.0</td>\n",
       "      <td>0.0</td>\n",
       "      <td>0.0</td>\n",
       "      <td>1.0</td>\n",
       "      <td>0.0</td>\n",
       "      <td>0.0</td>\n",
       "      <td>0.0</td>\n",
       "      <td>0.0</td>\n",
       "    </tr>\n",
       "    <tr>\n",
       "      <th>371198</th>\n",
       "      <td>-0.5155</td>\n",
       "      <td>0.769231</td>\n",
       "      <td>0.746753</td>\n",
       "      <td>-1.548387</td>\n",
       "      <td>-0.148387</td>\n",
       "      <td>-0.181818</td>\n",
       "      <td>-0.664516</td>\n",
       "      <td>0.666667</td>\n",
       "      <td>0.0</td>\n",
       "      <td>0.0</td>\n",
       "      <td>0.0</td>\n",
       "      <td>0.0</td>\n",
       "      <td>0.0</td>\n",
       "      <td>0.0</td>\n",
       "      <td>0.0</td>\n",
       "      <td>0.0</td>\n",
       "      <td>0.0</td>\n",
       "      <td>0.0</td>\n",
       "      <td>0.0</td>\n",
       "      <td>1.0</td>\n",
       "      <td>0.0</td>\n",
       "      <td>0.0</td>\n",
       "      <td>0.0</td>\n",
       "      <td>0.0</td>\n",
       "    </tr>\n",
       "    <tr>\n",
       "      <th>371199</th>\n",
       "      <td>-0.1880</td>\n",
       "      <td>-1.230769</td>\n",
       "      <td>1.519481</td>\n",
       "      <td>1.200000</td>\n",
       "      <td>0.651613</td>\n",
       "      <td>0.616883</td>\n",
       "      <td>0.354839</td>\n",
       "      <td>-0.333333</td>\n",
       "      <td>0.0</td>\n",
       "      <td>0.0</td>\n",
       "      <td>0.0</td>\n",
       "      <td>0.0</td>\n",
       "      <td>0.0</td>\n",
       "      <td>0.0</td>\n",
       "      <td>0.0</td>\n",
       "      <td>-1.0</td>\n",
       "      <td>0.0</td>\n",
       "      <td>0.0</td>\n",
       "      <td>0.0</td>\n",
       "      <td>0.0</td>\n",
       "      <td>0.0</td>\n",
       "      <td>0.0</td>\n",
       "      <td>0.0</td>\n",
       "      <td>0.0</td>\n",
       "    </tr>\n",
       "    <tr>\n",
       "      <th>371200</th>\n",
       "      <td>-0.7540</td>\n",
       "      <td>-0.538462</td>\n",
       "      <td>-0.461039</td>\n",
       "      <td>-0.341935</td>\n",
       "      <td>-0.419355</td>\n",
       "      <td>-0.571429</td>\n",
       "      <td>0.070968</td>\n",
       "      <td>-0.333333</td>\n",
       "      <td>-1.0</td>\n",
       "      <td>0.0</td>\n",
       "      <td>0.0</td>\n",
       "      <td>1.0</td>\n",
       "      <td>-1.0</td>\n",
       "      <td>0.0</td>\n",
       "      <td>0.0</td>\n",
       "      <td>0.0</td>\n",
       "      <td>0.0</td>\n",
       "      <td>0.0</td>\n",
       "      <td>0.0</td>\n",
       "      <td>1.0</td>\n",
       "      <td>0.0</td>\n",
       "      <td>0.0</td>\n",
       "      <td>0.0</td>\n",
       "      <td>0.0</td>\n",
       "    </tr>\n",
       "    <tr>\n",
       "      <th>371201</th>\n",
       "      <td>-0.2035</td>\n",
       "      <td>0.923077</td>\n",
       "      <td>0.279221</td>\n",
       "      <td>-0.303226</td>\n",
       "      <td>-0.258065</td>\n",
       "      <td>-1.045455</td>\n",
       "      <td>0.251613</td>\n",
       "      <td>-0.333333</td>\n",
       "      <td>-1.0</td>\n",
       "      <td>1.0</td>\n",
       "      <td>0.0</td>\n",
       "      <td>0.0</td>\n",
       "      <td>-1.0</td>\n",
       "      <td>0.0</td>\n",
       "      <td>1.0</td>\n",
       "      <td>0.0</td>\n",
       "      <td>0.0</td>\n",
       "      <td>0.0</td>\n",
       "      <td>0.0</td>\n",
       "      <td>0.0</td>\n",
       "      <td>0.0</td>\n",
       "      <td>0.0</td>\n",
       "      <td>0.0</td>\n",
       "      <td>1.0</td>\n",
       "    </tr>\n",
       "  </tbody>\n",
       "</table>\n",
       "<p>371202 rows × 24 columns</p>\n",
       "</div>"
      ],
      "text/plain": [
       "        Patient_ID       Age  Registration_Duration  Nursing_Duration  \\\n",
       "0          -0.3560 -0.346154               0.077922          0.406452   \n",
       "1           0.2900  0.923077               0.155844         -0.819355   \n",
       "2           0.6720  0.115385               0.337662         -0.612903   \n",
       "3          -0.4795  0.923077               0.467532          0.645161   \n",
       "4          -0.9930  1.500000              -1.253247          1.748387   \n",
       "...            ...       ...                    ...               ...   \n",
       "371197     -0.1630 -0.884615              -0.051948          0.464516   \n",
       "371198     -0.5155  0.769231               0.746753         -1.548387   \n",
       "371199     -0.1880 -1.230769               1.519481          1.200000   \n",
       "371200     -0.7540 -0.538462              -0.461039         -0.341935   \n",
       "371201     -0.2035  0.923077               0.279221         -0.303226   \n",
       "\n",
       "        Laboratory_Duration  Consultation_Duration  Pharmacy_Duration  \\\n",
       "0                 -0.483871              -0.071429           0.419355   \n",
       "1                  0.793548               1.045455          -0.032258   \n",
       "2                  0.393548               0.207792          -0.825806   \n",
       "3                 -0.735484               1.487013           1.954839   \n",
       "4                 -0.638710               1.207792           0.606452   \n",
       "...                     ...                    ...                ...   \n",
       "371197            -0.122581              -1.681818           0.296774   \n",
       "371198            -0.148387              -0.181818          -0.664516   \n",
       "371199             0.651613               0.616883           0.354839   \n",
       "371200            -0.419355              -0.571429           0.070968   \n",
       "371201            -0.258065              -1.045455           0.251613   \n",
       "\n",
       "            Year  Gender_Male  Gender_Other  Diagnosis_Prediabetes  \\\n",
       "0       1.000000         -1.0           0.0                    0.0   \n",
       "1       0.333333         -1.0           0.0                    0.0   \n",
       "2       1.000000          0.0           0.0                    0.0   \n",
       "3       0.333333          0.0           0.0                    0.0   \n",
       "4       1.000000         -1.0           0.0                    0.0   \n",
       "...          ...          ...           ...                    ...   \n",
       "371197  0.333333          0.0           0.0                    0.0   \n",
       "371198  0.666667          0.0           0.0                    0.0   \n",
       "371199 -0.333333          0.0           0.0                    0.0   \n",
       "371200 -0.333333         -1.0           0.0                    0.0   \n",
       "371201 -0.333333         -1.0           1.0                    0.0   \n",
       "\n",
       "        Diagnosis_Type 1 Diabetes  Diagnosis_Type 2 Diabetes  \\\n",
       "0                             0.0                        0.0   \n",
       "1                             0.0                        0.0   \n",
       "2                             1.0                       -1.0   \n",
       "3                             0.0                       -1.0   \n",
       "4                             0.0                        0.0   \n",
       "...                           ...                        ...   \n",
       "371197                        1.0                       -1.0   \n",
       "371198                        0.0                        0.0   \n",
       "371199                        0.0                        0.0   \n",
       "371200                        1.0                       -1.0   \n",
       "371201                        0.0                       -1.0   \n",
       "\n",
       "        Diagnosis_Type 3 Diabetes  Diagnosis_Unknown  Has_Insurance_Yes  \\\n",
       "0                             0.0                0.0                0.0   \n",
       "1                             0.0                0.0                0.0   \n",
       "2                             0.0                0.0                0.0   \n",
       "3                             0.0                1.0                0.0   \n",
       "4                             0.0                0.0               -1.0   \n",
       "...                           ...                ...                ...   \n",
       "371197                        0.0                0.0                0.0   \n",
       "371198                        0.0                0.0                0.0   \n",
       "371199                        0.0                0.0               -1.0   \n",
       "371200                        0.0                0.0                0.0   \n",
       "371201                        0.0                1.0                0.0   \n",
       "\n",
       "        Area_Al Qusais  Area_Bur Dubai  Area_Deira  Area_Downtown Dubai  \\\n",
       "0                  0.0             0.0         0.0                  1.0   \n",
       "1                  0.0             0.0         0.0                  1.0   \n",
       "2                  0.0             0.0         0.0                  0.0   \n",
       "3                  0.0             0.0         0.0                  0.0   \n",
       "4                  0.0             0.0         0.0                  0.0   \n",
       "...                ...             ...         ...                  ...   \n",
       "371197             0.0             0.0         0.0                  1.0   \n",
       "371198             0.0             0.0         0.0                  1.0   \n",
       "371199             0.0             0.0         0.0                  0.0   \n",
       "371200             0.0             0.0         0.0                  1.0   \n",
       "371201             0.0             0.0         0.0                  0.0   \n",
       "\n",
       "        Area_Dubai Marina  Area_Dubai Silicon Oasis  Area_International City  \\\n",
       "0                     0.0                       0.0                      0.0   \n",
       "1                     0.0                       0.0                      0.0   \n",
       "2                     0.0                       0.0                      0.0   \n",
       "3                     0.0                       0.0                      0.0   \n",
       "4                     0.0                       1.0                      0.0   \n",
       "...                   ...                       ...                      ...   \n",
       "371197                0.0                       0.0                      0.0   \n",
       "371198                0.0                       0.0                      0.0   \n",
       "371199                0.0                       0.0                      0.0   \n",
       "371200                0.0                       0.0                      0.0   \n",
       "371201                0.0                       0.0                      0.0   \n",
       "\n",
       "        Area_Jumeirah  \n",
       "0                 0.0  \n",
       "1                 0.0  \n",
       "2                 1.0  \n",
       "3                 1.0  \n",
       "4                 0.0  \n",
       "...               ...  \n",
       "371197            0.0  \n",
       "371198            0.0  \n",
       "371199            0.0  \n",
       "371200            0.0  \n",
       "371201            1.0  \n",
       "\n",
       "[371202 rows x 24 columns]"
      ]
     },
     "execution_count": 422,
     "metadata": {},
     "output_type": "execute_result"
    }
   ],
   "source": [
    "x_train"
   ]
  },
  {
   "cell_type": "code",
   "execution_count": null,
   "id": "f812bc89",
   "metadata": {},
   "outputs": [],
   "source": []
  }
 ],
 "metadata": {
  "kernelspec": {
   "display_name": "DS",
   "language": "python",
   "name": "python3"
  },
  "language_info": {
   "codemirror_mode": {
    "name": "ipython",
    "version": 3
   },
   "file_extension": ".py",
   "mimetype": "text/x-python",
   "name": "python",
   "nbconvert_exporter": "python",
   "pygments_lexer": "ipython3",
   "version": "3.12.9"
  }
 },
 "nbformat": 4,
 "nbformat_minor": 5
}
